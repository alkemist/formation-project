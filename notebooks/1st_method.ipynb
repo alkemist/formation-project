{
 "cells": [
  {
   "cell_type": "code",
   "id": "initial_id",
   "metadata": {
    "collapsed": true,
    "ExecuteTime": {
     "end_time": "2025-10-10T18:26:54.388955Z",
     "start_time": "2025-10-10T18:26:54.384314Z"
    }
   },
   "source": [
    "from typing import List\n",
    "\n",
    "import numpy as np\n",
    "import pandas as pd\n",
    "import plotly.express as px\n",
    "from sklearn.preprocessing import StandardScaler\n",
    "from sklearn.cluster import KMeans\n",
    "from sklearn.mixture import GaussianMixture\n",
    "from folium import Map, CircleMarker, PolyLine, FeatureGroup\n",
    "\n",
    "from formation.helpers.map import calcul_distances, calcul_distance, calcul_centroids, calcul_min_path"
   ],
   "outputs": [],
   "execution_count": 280
  },
  {
   "metadata": {
    "ExecuteTime": {
     "end_time": "2025-10-10T18:26:54.639621Z",
     "start_time": "2025-10-10T18:26:54.635711Z"
    }
   },
   "cell_type": "code",
   "source": [
    "COLORS = px.colors.qualitative.Vivid\n",
    "\n",
    "city_count = 70"
   ],
   "id": "52a6a0ef10bf09ae",
   "outputs": [],
   "execution_count": 281
  },
  {
   "metadata": {
    "ExecuteTime": {
     "end_time": "2025-10-10T18:26:55.087146Z",
     "start_time": "2025-10-10T18:26:54.975400Z"
    }
   },
   "cell_type": "code",
   "source": [
    "df_cities = pd.read_csv(\n",
    "    '../data/formated/cities-france.csv',\n",
    "    dtype={'code_insee': str, 'dep_code': str, 'nom_standard': str, 'latitude_mairie': float, 'longitude_mairie': float},\n",
    ").rename(columns={'code_insee': 'index', 'nom_standard': 'name', 'latitude_mairie': 'lat', 'longitude_mairie': 'lng'}) \\\n",
    "    .set_index('index') \\\n",
    "    .loc[:, ['name', 'lat', 'lng']]"
   ],
   "id": "76b16681bc294897",
   "outputs": [],
   "execution_count": 282
  },
  {
   "metadata": {
    "ExecuteTime": {
     "end_time": "2025-10-10T18:26:55.495823Z",
     "start_time": "2025-10-10T18:26:55.474301Z"
    }
   },
   "cell_type": "code",
   "source": [
    "df_cities_random = df_cities.sample(city_count)\n",
    "\n",
    "df_cities_random"
   ],
   "id": "9869b3b743851b0d",
   "outputs": [
    {
     "data": {
      "text/plain": [
       "                                name     lat    lng\n",
       "index                                              \n",
       "47225                      Roquefort  44.174  0.561\n",
       "71399  Saint-Christophe-en-Brionnais  46.288  4.178\n",
       "42062                     Chevrières  45.589  4.400\n",
       "90104                       Vézelois  47.607  6.918\n",
       "35001                         Acigné  48.134 -1.534\n",
       "...                              ...     ...    ...\n",
       "01309                       Pouillat  46.327  5.428\n",
       "43027                       Berbezit  45.285  3.596\n",
       "67315     Neewiller-près-Lauterbourg  48.954  8.125\n",
       "80293                        Ételfay  49.662  2.620\n",
       "63148                        Ennezat  45.898  3.226\n",
       "\n",
       "[70 rows x 3 columns]"
      ],
      "text/html": [
       "<div>\n",
       "<style scoped>\n",
       "    .dataframe tbody tr th:only-of-type {\n",
       "        vertical-align: middle;\n",
       "    }\n",
       "\n",
       "    .dataframe tbody tr th {\n",
       "        vertical-align: top;\n",
       "    }\n",
       "\n",
       "    .dataframe thead th {\n",
       "        text-align: right;\n",
       "    }\n",
       "</style>\n",
       "<table border=\"1\" class=\"dataframe\">\n",
       "  <thead>\n",
       "    <tr style=\"text-align: right;\">\n",
       "      <th></th>\n",
       "      <th>name</th>\n",
       "      <th>lat</th>\n",
       "      <th>lng</th>\n",
       "    </tr>\n",
       "    <tr>\n",
       "      <th>index</th>\n",
       "      <th></th>\n",
       "      <th></th>\n",
       "      <th></th>\n",
       "    </tr>\n",
       "  </thead>\n",
       "  <tbody>\n",
       "    <tr>\n",
       "      <th>47225</th>\n",
       "      <td>Roquefort</td>\n",
       "      <td>44.174</td>\n",
       "      <td>0.561</td>\n",
       "    </tr>\n",
       "    <tr>\n",
       "      <th>71399</th>\n",
       "      <td>Saint-Christophe-en-Brionnais</td>\n",
       "      <td>46.288</td>\n",
       "      <td>4.178</td>\n",
       "    </tr>\n",
       "    <tr>\n",
       "      <th>42062</th>\n",
       "      <td>Chevrières</td>\n",
       "      <td>45.589</td>\n",
       "      <td>4.400</td>\n",
       "    </tr>\n",
       "    <tr>\n",
       "      <th>90104</th>\n",
       "      <td>Vézelois</td>\n",
       "      <td>47.607</td>\n",
       "      <td>6.918</td>\n",
       "    </tr>\n",
       "    <tr>\n",
       "      <th>35001</th>\n",
       "      <td>Acigné</td>\n",
       "      <td>48.134</td>\n",
       "      <td>-1.534</td>\n",
       "    </tr>\n",
       "    <tr>\n",
       "      <th>...</th>\n",
       "      <td>...</td>\n",
       "      <td>...</td>\n",
       "      <td>...</td>\n",
       "    </tr>\n",
       "    <tr>\n",
       "      <th>01309</th>\n",
       "      <td>Pouillat</td>\n",
       "      <td>46.327</td>\n",
       "      <td>5.428</td>\n",
       "    </tr>\n",
       "    <tr>\n",
       "      <th>43027</th>\n",
       "      <td>Berbezit</td>\n",
       "      <td>45.285</td>\n",
       "      <td>3.596</td>\n",
       "    </tr>\n",
       "    <tr>\n",
       "      <th>67315</th>\n",
       "      <td>Neewiller-près-Lauterbourg</td>\n",
       "      <td>48.954</td>\n",
       "      <td>8.125</td>\n",
       "    </tr>\n",
       "    <tr>\n",
       "      <th>80293</th>\n",
       "      <td>Ételfay</td>\n",
       "      <td>49.662</td>\n",
       "      <td>2.620</td>\n",
       "    </tr>\n",
       "    <tr>\n",
       "      <th>63148</th>\n",
       "      <td>Ennezat</td>\n",
       "      <td>45.898</td>\n",
       "      <td>3.226</td>\n",
       "    </tr>\n",
       "  </tbody>\n",
       "</table>\n",
       "<p>70 rows × 3 columns</p>\n",
       "</div>"
      ]
     },
     "execution_count": 283,
     "metadata": {},
     "output_type": "execute_result"
    }
   ],
   "execution_count": 283
  },
  {
   "metadata": {
    "ExecuteTime": {
     "end_time": "2025-10-10T18:27:04.736983Z",
     "start_time": "2025-10-10T18:26:57.545602Z"
    }
   },
   "cell_type": "code",
   "source": [
    "df_points, df_points_distances = calcul_distances(df_cities_random)\n",
    "\n",
    "points = df_points.loc[:,['x', 'y']].to_numpy()\n",
    "\n",
    "df_points"
   ],
   "id": "2dbec95827cdb455",
   "outputs": [
    {
     "name": "stderr",
     "output_type": "stream",
     "text": [
      "/home/jaden/Sources/followchon_back/.venv/lib/python3.12/site-packages/sklearn/manifold/_mds.py:677: FutureWarning:\n",
      "\n",
      "The default value of `n_init` will change from 4 to 1 in 1.9.\n",
      "\n"
     ]
    },
    {
     "data": {
      "text/plain": [
       "                         name     lat    lng           x           y\n",
       "index                                                               \n",
       "01309                Pouillat  46.327  5.428 -115.881765 -187.902254\n",
       "01384  Saint-Rambert-en-Bugey  45.949  5.440  -97.540557 -225.797432\n",
       "02546    La Neuville-en-Beine  49.676  3.151 -139.988077  220.537334\n",
       "03077         Chirat-l'Église  46.240  3.033   51.033435 -110.463983\n",
       "03097     Deneuille-les-Mines  46.378  2.782   60.584222  -87.710448\n",
       "...                       ...     ...    ...         ...         ...\n",
       "90104                Vézelois  47.607  6.918 -280.557226 -110.736563\n",
       "94047       Mandres-les-Roses  48.702  2.544  -49.152980  146.988407\n",
       "94070                 Santeny  48.726  2.570  -52.009398  148.461769\n",
       "95436                   Mours  49.134  2.271  -55.089620  198.617786\n",
       "95604             Survilliers  49.099  2.542  -70.364319  185.603787\n",
       "\n",
       "[70 rows x 5 columns]"
      ],
      "text/html": [
       "<div>\n",
       "<style scoped>\n",
       "    .dataframe tbody tr th:only-of-type {\n",
       "        vertical-align: middle;\n",
       "    }\n",
       "\n",
       "    .dataframe tbody tr th {\n",
       "        vertical-align: top;\n",
       "    }\n",
       "\n",
       "    .dataframe thead th {\n",
       "        text-align: right;\n",
       "    }\n",
       "</style>\n",
       "<table border=\"1\" class=\"dataframe\">\n",
       "  <thead>\n",
       "    <tr style=\"text-align: right;\">\n",
       "      <th></th>\n",
       "      <th>name</th>\n",
       "      <th>lat</th>\n",
       "      <th>lng</th>\n",
       "      <th>x</th>\n",
       "      <th>y</th>\n",
       "    </tr>\n",
       "    <tr>\n",
       "      <th>index</th>\n",
       "      <th></th>\n",
       "      <th></th>\n",
       "      <th></th>\n",
       "      <th></th>\n",
       "      <th></th>\n",
       "    </tr>\n",
       "  </thead>\n",
       "  <tbody>\n",
       "    <tr>\n",
       "      <th>01309</th>\n",
       "      <td>Pouillat</td>\n",
       "      <td>46.327</td>\n",
       "      <td>5.428</td>\n",
       "      <td>-115.881765</td>\n",
       "      <td>-187.902254</td>\n",
       "    </tr>\n",
       "    <tr>\n",
       "      <th>01384</th>\n",
       "      <td>Saint-Rambert-en-Bugey</td>\n",
       "      <td>45.949</td>\n",
       "      <td>5.440</td>\n",
       "      <td>-97.540557</td>\n",
       "      <td>-225.797432</td>\n",
       "    </tr>\n",
       "    <tr>\n",
       "      <th>02546</th>\n",
       "      <td>La Neuville-en-Beine</td>\n",
       "      <td>49.676</td>\n",
       "      <td>3.151</td>\n",
       "      <td>-139.988077</td>\n",
       "      <td>220.537334</td>\n",
       "    </tr>\n",
       "    <tr>\n",
       "      <th>03077</th>\n",
       "      <td>Chirat-l'Église</td>\n",
       "      <td>46.240</td>\n",
       "      <td>3.033</td>\n",
       "      <td>51.033435</td>\n",
       "      <td>-110.463983</td>\n",
       "    </tr>\n",
       "    <tr>\n",
       "      <th>03097</th>\n",
       "      <td>Deneuille-les-Mines</td>\n",
       "      <td>46.378</td>\n",
       "      <td>2.782</td>\n",
       "      <td>60.584222</td>\n",
       "      <td>-87.710448</td>\n",
       "    </tr>\n",
       "    <tr>\n",
       "      <th>...</th>\n",
       "      <td>...</td>\n",
       "      <td>...</td>\n",
       "      <td>...</td>\n",
       "      <td>...</td>\n",
       "      <td>...</td>\n",
       "    </tr>\n",
       "    <tr>\n",
       "      <th>90104</th>\n",
       "      <td>Vézelois</td>\n",
       "      <td>47.607</td>\n",
       "      <td>6.918</td>\n",
       "      <td>-280.557226</td>\n",
       "      <td>-110.736563</td>\n",
       "    </tr>\n",
       "    <tr>\n",
       "      <th>94047</th>\n",
       "      <td>Mandres-les-Roses</td>\n",
       "      <td>48.702</td>\n",
       "      <td>2.544</td>\n",
       "      <td>-49.152980</td>\n",
       "      <td>146.988407</td>\n",
       "    </tr>\n",
       "    <tr>\n",
       "      <th>94070</th>\n",
       "      <td>Santeny</td>\n",
       "      <td>48.726</td>\n",
       "      <td>2.570</td>\n",
       "      <td>-52.009398</td>\n",
       "      <td>148.461769</td>\n",
       "    </tr>\n",
       "    <tr>\n",
       "      <th>95436</th>\n",
       "      <td>Mours</td>\n",
       "      <td>49.134</td>\n",
       "      <td>2.271</td>\n",
       "      <td>-55.089620</td>\n",
       "      <td>198.617786</td>\n",
       "    </tr>\n",
       "    <tr>\n",
       "      <th>95604</th>\n",
       "      <td>Survilliers</td>\n",
       "      <td>49.099</td>\n",
       "      <td>2.542</td>\n",
       "      <td>-70.364319</td>\n",
       "      <td>185.603787</td>\n",
       "    </tr>\n",
       "  </tbody>\n",
       "</table>\n",
       "<p>70 rows × 5 columns</p>\n",
       "</div>"
      ]
     },
     "execution_count": 284,
     "metadata": {},
     "output_type": "execute_result"
    }
   ],
   "execution_count": 284
  },
  {
   "metadata": {
    "ExecuteTime": {
     "end_time": "2025-10-10T18:27:05.911763Z",
     "start_time": "2025-10-10T18:27:04.751684Z"
    }
   },
   "cell_type": "code",
   "source": [
    "measures = {\n",
    "    'kmeans': [],\n",
    "}\n",
    "\n",
    "clustering_type = ['kmeans', 'gaussian']\n",
    "gaussian_type = ['full', 'tied', 'diag', 'spherical']\n",
    "\n",
    "for t in gaussian_type:\n",
    "    measures['gaussian_' + t] = []\n",
    "\n",
    "n_clusters_list = range(\n",
    "    1,\n",
    "    min(\n",
    "        df_points.shape[0],\n",
    "        len(COLORS) - 1\n",
    "    ) + 1\n",
    ")\n",
    "\n",
    "for k in n_clusters_list:\n",
    "    kmeans = KMeans(n_clusters=k)\n",
    "\n",
    "    kmeans.fit(points)\n",
    "\n",
    "    measures['kmeans'].append(kmeans.inertia_)\n",
    "\n",
    "    for t in gaussian_type:\n",
    "        gaussian = GaussianMixture(n_components=k, covariance_type=t, random_state=42)\n",
    "        gaussian.fit(points)\n",
    "        measures['gaussian_' + t].append(gaussian.bic(points))\n",
    "\n",
    "measures['kmeans'] = StandardScaler().fit_transform(np.array(measures['kmeans']).reshape(-1, 1)).reshape(-1)\n",
    "\n",
    "for t in gaussian_type:\n",
    "    measures['gaussian_' + t] = StandardScaler().fit_transform(np.array(measures['gaussian_' + t]).reshape(-1, 1)).reshape(-1)\n",
    "\n",
    "fig = px.line(\n",
    "    pd.DataFrame(measures, index=n_clusters_list),\n",
    "    title='Méthode du Coude',\n",
    "    labels={\n",
    "        'index': 'Nombre de Clusters',\n",
    "        'value': \"Score\",\n",
    "    },\n",
    "    color_discrete_map={\n",
    "        \"kmeans\": COLORS[0],\n",
    "        \"gaussian_full\": COLORS[1],\n",
    "        \"gaussian_tied\": COLORS[2],\n",
    "        \"gaussian_diag\": COLORS[3],\n",
    "        \"gaussian_spherical\": COLORS[4],\n",
    "    }\n",
    ")\n",
    "\n",
    "fig.update_layout(showlegend=True)\n",
    "fig.show()\n",
    "fig.write_html(\"coude.html\")"
   ],
   "id": "106f772e187d9621",
   "outputs": [
    {
     "data": {
      "application/vnd.plotly.v1+json": {
       "data": [
        {
         "hovertemplate": "variable=kmeans<br>Nombre de Clusters=%{x}<br>Score=%{y}<extra></extra>",
         "legendgroup": "kmeans",
         "line": {
          "color": "rgb(229, 134, 6)",
          "dash": "solid"
         },
         "marker": {
          "symbol": "circle"
         },
         "mode": "lines",
         "name": "kmeans",
         "orientation": "v",
         "showlegend": true,
         "x": {
          "dtype": "i1",
          "bdata": "AQIDBAUGBwgJCg=="
         },
         "xaxis": "x",
         "y": {
          "dtype": "f8",
          "bdata": "zj0MeFxzBEBN69jZWf7vP8xPKhTMTNY/Axwkoojoy78Z/aEOaCTgvz0HCAwo2+G/R3SYNhZG47/dSDBxzbbjv0oSqftO/uW/ni963Uz95r8="
         },
         "yaxis": "y",
         "type": "scatter"
        },
        {
         "hovertemplate": "variable=gaussian_full<br>Nombre de Clusters=%{x}<br>Score=%{y}<extra></extra>",
         "legendgroup": "gaussian_full",
         "line": {
          "color": "rgb(93, 105, 177)",
          "dash": "solid"
         },
         "marker": {
          "symbol": "circle"
         },
         "mode": "lines",
         "name": "gaussian_full",
         "orientation": "v",
         "showlegend": true,
         "x": {
          "dtype": "i1",
          "bdata": "AQIDBAUGBwgJCg=="
         },
         "xaxis": "x",
         "y": {
          "dtype": "f8",
          "bdata": "q+NqsMZDuL/KqWfx0Jjxv6RG1L0tpOu/hMO7DEZ0778BndrSjrDHv57/SoMiDOk/hr/kdsNT+j9C1n5wJr32P4OrqWD+wOE/EzlMPSHY8r8="
         },
         "yaxis": "y",
         "type": "scatter"
        },
        {
         "hovertemplate": "variable=gaussian_tied<br>Nombre de Clusters=%{x}<br>Score=%{y}<extra></extra>",
         "legendgroup": "gaussian_tied",
         "line": {
          "color": "rgb(82, 188, 163)",
          "dash": "solid"
         },
         "marker": {
          "symbol": "circle"
         },
         "mode": "lines",
         "name": "gaussian_tied",
         "orientation": "v",
         "showlegend": true,
         "x": {
          "dtype": "i1",
          "bdata": "AQIDBAUGBwgJCg=="
         },
         "xaxis": "x",
         "y": {
          "dtype": "f8",
          "bdata": "Zy0ZaSI+7T8Au2Euknvsv+lkiSEhutW/Sm5YsQgg5r/xKnMx26z6v457vPPNe+i/teGYsUYexj9oAkEXy+njP4eB4HB4S+o/X2LAFJwp/T8="
         },
         "yaxis": "y",
         "type": "scatter"
        },
        {
         "hovertemplate": "variable=gaussian_diag<br>Nombre de Clusters=%{x}<br>Score=%{y}<extra></extra>",
         "legendgroup": "gaussian_diag",
         "line": {
          "color": "rgb(153, 201, 69)",
          "dash": "solid"
         },
         "marker": {
          "symbol": "circle"
         },
         "mode": "lines",
         "name": "gaussian_diag",
         "orientation": "v",
         "showlegend": true,
         "x": {
          "dtype": "i1",
          "bdata": "AQIDBAUGBwgJCg=="
         },
         "xaxis": "x",
         "y": {
          "dtype": "f8",
          "bdata": "BDAQFev06j9b8iYjYMblvwtPYBGQM+G/d6bkM8Yd+b83QgfUlDvsvwr+W+EW0NW/t58jYPuE7T+lnLjwZ1//P6PYdRf+ANW/W7cbluWg4z8="
         },
         "yaxis": "y",
         "type": "scatter"
        },
        {
         "hovertemplate": "variable=gaussian_spherical<br>Nombre de Clusters=%{x}<br>Score=%{y}<extra></extra>",
         "legendgroup": "gaussian_spherical",
         "line": {
          "color": "rgb(204, 97, 176)",
          "dash": "solid"
         },
         "marker": {
          "symbol": "circle"
         },
         "mode": "lines",
         "name": "gaussian_spherical",
         "orientation": "v",
         "showlegend": true,
         "x": {
          "dtype": "i1",
          "bdata": "AQIDBAUGBwgJCg=="
         },
         "xaxis": "x",
         "y": {
          "dtype": "f8",
          "bdata": "FrQiEwLM6T9tBHDiAhvqv0KgSN4CPPM/4/GjZ/uE9L8UH/kdCPnnvzJdkhHaPd0/meim3/Ev6D/tA4w8WEn4PzMZRIjRqfO/bNcCUfIz5b8="
         },
         "yaxis": "y",
         "type": "scatter"
        }
       ],
       "layout": {
        "template": {
         "data": {
          "candlestick": [
           {
            "decreasing": {
             "line": {
              "color": "#000033"
             }
            },
            "increasing": {
             "line": {
              "color": "#000032"
             }
            },
            "type": "candlestick"
           }
          ],
          "contourcarpet": [
           {
            "colorscale": [
             [
              0.0,
              "#000011"
             ],
             [
              0.1111111111111111,
              "#000012"
             ],
             [
              0.2222222222222222,
              "#000013"
             ],
             [
              0.3333333333333333,
              "#000014"
             ],
             [
              0.4444444444444444,
              "#000015"
             ],
             [
              0.5555555555555556,
              "#000016"
             ],
             [
              0.6666666666666666,
              "#000017"
             ],
             [
              0.7777777777777778,
              "#000018"
             ],
             [
              0.8888888888888888,
              "#000019"
             ],
             [
              1.0,
              "#000020"
             ]
            ],
            "type": "contourcarpet"
           }
          ],
          "contour": [
           {
            "colorscale": [
             [
              0.0,
              "#000011"
             ],
             [
              0.1111111111111111,
              "#000012"
             ],
             [
              0.2222222222222222,
              "#000013"
             ],
             [
              0.3333333333333333,
              "#000014"
             ],
             [
              0.4444444444444444,
              "#000015"
             ],
             [
              0.5555555555555556,
              "#000016"
             ],
             [
              0.6666666666666666,
              "#000017"
             ],
             [
              0.7777777777777778,
              "#000018"
             ],
             [
              0.8888888888888888,
              "#000019"
             ],
             [
              1.0,
              "#000020"
             ]
            ],
            "type": "contour"
           }
          ],
          "heatmap": [
           {
            "colorscale": [
             [
              0.0,
              "#000011"
             ],
             [
              0.1111111111111111,
              "#000012"
             ],
             [
              0.2222222222222222,
              "#000013"
             ],
             [
              0.3333333333333333,
              "#000014"
             ],
             [
              0.4444444444444444,
              "#000015"
             ],
             [
              0.5555555555555556,
              "#000016"
             ],
             [
              0.6666666666666666,
              "#000017"
             ],
             [
              0.7777777777777778,
              "#000018"
             ],
             [
              0.8888888888888888,
              "#000019"
             ],
             [
              1.0,
              "#000020"
             ]
            ],
            "type": "heatmap"
           }
          ],
          "histogram2d": [
           {
            "colorscale": [
             [
              0.0,
              "#000011"
             ],
             [
              0.1111111111111111,
              "#000012"
             ],
             [
              0.2222222222222222,
              "#000013"
             ],
             [
              0.3333333333333333,
              "#000014"
             ],
             [
              0.4444444444444444,
              "#000015"
             ],
             [
              0.5555555555555556,
              "#000016"
             ],
             [
              0.6666666666666666,
              "#000017"
             ],
             [
              0.7777777777777778,
              "#000018"
             ],
             [
              0.8888888888888888,
              "#000019"
             ],
             [
              1.0,
              "#000020"
             ]
            ],
            "type": "histogram2d"
           }
          ],
          "icicle": [
           {
            "textfont": {
             "color": "white"
            },
            "type": "icicle"
           }
          ],
          "sankey": [
           {
            "textfont": {
             "color": "#000036"
            },
            "type": "sankey"
           }
          ],
          "scatter": [
           {
            "marker": {
             "line": {
              "width": 0
             }
            },
            "type": "scatter"
           }
          ],
          "table": [
           {
            "cells": {
             "fill": {
              "color": "#000038"
             },
             "font": {
              "color": "#000037"
             },
             "line": {
              "color": "#000039"
             }
            },
            "header": {
             "fill": {
              "color": "#000040"
             },
             "font": {
              "color": "#000036"
             },
             "line": {
              "color": "#000039"
             }
            },
            "type": "table"
           }
          ],
          "waterfall": [
           {
            "connector": {
             "line": {
              "color": "#000036",
              "width": 2
             }
            },
            "decreasing": {
             "marker": {
              "color": "#000033"
             }
            },
            "increasing": {
             "marker": {
              "color": "#000032"
             }
            },
            "totals": {
             "marker": {
              "color": "#000034"
             }
            },
            "type": "waterfall"
           }
          ]
         },
         "layout": {
          "coloraxis": {
           "colorscale": [
            [
             0.0,
             "#000011"
            ],
            [
             0.1111111111111111,
             "#000012"
            ],
            [
             0.2222222222222222,
             "#000013"
            ],
            [
             0.3333333333333333,
             "#000014"
            ],
            [
             0.4444444444444444,
             "#000015"
            ],
            [
             0.5555555555555556,
             "#000016"
            ],
            [
             0.6666666666666666,
             "#000017"
            ],
            [
             0.7777777777777778,
             "#000018"
            ],
            [
             0.8888888888888888,
             "#000019"
            ],
            [
             1.0,
             "#000020"
            ]
           ]
          },
          "colorscale": {
           "diverging": [
            [
             0.0,
             "#000021"
            ],
            [
             0.1,
             "#000022"
            ],
            [
             0.2,
             "#000023"
            ],
            [
             0.3,
             "#000024"
            ],
            [
             0.4,
             "#000025"
            ],
            [
             0.5,
             "#000026"
            ],
            [
             0.6,
             "#000027"
            ],
            [
             0.7,
             "#000028"
            ],
            [
             0.8,
             "#000029"
            ],
            [
             0.9,
             "#000030"
            ],
            [
             1.0,
             "#000031"
            ]
           ],
           "sequential": [
            [
             0.0,
             "#000011"
            ],
            [
             0.1111111111111111,
             "#000012"
            ],
            [
             0.2222222222222222,
             "#000013"
            ],
            [
             0.3333333333333333,
             "#000014"
            ],
            [
             0.4444444444444444,
             "#000015"
            ],
            [
             0.5555555555555556,
             "#000016"
            ],
            [
             0.6666666666666666,
             "#000017"
            ],
            [
             0.7777777777777778,
             "#000018"
            ],
            [
             0.8888888888888888,
             "#000019"
            ],
            [
             1.0,
             "#000020"
            ]
           ],
           "sequentialminus": [
            [
             0.0,
             "#000011"
            ],
            [
             0.1111111111111111,
             "#000012"
            ],
            [
             0.2222222222222222,
             "#000013"
            ],
            [
             0.3333333333333333,
             "#000014"
            ],
            [
             0.4444444444444444,
             "#000015"
            ],
            [
             0.5555555555555556,
             "#000016"
            ],
            [
             0.6666666666666666,
             "#000017"
            ],
            [
             0.7777777777777778,
             "#000018"
            ],
            [
             0.8888888888888888,
             "#000019"
            ],
            [
             1.0,
             "#000020"
            ]
           ]
          },
          "colorway": [
           "#000001",
           "#000002",
           "#000003",
           "#000004",
           "#000005",
           "#000006",
           "#000007",
           "#000008",
           "#000009",
           "#000010"
          ]
         }
        },
        "xaxis": {
         "anchor": "y",
         "domain": [
          0.0,
          1.0
         ],
         "title": {
          "text": "Nombre de Clusters"
         }
        },
        "yaxis": {
         "anchor": "x",
         "domain": [
          0.0,
          1.0
         ],
         "title": {
          "text": "Score"
         }
        },
        "legend": {
         "title": {
          "text": "variable"
         },
         "tracegroupgap": 0
        },
        "title": {
         "text": "Méthode du Coude"
        },
        "showlegend": true
       },
       "config": {
        "plotlyServerURL": "https://plot.ly"
       }
      }
     },
     "metadata": {},
     "output_type": "display_data",
     "jetTransient": {
      "display_id": null
     }
    }
   ],
   "execution_count": 285
  },
  {
   "metadata": {
    "ExecuteTime": {
     "end_time": "2025-10-10T19:36:35.266850Z",
     "start_time": "2025-10-10T19:36:34.547351Z"
    }
   },
   "cell_type": "code",
   "source": [
    "k_kmeans = 8\n",
    "k_gaussian = 8\n",
    "gaussian_type = 'diag'\n",
    "\n",
    "model_kmeans = KMeans(n_clusters=k_kmeans)\n",
    "model_kmeans.fit(points)\n",
    "df_points['cluster_kmeans'] = model_kmeans.predict(points)\n",
    "df_points['cluster_kmeans'] = df_points['cluster_kmeans'].astype(str)\n",
    "\n",
    "model_gaussian = GaussianMixture(n_components=k_gaussian, covariance_type=gaussian_type, random_state=42)\n",
    "model_gaussian.fit(points)\n",
    "df_points['cluster_gaussian'] = model_gaussian.predict(points)\n",
    "df_points['cluster_gaussian'] = df_points['cluster_gaussian'].astype(str)\n",
    "\n",
    "for c in ['cluster_kmeans', 'cluster_gaussian']:\n",
    "    fig = px.scatter(\n",
    "        df_points.reset_index(),\n",
    "        x='x',\n",
    "        y='y',\n",
    "        color=c,\n",
    "        hover_name='index',\n",
    "        height=700,\n",
    "        size=[1] * df_points.shape[0],\n",
    "        color_discrete_sequence=COLORS,\n",
    "        title=f\"{c}\"\n",
    "    )\n",
    "\n",
    "    fig.update_yaxes(scaleanchor=\"x\", scaleratio=1)\n",
    "\n",
    "    fig.show()\n",
    "\n",
    "df_points"
   ],
   "id": "d384f122d7721166",
   "outputs": [
    {
     "data": {
      "application/vnd.plotly.v1+json": {
       "data": [
        {
         "hovertemplate": "<b>%{hovertext}</b><br><br>cluster_kmeans=18<br>x=%{x}<br>y=%{y}<br>size=%{marker.size}<extra></extra>",
         "hovertext": [
          "01309",
          "01384",
          "38064",
          "73100"
         ],
         "legendgroup": "18",
         "marker": {
          "color": "rgb(229, 134, 6)",
          "size": {
           "dtype": "i1",
           "bdata": "AQEBAQ=="
          },
          "sizemode": "area",
          "sizeref": 0.0025,
          "symbol": "circle"
         },
         "mode": "markers",
         "name": "18",
         "orientation": "v",
         "showlegend": true,
         "x": {
          "dtype": "f8",
          "bdata": "N1qd1274XMBICsR6mGJYwDkPC1H3cFLAXSz4X7PUV8A="
         },
         "xaxis": "x",
         "y": {
          "dtype": "f8",
          "bdata": "x2rKQt98Z8CcEUWQhDlswP1n0JSPV3DACx3SsaQ+ccA="
         },
         "yaxis": "y",
         "type": "scatter"
        },
        {
         "hovertemplate": "<b>%{hovertext}</b><br><br>cluster_kmeans=0<br>x=%{x}<br>y=%{y}<br>size=%{marker.size}<extra></extra>",
         "hovertext": [
          "02546",
          "80052",
          "80293",
          "80300",
          "80485"
         ],
         "legendgroup": "0",
         "marker": {
          "color": "rgb(93, 105, 177)",
          "size": {
           "dtype": "i1",
           "bdata": "AQEBAQE="
          },
          "sizemode": "area",
          "sizeref": 0.0025,
          "symbol": "circle"
         },
         "mode": "markers",
         "name": "0",
         "orientation": "v",
         "showlegend": true,
         "x": {
          "dtype": "f8",
          "bdata": "O7yHVJ5/YcD3rZhG4ENdwAL0aRCtcVrAn8W3qLT0YMCiA4DA4P1UwA=="
         },
         "xaxis": "x",
         "y": {
          "dtype": "f8",
          "bdata": "bZa61zGRa0A5HVU6LxRxQKF43WJhtG1AjdkimNAtbkCpznvB64RwQA=="
         },
         "yaxis": "y",
         "type": "scatter"
        },
        {
         "hovertemplate": "<b>%{hovertext}</b><br><br>cluster_kmeans=1<br>x=%{x}<br>y=%{y}<br>size=%{marker.size}<extra></extra>",
         "hovertext": [
          "03077",
          "03097",
          "63148"
         ],
         "legendgroup": "1",
         "marker": {
          "color": "rgb(82, 188, 163)",
          "size": {
           "dtype": "i1",
           "bdata": "AQEB"
          },
          "sizemode": "area",
          "sizeref": 0.0025,
          "symbol": "circle"
         },
         "mode": "markers",
         "name": "1",
         "orientation": "v",
         "showlegend": true,
         "x": {
          "dtype": "f8",
          "bdata": "eIXUmkeESUBq3kTLx0pOQLa8zQicJExA"
         },
         "xaxis": "x",
         "y": {
          "dtype": "f8",
          "bdata": "BEPg5LGdW8BBOxf6d+1VwDQ8DedC32LA"
         },
         "yaxis": "y",
         "type": "scatter"
        },
        {
         "hovertemplate": "<b>%{hovertext}</b><br><br>cluster_kmeans=6<br>x=%{x}<br>y=%{y}<br>size=%{marker.size}<extra></extra>",
         "hovertext": [
          "06050"
         ],
         "legendgroup": "6",
         "marker": {
          "color": "rgb(153, 201, 69)",
          "size": {
           "dtype": "i1",
           "bdata": "AQ=="
          },
          "sizemode": "area",
          "sizeref": 0.0025,
          "symbol": "circle"
         },
         "mode": "markers",
         "name": "6",
         "orientation": "v",
         "showlegend": true,
         "x": {
          "dtype": "f8",
          "bdata": "8YbTHa+fWcA="
         },
         "xaxis": "x",
         "y": {
          "dtype": "f8",
          "bdata": "uCgHyH8Hf8A="
         },
         "yaxis": "y",
         "type": "scatter"
        },
        {
         "hovertemplate": "<b>%{hovertext}</b><br><br>cluster_kmeans=15<br>x=%{x}<br>y=%{y}<br>size=%{marker.size}<extra></extra>",
         "hovertext": [
          "08149",
          "08315"
         ],
         "legendgroup": "15",
         "marker": {
          "color": "rgb(204, 97, 176)",
          "size": {
           "dtype": "i1",
           "bdata": "AQE="
          },
          "sizemode": "area",
          "sizeref": 0.0025,
          "symbol": "circle"
         },
         "mode": "markers",
         "name": "15",
         "orientation": "v",
         "showlegend": true,
         "x": {
          "dtype": "f8",
          "bdata": "P11q4ZnHbMBGSQeq5slswA=="
         },
         "xaxis": "x",
         "y": {
          "dtype": "f8",
          "bdata": "fKoawZ99Z0CDFVTk1NxmQA=="
         },
         "yaxis": "y",
         "type": "scatter"
        },
        {
         "hovertemplate": "<b>%{hovertext}</b><br><br>cluster_kmeans=9<br>x=%{x}<br>y=%{y}<br>size=%{marker.size}<extra></extra>",
         "hovertext": [
          "11070",
          "81028",
          "81178"
         ],
         "legendgroup": "9",
         "marker": {
          "color": "rgb(36, 121, 108)",
          "size": {
           "dtype": "i1",
           "bdata": "AQEB"
          },
          "sizemode": "area",
          "sizeref": 0.0025,
          "symbol": "circle"
         },
         "mode": "markers",
         "name": "9",
         "orientation": "v",
         "showlegend": true,
         "x": {
          "dtype": "f8",
          "bdata": "vyg3MDEVcUAuB62QlKJrQKptKBkcUXFA"
         },
         "xaxis": "x",
         "y": {
          "dtype": "f8",
          "bdata": "0GEglc96dsBDSbIEATh1wOE2FHcThnHA"
         },
         "yaxis": "y",
         "type": "scatter"
        },
        {
         "hovertemplate": "<b>%{hovertext}</b><br><br>cluster_kmeans=4<br>x=%{x}<br>y=%{y}<br>size=%{marker.size}<extra></extra>",
         "hovertext": [
          "17221"
         ],
         "legendgroup": "4",
         "marker": {
          "color": "rgb(218, 165, 27)",
          "size": {
           "dtype": "i1",
           "bdata": "AQ=="
          },
          "sizemode": "area",
          "sizeref": 0.0025,
          "symbol": "circle"
         },
         "mode": "markers",
         "name": "4",
         "orientation": "v",
         "showlegend": true,
         "x": {
          "dtype": "f8",
          "bdata": "bFVdtwTCckA="
         },
         "xaxis": "x",
         "y": {
          "dtype": "f8",
          "bdata": "nJyw9u86M0A="
         },
         "yaxis": "y",
         "type": "scatter"
        },
        {
         "hovertemplate": "<b>%{hovertext}</b><br><br>cluster_kmeans=14<br>x=%{x}<br>y=%{y}<br>size=%{marker.size}<extra></extra>",
         "hovertext": [
          "21137",
          "71353",
          "71399",
          "71479"
         ],
         "legendgroup": "14",
         "marker": {
          "color": "rgb(47, 138, 196)",
          "size": {
           "dtype": "i1",
           "bdata": "AQEBAQ=="
          },
          "sizemode": "area",
          "sizeref": 0.0025,
          "symbol": "circle"
         },
         "mode": "markers",
         "name": "14",
         "orientation": "v",
         "showlegend": true,
         "x": {
          "dtype": "f8",
          "bdata": "eEKGztV7WsB9quROahtWwAf8Zljv2TzAs2G4gIGvUsA="
         },
         "xaxis": "x",
         "y": {
          "dtype": "f8",
          "bdata": "KgYwvhHcPMCX3EnMao5iwMgXGXqEcWLAQwTrWuqSWcA="
         },
         "yaxis": "y",
         "type": "scatter"
        },
        {
         "hovertemplate": "<b>%{hovertext}</b><br><br>cluster_kmeans=5<br>x=%{x}<br>y=%{y}<br>size=%{marker.size}<extra></extra>",
         "hovertext": [
          "24359",
          "24586",
          "33257",
          "47225"
         ],
         "legendgroup": "5",
         "marker": {
          "color": "rgb(118, 78, 159)",
          "size": {
           "dtype": "i1",
           "bdata": "AQEBAQ=="
          },
          "sizemode": "area",
          "sizeref": 0.0025,
          "symbol": "circle"
         },
         "mode": "markers",
         "name": "5",
         "orientation": "v",
         "showlegend": true,
         "x": {
          "dtype": "f8",
          "bdata": "xMP0wmgsc0AJnY6ybdBxQG6hB/NBxnVAHQtulbLZdEA="
         },
         "xaxis": "x",
         "y": {
          "dtype": "f8",
          "bdata": "fF0qMImeY8CA8dZ9hW5ZwBSq80w1fV7AD7ll6pevasA="
         },
         "yaxis": "y",
         "type": "scatter"
        },
        {
         "hovertemplate": "<b>%{hovertext}</b><br><br>cluster_kmeans=7<br>x=%{x}<br>y=%{y}<br>size=%{marker.size}<extra></extra>",
         "hovertext": [
          "25331",
          "25351",
          "25599",
          "39182",
          "90104"
         ],
         "legendgroup": "7",
         "marker": {
          "color": "rgb(237, 100, 90)",
          "size": {
           "dtype": "i1",
           "bdata": "AQEBAQE="
          },
          "sizemode": "area",
          "sizeref": 0.0025,
          "symbol": "circle"
         },
         "mode": "markers",
         "name": "7",
         "orientation": "v",
         "showlegend": true,
         "x": {
          "dtype": "f8",
          "bdata": "cgHGzFYtasCWlJ9uljxuwMICGuEnnGvAoONBh2KiY8BDQnpl6ohxwA=="
         },
         "xaxis": "x",
         "y": {
          "dtype": "f8",
          "bdata": "B6g20OWJYcDV6Siro0diwEgu9Ye9+1zALlDKQZ4SXcDMtlnXI69bwA=="
         },
         "yaxis": "y",
         "type": "scatter"
        },
        {
         "hovertemplate": "<b>%{hovertext}</b><br><br>cluster_kmeans=8<br>x=%{x}<br>y=%{y}<br>size=%{marker.size}<extra></extra>",
         "hovertext": [
          "26210",
          "38188"
         ],
         "legendgroup": "8",
         "marker": {
          "color": "rgb(165, 170, 153)",
          "size": {
           "dtype": "i1",
           "bdata": "AQE="
          },
          "sizemode": "area",
          "sizeref": 0.0025,
          "symbol": "circle"
         },
         "mode": "markers",
         "name": "8",
         "orientation": "v",
         "showlegend": true,
         "x": {
          "dtype": "f8",
          "bdata": "I3dKTPp9Q8CJjxKFuUVUwA=="
         },
         "xaxis": "x",
         "y": {
          "dtype": "f8",
          "bdata": "aX+hUlPvccAb69u5OelzwA=="
         },
         "yaxis": "y",
         "type": "scatter"
        },
        {
         "hovertemplate": "<b>%{hovertext}</b><br><br>cluster_kmeans=13<br>x=%{x}<br>y=%{y}<br>size=%{marker.size}<extra></extra>",
         "hovertext": [
          "31505",
          "31543",
          "32199"
         ],
         "legendgroup": "13",
         "marker": {
          "color": "rgb(229, 134, 6)",
          "size": {
           "dtype": "i1",
           "bdata": "AQEB"
          },
          "sizemode": "area",
          "sizeref": 0.0025,
          "symbol": "circle"
         },
         "mode": "markers",
         "name": "13",
         "orientation": "v",
         "showlegend": true,
         "x": {
          "dtype": "f8",
          "bdata": "hbZRn+wldkA/nJk2xvd1QKfAjdF59nhA"
         },
         "xaxis": "x",
         "y": {
          "dtype": "f8",
          "bdata": "LlsxM/+sdMD6NnnQblFzwGYesB2XoW7A"
         },
         "yaxis": "y",
         "type": "scatter"
        },
        {
         "hovertemplate": "<b>%{hovertext}</b><br><br>cluster_kmeans=2<br>x=%{x}<br>y=%{y}<br>size=%{marker.size}<extra></extra>",
         "hovertext": [
          "35001",
          "35068",
          "35247",
          "53211"
         ],
         "legendgroup": "2",
         "marker": {
          "color": "rgb(93, 105, 177)",
          "size": {
           "dtype": "i1",
           "bdata": "AQEBAQ=="
          },
          "sizemode": "area",
          "sizeref": 0.0025,
          "symbol": "circle"
         },
         "mode": "markers",
         "name": "2",
         "orientation": "v",
         "showlegend": true,
         "x": {
          "dtype": "f8",
          "bdata": "1j6HVo8ybkCUcGzAdV1tQH8biAKQTmtAwrzl5OpzZ0A="
         },
         "xaxis": "x",
         "y": {
          "dtype": "f8",
          "bdata": "IbArMALVbkAxiK+j8+htQDBQhrLtOHJAH/UCZtzjbUA="
         },
         "yaxis": "y",
         "type": "scatter"
        },
        {
         "hovertemplate": "<b>%{hovertext}</b><br><br>cluster_kmeans=19<br>x=%{x}<br>y=%{y}<br>size=%{marker.size}<extra></extra>",
         "hovertext": [
          "42062",
          "43027",
          "43043",
          "43132"
         ],
         "legendgroup": "19",
         "marker": {
          "color": "rgb(82, 188, 163)",
          "size": {
           "dtype": "i1",
           "bdata": "AQEBAQ=="
          },
          "sizemode": "area",
          "sizeref": 0.0025,
          "symbol": "circle"
         },
         "mode": "markers",
         "name": "19",
         "orientation": "v",
         "showlegend": true,
         "x": {
          "dtype": "f8",
          "bdata": "kJhaeFgmHsDinQMcwc9PQOJzJJdxWU1AjGl5RD1LU0A="
         },
         "xaxis": "x",
         "y": {
          "dtype": "f8",
          "bdata": "2fVvVF4GbMDQw7+5jxJswJ34aStjBG7AHYWm13jCbcA="
         },
         "yaxis": "y",
         "type": "scatter"
        },
        {
         "hovertemplate": "<b>%{hovertext}</b><br><br>cluster_kmeans=10<br>x=%{x}<br>y=%{y}<br>size=%{marker.size}<extra></extra>",
         "hovertext": [
          "45346",
          "78146",
          "94047",
          "94070",
          "95436",
          "95604"
         ],
         "legendgroup": "10",
         "marker": {
          "color": "rgb(153, 201, 69)",
          "size": {
           "dtype": "i1",
           "bdata": "AQEBAQEB"
          },
          "sizemode": "area",
          "sizeref": 0.0025,
          "symbol": "circle"
         },
         "mode": "markers",
         "name": "10",
         "orientation": "v",
         "showlegend": true,
         "x": {
          "dtype": "f8",
          "bdata": "HCDQTjE+JEDIzJIjJ0RBwLkLONaUk0jAdzgw8jMBSsAwYGCseItLwPAwJ/9Ql1HA"
         },
         "xaxis": "x",
         "y": {
          "dtype": "f8",
          "bdata": "WcQ21lHDVECUmYtmz2FmQI1EKAehX2JA2hRMz8aOYkD5DsrmxNNoQJbxEzlSM2dA"
         },
         "yaxis": "y",
         "type": "scatter"
        },
        {
         "hovertemplate": "<b>%{hovertext}</b><br><br>cluster_kmeans=22<br>x=%{x}<br>y=%{y}<br>size=%{marker.size}<extra></extra>",
         "hovertext": [
          "49064",
          "49331",
          "53157"
         ],
         "legendgroup": "22",
         "marker": {
          "color": "rgb(204, 97, 176)",
          "size": {
           "dtype": "i1",
           "bdata": "AQEB"
          },
          "sizemode": "area",
          "sizeref": 0.0025,
          "symbol": "circle"
         },
         "mode": "markers",
         "name": "22",
         "orientation": "v",
         "showlegend": true,
         "x": {
          "dtype": "f8",
          "bdata": "r9OQ38zKakCwTAGsI1RsQKOYU1GhjWlA"
         },
         "xaxis": "x",
         "y": {
          "dtype": "f8",
          "bdata": "yA093/FVZUCD9egUaDlmQJQVXeyIu2lA"
         },
         "yaxis": "y",
         "type": "scatter"
        },
        {
         "hovertemplate": "<b>%{hovertext}</b><br><br>cluster_kmeans=3<br>x=%{x}<br>y=%{y}<br>size=%{marker.size}<extra></extra>",
         "hovertext": [
          "52047"
         ],
         "legendgroup": "3",
         "marker": {
          "color": "rgb(36, 121, 108)",
          "size": {
           "dtype": "i1",
           "bdata": "AQ=="
          },
          "sizemode": "area",
          "sizeref": 0.0025,
          "symbol": "circle"
         },
         "mode": "markers",
         "name": "3",
         "orientation": "v",
         "showlegend": true,
         "x": {
          "dtype": "f8",
          "bdata": "iY6Ya2wrZsA="
         },
         "xaxis": "x",
         "y": {
          "dtype": "f8",
          "bdata": "oVMM6TxzPUA="
         },
         "yaxis": "y",
         "type": "scatter"
        },
        {
         "hovertemplate": "<b>%{hovertext}</b><br><br>cluster_kmeans=16<br>x=%{x}<br>y=%{y}<br>size=%{marker.size}<extra></extra>",
         "hovertext": [
          "54039",
          "57423",
          "68300"
         ],
         "legendgroup": "16",
         "marker": {
          "color": "rgb(218, 165, 27)",
          "size": {
           "dtype": "i1",
           "bdata": "AQEB"
          },
          "sizemode": "area",
          "sizeref": 0.0025,
          "symbol": "circle"
         },
         "mode": "markers",
         "name": "16",
         "orientation": "v",
         "showlegend": true,
         "x": {
          "dtype": "f8",
          "bdata": "Q/zUjlNXc8DqaGhSJaBzwCaRqH4r/HPA"
         },
         "xaxis": "x",
         "y": {
          "dtype": "f8",
          "bdata": "c1PEqqyVNMAX8E7H1g86QBWy3+36vFrA"
         },
         "yaxis": "y",
         "type": "scatter"
        },
        {
         "hovertemplate": "<b>%{hovertext}</b><br><br>cluster_kmeans=20<br>x=%{x}<br>y=%{y}<br>size=%{marker.size}<extra></extra>",
         "hovertext": [
          "59415",
          "59642",
          "62356",
          "62372",
          "62374",
          "62469",
          "80753"
         ],
         "legendgroup": "20",
         "marker": {
          "color": "rgb(47, 138, 196)",
          "size": {
           "dtype": "i1",
           "bdata": "AQEBAQEBAQ=="
          },
          "sizemode": "area",
          "sizeref": 0.0025,
          "symbol": "circle"
         },
         "mode": "markers",
         "name": "20",
         "orientation": "v",
         "showlegend": true,
         "x": {
          "dtype": "f8",
          "bdata": "LZM2gSOGZ8DjEH1ovbxnwBBuQZtXHmLAuEp7WcqOYMCceUR11ORhwGLomHBdDGTAbp/S0tdjYMA="
         },
         "xaxis": "x",
         "y": {
          "dtype": "f8",
          "bdata": "UwGbPOGMcEBdvEE6leRxQLP+f5Kuf3NAbyXTXmADc0AM1p6m1nBxQLmQ2X9ZEXFAfHKVm3MVcUA="
         },
         "yaxis": "y",
         "type": "scatter"
        },
        {
         "hovertemplate": "<b>%{hovertext}</b><br><br>cluster_kmeans=11<br>x=%{x}<br>y=%{y}<br>size=%{marker.size}<extra></extra>",
         "hovertext": [
          "67315"
         ],
         "legendgroup": "11",
         "marker": {
          "color": "rgb(118, 78, 159)",
          "size": {
           "dtype": "i1",
           "bdata": "AQ=="
          },
          "sizemode": "area",
          "sizeref": 0.0025,
          "symbol": "circle"
         },
         "mode": "markers",
         "name": "11",
         "orientation": "v",
         "showlegend": true,
         "x": {
          "dtype": "f8",
          "bdata": "2Kg70caVesA="
         },
         "xaxis": "x",
         "y": {
          "dtype": "f8",
          "bdata": "vcsgJVFRKsA="
         },
         "yaxis": "y",
         "type": "scatter"
        },
        {
         "hovertemplate": "<b>%{hovertext}</b><br><br>cluster_kmeans=12<br>x=%{x}<br>y=%{y}<br>size=%{marker.size}<extra></extra>",
         "hovertext": [
          "76322",
          "76706"
         ],
         "legendgroup": "12",
         "marker": {
          "color": "rgb(237, 100, 90)",
          "size": {
           "dtype": "i1",
           "bdata": "AQE="
          },
          "sizemode": "area",
          "sizeref": 0.0025,
          "symbol": "circle"
         },
         "mode": "markers",
         "name": "12",
         "orientation": "v",
         "showlegend": true,
         "x": {
          "dtype": "f8",
          "bdata": "eo5HC9C2GkC3tQWOWvM9QA=="
         },
         "xaxis": "x",
         "y": {
          "dtype": "f8",
          "bdata": "abGLhJHPcEDDPNNIsCN0QA=="
         },
         "yaxis": "y",
         "type": "scatter"
        },
        {
         "hovertemplate": "<b>%{hovertext}</b><br><br>cluster_kmeans=21<br>x=%{x}<br>y=%{y}<br>size=%{marker.size}<extra></extra>",
         "hovertext": [
          "79047"
         ],
         "legendgroup": "21",
         "marker": {
          "color": "rgb(165, 170, 153)",
          "size": {
           "dtype": "i1",
           "bdata": "AQ=="
          },
          "sizemode": "area",
          "sizeref": 0.0025,
          "symbol": "circle"
         },
         "mode": "markers",
         "name": "21",
         "orientation": "v",
         "showlegend": true,
         "x": {
          "dtype": "f8",
          "bdata": "vJK6rMF7bUA="
         },
         "xaxis": "x",
         "y": {
          "dtype": "f8",
          "bdata": "EmLCM6j/UUA="
         },
         "yaxis": "y",
         "type": "scatter"
        },
        {
         "hovertemplate": "<b>%{hovertext}</b><br><br>cluster_kmeans=17<br>x=%{x}<br>y=%{y}<br>size=%{marker.size}<extra></extra>",
         "hovertext": [
          "85095"
         ],
         "legendgroup": "17",
         "marker": {
          "color": "rgb(229, 134, 6)",
          "size": {
           "dtype": "i1",
           "bdata": "AQ=="
          },
          "sizemode": "area",
          "sizeref": 0.0025,
          "symbol": "circle"
         },
         "mode": "markers",
         "name": "17",
         "orientation": "v",
         "showlegend": true,
         "x": {
          "dtype": "f8",
          "bdata": "LYOJ/be/dEA="
         },
         "xaxis": "x",
         "y": {
          "dtype": "f8",
          "bdata": "MKLlGDm5YEA="
         },
         "yaxis": "y",
         "type": "scatter"
        }
       ],
       "layout": {
        "template": {
         "data": {
          "candlestick": [
           {
            "decreasing": {
             "line": {
              "color": "#000033"
             }
            },
            "increasing": {
             "line": {
              "color": "#000032"
             }
            },
            "type": "candlestick"
           }
          ],
          "contourcarpet": [
           {
            "colorscale": [
             [
              0.0,
              "#000011"
             ],
             [
              0.1111111111111111,
              "#000012"
             ],
             [
              0.2222222222222222,
              "#000013"
             ],
             [
              0.3333333333333333,
              "#000014"
             ],
             [
              0.4444444444444444,
              "#000015"
             ],
             [
              0.5555555555555556,
              "#000016"
             ],
             [
              0.6666666666666666,
              "#000017"
             ],
             [
              0.7777777777777778,
              "#000018"
             ],
             [
              0.8888888888888888,
              "#000019"
             ],
             [
              1.0,
              "#000020"
             ]
            ],
            "type": "contourcarpet"
           }
          ],
          "contour": [
           {
            "colorscale": [
             [
              0.0,
              "#000011"
             ],
             [
              0.1111111111111111,
              "#000012"
             ],
             [
              0.2222222222222222,
              "#000013"
             ],
             [
              0.3333333333333333,
              "#000014"
             ],
             [
              0.4444444444444444,
              "#000015"
             ],
             [
              0.5555555555555556,
              "#000016"
             ],
             [
              0.6666666666666666,
              "#000017"
             ],
             [
              0.7777777777777778,
              "#000018"
             ],
             [
              0.8888888888888888,
              "#000019"
             ],
             [
              1.0,
              "#000020"
             ]
            ],
            "type": "contour"
           }
          ],
          "heatmap": [
           {
            "colorscale": [
             [
              0.0,
              "#000011"
             ],
             [
              0.1111111111111111,
              "#000012"
             ],
             [
              0.2222222222222222,
              "#000013"
             ],
             [
              0.3333333333333333,
              "#000014"
             ],
             [
              0.4444444444444444,
              "#000015"
             ],
             [
              0.5555555555555556,
              "#000016"
             ],
             [
              0.6666666666666666,
              "#000017"
             ],
             [
              0.7777777777777778,
              "#000018"
             ],
             [
              0.8888888888888888,
              "#000019"
             ],
             [
              1.0,
              "#000020"
             ]
            ],
            "type": "heatmap"
           }
          ],
          "histogram2d": [
           {
            "colorscale": [
             [
              0.0,
              "#000011"
             ],
             [
              0.1111111111111111,
              "#000012"
             ],
             [
              0.2222222222222222,
              "#000013"
             ],
             [
              0.3333333333333333,
              "#000014"
             ],
             [
              0.4444444444444444,
              "#000015"
             ],
             [
              0.5555555555555556,
              "#000016"
             ],
             [
              0.6666666666666666,
              "#000017"
             ],
             [
              0.7777777777777778,
              "#000018"
             ],
             [
              0.8888888888888888,
              "#000019"
             ],
             [
              1.0,
              "#000020"
             ]
            ],
            "type": "histogram2d"
           }
          ],
          "icicle": [
           {
            "textfont": {
             "color": "white"
            },
            "type": "icicle"
           }
          ],
          "sankey": [
           {
            "textfont": {
             "color": "#000036"
            },
            "type": "sankey"
           }
          ],
          "scatter": [
           {
            "marker": {
             "line": {
              "width": 0
             }
            },
            "type": "scatter"
           }
          ],
          "table": [
           {
            "cells": {
             "fill": {
              "color": "#000038"
             },
             "font": {
              "color": "#000037"
             },
             "line": {
              "color": "#000039"
             }
            },
            "header": {
             "fill": {
              "color": "#000040"
             },
             "font": {
              "color": "#000036"
             },
             "line": {
              "color": "#000039"
             }
            },
            "type": "table"
           }
          ],
          "waterfall": [
           {
            "connector": {
             "line": {
              "color": "#000036",
              "width": 2
             }
            },
            "decreasing": {
             "marker": {
              "color": "#000033"
             }
            },
            "increasing": {
             "marker": {
              "color": "#000032"
             }
            },
            "totals": {
             "marker": {
              "color": "#000034"
             }
            },
            "type": "waterfall"
           }
          ]
         },
         "layout": {
          "coloraxis": {
           "colorscale": [
            [
             0.0,
             "#000011"
            ],
            [
             0.1111111111111111,
             "#000012"
            ],
            [
             0.2222222222222222,
             "#000013"
            ],
            [
             0.3333333333333333,
             "#000014"
            ],
            [
             0.4444444444444444,
             "#000015"
            ],
            [
             0.5555555555555556,
             "#000016"
            ],
            [
             0.6666666666666666,
             "#000017"
            ],
            [
             0.7777777777777778,
             "#000018"
            ],
            [
             0.8888888888888888,
             "#000019"
            ],
            [
             1.0,
             "#000020"
            ]
           ]
          },
          "colorscale": {
           "diverging": [
            [
             0.0,
             "#000021"
            ],
            [
             0.1,
             "#000022"
            ],
            [
             0.2,
             "#000023"
            ],
            [
             0.3,
             "#000024"
            ],
            [
             0.4,
             "#000025"
            ],
            [
             0.5,
             "#000026"
            ],
            [
             0.6,
             "#000027"
            ],
            [
             0.7,
             "#000028"
            ],
            [
             0.8,
             "#000029"
            ],
            [
             0.9,
             "#000030"
            ],
            [
             1.0,
             "#000031"
            ]
           ],
           "sequential": [
            [
             0.0,
             "#000011"
            ],
            [
             0.1111111111111111,
             "#000012"
            ],
            [
             0.2222222222222222,
             "#000013"
            ],
            [
             0.3333333333333333,
             "#000014"
            ],
            [
             0.4444444444444444,
             "#000015"
            ],
            [
             0.5555555555555556,
             "#000016"
            ],
            [
             0.6666666666666666,
             "#000017"
            ],
            [
             0.7777777777777778,
             "#000018"
            ],
            [
             0.8888888888888888,
             "#000019"
            ],
            [
             1.0,
             "#000020"
            ]
           ],
           "sequentialminus": [
            [
             0.0,
             "#000011"
            ],
            [
             0.1111111111111111,
             "#000012"
            ],
            [
             0.2222222222222222,
             "#000013"
            ],
            [
             0.3333333333333333,
             "#000014"
            ],
            [
             0.4444444444444444,
             "#000015"
            ],
            [
             0.5555555555555556,
             "#000016"
            ],
            [
             0.6666666666666666,
             "#000017"
            ],
            [
             0.7777777777777778,
             "#000018"
            ],
            [
             0.8888888888888888,
             "#000019"
            ],
            [
             1.0,
             "#000020"
            ]
           ]
          },
          "colorway": [
           "#000001",
           "#000002",
           "#000003",
           "#000004",
           "#000005",
           "#000006",
           "#000007",
           "#000008",
           "#000009",
           "#000010"
          ]
         }
        },
        "xaxis": {
         "anchor": "y",
         "domain": [
          0.0,
          1.0
         ],
         "title": {
          "text": "x"
         }
        },
        "yaxis": {
         "anchor": "x",
         "domain": [
          0.0,
          1.0
         ],
         "title": {
          "text": "y"
         },
         "scaleanchor": "x",
         "scaleratio": 1
        },
        "legend": {
         "title": {
          "text": "cluster_kmeans"
         },
         "tracegroupgap": 0,
         "itemsizing": "constant"
        },
        "title": {
         "text": "cluster_kmeans"
        },
        "height": 700
       },
       "config": {
        "plotlyServerURL": "https://plot.ly"
       }
      }
     },
     "metadata": {},
     "output_type": "display_data",
     "jetTransient": {
      "display_id": null
     }
    },
    {
     "data": {
      "application/vnd.plotly.v1+json": {
       "data": [
        {
         "hovertemplate": "<b>%{hovertext}</b><br><br>cluster_gaussian=17<br>x=%{x}<br>y=%{y}<br>size=%{marker.size}<extra></extra>",
         "hovertext": [
          "01309",
          "01384"
         ],
         "legendgroup": "17",
         "marker": {
          "color": "rgb(229, 134, 6)",
          "size": {
           "dtype": "i1",
           "bdata": "AQE="
          },
          "sizemode": "area",
          "sizeref": 0.0025,
          "symbol": "circle"
         },
         "mode": "markers",
         "name": "17",
         "orientation": "v",
         "showlegend": true,
         "x": {
          "dtype": "f8",
          "bdata": "N1qd1274XMBICsR6mGJYwA=="
         },
         "xaxis": "x",
         "y": {
          "dtype": "f8",
          "bdata": "x2rKQt98Z8CcEUWQhDlswA=="
         },
         "yaxis": "y",
         "type": "scatter"
        },
        {
         "hovertemplate": "<b>%{hovertext}</b><br><br>cluster_gaussian=6<br>x=%{x}<br>y=%{y}<br>size=%{marker.size}<extra></extra>",
         "hovertext": [
          "02546",
          "59415",
          "59642",
          "62356",
          "62372",
          "62374",
          "62469",
          "80052",
          "80293",
          "80300",
          "80485",
          "80753"
         ],
         "legendgroup": "6",
         "marker": {
          "color": "rgb(93, 105, 177)",
          "size": {
           "dtype": "i1",
           "bdata": "AQEBAQEBAQEBAQEB"
          },
          "sizemode": "area",
          "sizeref": 0.0025,
          "symbol": "circle"
         },
         "mode": "markers",
         "name": "6",
         "orientation": "v",
         "showlegend": true,
         "x": {
          "dtype": "f8",
          "bdata": "O7yHVJ5/YcAtkzaBI4ZnwOMQfWi9vGfAEG5Bm1ceYsC4SntZyo5gwJx5RHXU5GHAYuiYcF0MZMD3rZhG4ENdwAL0aRCtcVrAn8W3qLT0YMCiA4DA4P1UwG6f0tLXY2DA"
         },
         "xaxis": "x",
         "y": {
          "dtype": "f8",
          "bdata": "bZa61zGRa0BTAZs84YxwQF28QTqV5HFAs/5/kq5/c0BvJdNeYANzQAzWnqbWcHFAuZDZf1kRcUA5HVU6LxRxQKF43WJhtG1AjdkimNAtbkCpznvB64RwQHxylZtzFXFA"
         },
         "yaxis": "y",
         "type": "scatter"
        },
        {
         "hovertemplate": "<b>%{hovertext}</b><br><br>cluster_gaussian=12<br>x=%{x}<br>y=%{y}<br>size=%{marker.size}<extra></extra>",
         "hovertext": [
          "03077",
          "03097",
          "63148"
         ],
         "legendgroup": "12",
         "marker": {
          "color": "rgb(82, 188, 163)",
          "size": {
           "dtype": "i1",
           "bdata": "AQEB"
          },
          "sizemode": "area",
          "sizeref": 0.0025,
          "symbol": "circle"
         },
         "mode": "markers",
         "name": "12",
         "orientation": "v",
         "showlegend": true,
         "x": {
          "dtype": "f8",
          "bdata": "eIXUmkeESUBq3kTLx0pOQLa8zQicJExA"
         },
         "xaxis": "x",
         "y": {
          "dtype": "f8",
          "bdata": "BEPg5LGdW8BBOxf6d+1VwDQ8DedC32LA"
         },
         "yaxis": "y",
         "type": "scatter"
        },
        {
         "hovertemplate": "<b>%{hovertext}</b><br><br>cluster_gaussian=7<br>x=%{x}<br>y=%{y}<br>size=%{marker.size}<extra></extra>",
         "hovertext": [
          "06050"
         ],
         "legendgroup": "7",
         "marker": {
          "color": "rgb(153, 201, 69)",
          "size": {
           "dtype": "i1",
           "bdata": "AQ=="
          },
          "sizemode": "area",
          "sizeref": 0.0025,
          "symbol": "circle"
         },
         "mode": "markers",
         "name": "7",
         "orientation": "v",
         "showlegend": true,
         "x": {
          "dtype": "f8",
          "bdata": "8YbTHa+fWcA="
         },
         "xaxis": "x",
         "y": {
          "dtype": "f8",
          "bdata": "uCgHyH8Hf8A="
         },
         "yaxis": "y",
         "type": "scatter"
        },
        {
         "hovertemplate": "<b>%{hovertext}</b><br><br>cluster_gaussian=5<br>x=%{x}<br>y=%{y}<br>size=%{marker.size}<extra></extra>",
         "hovertext": [
          "08149",
          "08315"
         ],
         "legendgroup": "5",
         "marker": {
          "color": "rgb(204, 97, 176)",
          "size": {
           "dtype": "i1",
           "bdata": "AQE="
          },
          "sizemode": "area",
          "sizeref": 0.0025,
          "symbol": "circle"
         },
         "mode": "markers",
         "name": "5",
         "orientation": "v",
         "showlegend": true,
         "x": {
          "dtype": "f8",
          "bdata": "P11q4ZnHbMBGSQeq5slswA=="
         },
         "xaxis": "x",
         "y": {
          "dtype": "f8",
          "bdata": "fKoawZ99Z0CDFVTk1NxmQA=="
         },
         "yaxis": "y",
         "type": "scatter"
        },
        {
         "hovertemplate": "<b>%{hovertext}</b><br><br>cluster_gaussian=15<br>x=%{x}<br>y=%{y}<br>size=%{marker.size}<extra></extra>",
         "hovertext": [
          "11070",
          "81028",
          "81178"
         ],
         "legendgroup": "15",
         "marker": {
          "color": "rgb(36, 121, 108)",
          "size": {
           "dtype": "i1",
           "bdata": "AQEB"
          },
          "sizemode": "area",
          "sizeref": 0.0025,
          "symbol": "circle"
         },
         "mode": "markers",
         "name": "15",
         "orientation": "v",
         "showlegend": true,
         "x": {
          "dtype": "f8",
          "bdata": "vyg3MDEVcUAuB62QlKJrQKptKBkcUXFA"
         },
         "xaxis": "x",
         "y": {
          "dtype": "f8",
          "bdata": "0GEglc96dsBDSbIEATh1wOE2FHcThnHA"
         },
         "yaxis": "y",
         "type": "scatter"
        },
        {
         "hovertemplate": "<b>%{hovertext}</b><br><br>cluster_gaussian=14<br>x=%{x}<br>y=%{y}<br>size=%{marker.size}<extra></extra>",
         "hovertext": [
          "17221",
          "79047",
          "85095"
         ],
         "legendgroup": "14",
         "marker": {
          "color": "rgb(218, 165, 27)",
          "size": {
           "dtype": "i1",
           "bdata": "AQEB"
          },
          "sizemode": "area",
          "sizeref": 0.0025,
          "symbol": "circle"
         },
         "mode": "markers",
         "name": "14",
         "orientation": "v",
         "showlegend": true,
         "x": {
          "dtype": "f8",
          "bdata": "bFVdtwTCckC8krqswXttQC2Dif23v3RA"
         },
         "xaxis": "x",
         "y": {
          "dtype": "f8",
          "bdata": "nJyw9u86M0ASYsIzqP9RQDCi5Rg5uWBA"
         },
         "yaxis": "y",
         "type": "scatter"
        },
        {
         "hovertemplate": "<b>%{hovertext}</b><br><br>cluster_gaussian=18<br>x=%{x}<br>y=%{y}<br>size=%{marker.size}<extra></extra>",
         "hovertext": [
          "21137"
         ],
         "legendgroup": "18",
         "marker": {
          "color": "rgb(47, 138, 196)",
          "size": {
           "dtype": "i1",
           "bdata": "AQ=="
          },
          "sizemode": "area",
          "sizeref": 0.0025,
          "symbol": "circle"
         },
         "mode": "markers",
         "name": "18",
         "orientation": "v",
         "showlegend": true,
         "x": {
          "dtype": "f8",
          "bdata": "eEKGztV7WsA="
         },
         "xaxis": "x",
         "y": {
          "dtype": "f8",
          "bdata": "KgYwvhHcPMA="
         },
         "yaxis": "y",
         "type": "scatter"
        },
        {
         "hovertemplate": "<b>%{hovertext}</b><br><br>cluster_gaussian=3<br>x=%{x}<br>y=%{y}<br>size=%{marker.size}<extra></extra>",
         "hovertext": [
          "24359",
          "24586",
          "33257",
          "47225"
         ],
         "legendgroup": "3",
         "marker": {
          "color": "rgb(118, 78, 159)",
          "size": {
           "dtype": "i1",
           "bdata": "AQEBAQ=="
          },
          "sizemode": "area",
          "sizeref": 0.0025,
          "symbol": "circle"
         },
         "mode": "markers",
         "name": "3",
         "orientation": "v",
         "showlegend": true,
         "x": {
          "dtype": "f8",
          "bdata": "xMP0wmgsc0AJnY6ybdBxQG6hB/NBxnVAHQtulbLZdEA="
         },
         "xaxis": "x",
         "y": {
          "dtype": "f8",
          "bdata": "fF0qMImeY8CA8dZ9hW5ZwBSq80w1fV7AD7ll6pevasA="
         },
         "yaxis": "y",
         "type": "scatter"
        },
        {
         "hovertemplate": "<b>%{hovertext}</b><br><br>cluster_gaussian=22<br>x=%{x}<br>y=%{y}<br>size=%{marker.size}<extra></extra>",
         "hovertext": [
          "25331",
          "25351",
          "25599"
         ],
         "legendgroup": "22",
         "marker": {
          "color": "rgb(237, 100, 90)",
          "size": {
           "dtype": "i1",
           "bdata": "AQEB"
          },
          "sizemode": "area",
          "sizeref": 0.0025,
          "symbol": "circle"
         },
         "mode": "markers",
         "name": "22",
         "orientation": "v",
         "showlegend": true,
         "x": {
          "dtype": "f8",
          "bdata": "cgHGzFYtasCWlJ9uljxuwMICGuEnnGvA"
         },
         "xaxis": "x",
         "y": {
          "dtype": "f8",
          "bdata": "B6g20OWJYcDV6Siro0diwEgu9Ye9+1zA"
         },
         "yaxis": "y",
         "type": "scatter"
        },
        {
         "hovertemplate": "<b>%{hovertext}</b><br><br>cluster_gaussian=9<br>x=%{x}<br>y=%{y}<br>size=%{marker.size}<extra></extra>",
         "hovertext": [
          "26210",
          "38064",
          "38188",
          "73100"
         ],
         "legendgroup": "9",
         "marker": {
          "color": "rgb(165, 170, 153)",
          "size": {
           "dtype": "i1",
           "bdata": "AQEBAQ=="
          },
          "sizemode": "area",
          "sizeref": 0.0025,
          "symbol": "circle"
         },
         "mode": "markers",
         "name": "9",
         "orientation": "v",
         "showlegend": true,
         "x": {
          "dtype": "f8",
          "bdata": "I3dKTPp9Q8A5DwtR93BSwImPEoW5RVTAXSz4X7PUV8A="
         },
         "xaxis": "x",
         "y": {
          "dtype": "f8",
          "bdata": "aX+hUlPvccD9Z9CUj1dwwBvr27k56XPACx3SsaQ+ccA="
         },
         "yaxis": "y",
         "type": "scatter"
        },
        {
         "hovertemplate": "<b>%{hovertext}</b><br><br>cluster_gaussian=10<br>x=%{x}<br>y=%{y}<br>size=%{marker.size}<extra></extra>",
         "hovertext": [
          "31505",
          "31543",
          "32199"
         ],
         "legendgroup": "10",
         "marker": {
          "color": "rgb(229, 134, 6)",
          "size": {
           "dtype": "i1",
           "bdata": "AQEB"
          },
          "sizemode": "area",
          "sizeref": 0.0025,
          "symbol": "circle"
         },
         "mode": "markers",
         "name": "10",
         "orientation": "v",
         "showlegend": true,
         "x": {
          "dtype": "f8",
          "bdata": "hbZRn+wldkA/nJk2xvd1QKfAjdF59nhA"
         },
         "xaxis": "x",
         "y": {
          "dtype": "f8",
          "bdata": "LlsxM/+sdMD6NnnQblFzwGYesB2XoW7A"
         },
         "yaxis": "y",
         "type": "scatter"
        },
        {
         "hovertemplate": "<b>%{hovertext}</b><br><br>cluster_gaussian=19<br>x=%{x}<br>y=%{y}<br>size=%{marker.size}<extra></extra>",
         "hovertext": [
          "35001",
          "35068",
          "35247",
          "53157",
          "53211"
         ],
         "legendgroup": "19",
         "marker": {
          "color": "rgb(93, 105, 177)",
          "size": {
           "dtype": "i1",
           "bdata": "AQEBAQE="
          },
          "sizemode": "area",
          "sizeref": 0.0025,
          "symbol": "circle"
         },
         "mode": "markers",
         "name": "19",
         "orientation": "v",
         "showlegend": true,
         "x": {
          "dtype": "f8",
          "bdata": "1j6HVo8ybkCUcGzAdV1tQH8biAKQTmtAo5hTUaGNaUDCvOXk6nNnQA=="
         },
         "xaxis": "x",
         "y": {
          "dtype": "f8",
          "bdata": "IbArMALVbkAxiK+j8+htQDBQhrLtOHJAlBVd7Ii7aUAf9QJm3ONtQA=="
         },
         "yaxis": "y",
         "type": "scatter"
        },
        {
         "hovertemplate": "<b>%{hovertext}</b><br><br>cluster_gaussian=0<br>x=%{x}<br>y=%{y}<br>size=%{marker.size}<extra></extra>",
         "hovertext": [
          "39182"
         ],
         "legendgroup": "0",
         "marker": {
          "color": "rgb(82, 188, 163)",
          "size": {
           "dtype": "i1",
           "bdata": "AQ=="
          },
          "sizemode": "area",
          "sizeref": 0.0025,
          "symbol": "circle"
         },
         "mode": "markers",
         "name": "0",
         "orientation": "v",
         "showlegend": true,
         "x": {
          "dtype": "f8",
          "bdata": "oONBh2KiY8A="
         },
         "xaxis": "x",
         "y": {
          "dtype": "f8",
          "bdata": "LlDKQZ4SXcA="
         },
         "yaxis": "y",
         "type": "scatter"
        },
        {
         "hovertemplate": "<b>%{hovertext}</b><br><br>cluster_gaussian=2<br>x=%{x}<br>y=%{y}<br>size=%{marker.size}<extra></extra>",
         "hovertext": [
          "42062",
          "43027",
          "43043",
          "43132"
         ],
         "legendgroup": "2",
         "marker": {
          "color": "rgb(153, 201, 69)",
          "size": {
           "dtype": "i1",
           "bdata": "AQEBAQ=="
          },
          "sizemode": "area",
          "sizeref": 0.0025,
          "symbol": "circle"
         },
         "mode": "markers",
         "name": "2",
         "orientation": "v",
         "showlegend": true,
         "x": {
          "dtype": "f8",
          "bdata": "kJhaeFgmHsDinQMcwc9PQOJzJJdxWU1AjGl5RD1LU0A="
         },
         "xaxis": "x",
         "y": {
          "dtype": "f8",
          "bdata": "2fVvVF4GbMDQw7+5jxJswJ34aStjBG7AHYWm13jCbcA="
         },
         "yaxis": "y",
         "type": "scatter"
        },
        {
         "hovertemplate": "<b>%{hovertext}</b><br><br>cluster_gaussian=11<br>x=%{x}<br>y=%{y}<br>size=%{marker.size}<extra></extra>",
         "hovertext": [
          "45346",
          "78146",
          "94047",
          "94070",
          "95436",
          "95604"
         ],
         "legendgroup": "11",
         "marker": {
          "color": "rgb(204, 97, 176)",
          "size": {
           "dtype": "i1",
           "bdata": "AQEBAQEB"
          },
          "sizemode": "area",
          "sizeref": 0.0025,
          "symbol": "circle"
         },
         "mode": "markers",
         "name": "11",
         "orientation": "v",
         "showlegend": true,
         "x": {
          "dtype": "f8",
          "bdata": "HCDQTjE+JEDIzJIjJ0RBwLkLONaUk0jAdzgw8jMBSsAwYGCseItLwPAwJ/9Ql1HA"
         },
         "xaxis": "x",
         "y": {
          "dtype": "f8",
          "bdata": "WcQ21lHDVECUmYtmz2FmQI1EKAehX2JA2hRMz8aOYkD5DsrmxNNoQJbxEzlSM2dA"
         },
         "yaxis": "y",
         "type": "scatter"
        },
        {
         "hovertemplate": "<b>%{hovertext}</b><br><br>cluster_gaussian=4<br>x=%{x}<br>y=%{y}<br>size=%{marker.size}<extra></extra>",
         "hovertext": [
          "49064",
          "49331"
         ],
         "legendgroup": "4",
         "marker": {
          "color": "rgb(36, 121, 108)",
          "size": {
           "dtype": "i1",
           "bdata": "AQE="
          },
          "sizemode": "area",
          "sizeref": 0.0025,
          "symbol": "circle"
         },
         "mode": "markers",
         "name": "4",
         "orientation": "v",
         "showlegend": true,
         "x": {
          "dtype": "f8",
          "bdata": "r9OQ38zKakCwTAGsI1RsQA=="
         },
         "xaxis": "x",
         "y": {
          "dtype": "f8",
          "bdata": "yA093/FVZUCD9egUaDlmQA=="
         },
         "yaxis": "y",
         "type": "scatter"
        },
        {
         "hovertemplate": "<b>%{hovertext}</b><br><br>cluster_gaussian=20<br>x=%{x}<br>y=%{y}<br>size=%{marker.size}<extra></extra>",
         "hovertext": [
          "52047"
         ],
         "legendgroup": "20",
         "marker": {
          "color": "rgb(218, 165, 27)",
          "size": {
           "dtype": "i1",
           "bdata": "AQ=="
          },
          "sizemode": "area",
          "sizeref": 0.0025,
          "symbol": "circle"
         },
         "mode": "markers",
         "name": "20",
         "orientation": "v",
         "showlegend": true,
         "x": {
          "dtype": "f8",
          "bdata": "iY6Ya2wrZsA="
         },
         "xaxis": "x",
         "y": {
          "dtype": "f8",
          "bdata": "oVMM6TxzPUA="
         },
         "yaxis": "y",
         "type": "scatter"
        },
        {
         "hovertemplate": "<b>%{hovertext}</b><br><br>cluster_gaussian=13<br>x=%{x}<br>y=%{y}<br>size=%{marker.size}<extra></extra>",
         "hovertext": [
          "54039",
          "57423"
         ],
         "legendgroup": "13",
         "marker": {
          "color": "rgb(47, 138, 196)",
          "size": {
           "dtype": "i1",
           "bdata": "AQE="
          },
          "sizemode": "area",
          "sizeref": 0.0025,
          "symbol": "circle"
         },
         "mode": "markers",
         "name": "13",
         "orientation": "v",
         "showlegend": true,
         "x": {
          "dtype": "f8",
          "bdata": "Q/zUjlNXc8DqaGhSJaBzwA=="
         },
         "xaxis": "x",
         "y": {
          "dtype": "f8",
          "bdata": "c1PEqqyVNMAX8E7H1g86QA=="
         },
         "yaxis": "y",
         "type": "scatter"
        },
        {
         "hovertemplate": "<b>%{hovertext}</b><br><br>cluster_gaussian=21<br>x=%{x}<br>y=%{y}<br>size=%{marker.size}<extra></extra>",
         "hovertext": [
          "67315"
         ],
         "legendgroup": "21",
         "marker": {
          "color": "rgb(118, 78, 159)",
          "size": {
           "dtype": "i1",
           "bdata": "AQ=="
          },
          "sizemode": "area",
          "sizeref": 0.0025,
          "symbol": "circle"
         },
         "mode": "markers",
         "name": "21",
         "orientation": "v",
         "showlegend": true,
         "x": {
          "dtype": "f8",
          "bdata": "2Kg70caVesA="
         },
         "xaxis": "x",
         "y": {
          "dtype": "f8",
          "bdata": "vcsgJVFRKsA="
         },
         "yaxis": "y",
         "type": "scatter"
        },
        {
         "hovertemplate": "<b>%{hovertext}</b><br><br>cluster_gaussian=8<br>x=%{x}<br>y=%{y}<br>size=%{marker.size}<extra></extra>",
         "hovertext": [
          "68300",
          "90104"
         ],
         "legendgroup": "8",
         "marker": {
          "color": "rgb(237, 100, 90)",
          "size": {
           "dtype": "i1",
           "bdata": "AQE="
          },
          "sizemode": "area",
          "sizeref": 0.0025,
          "symbol": "circle"
         },
         "mode": "markers",
         "name": "8",
         "orientation": "v",
         "showlegend": true,
         "x": {
          "dtype": "f8",
          "bdata": "JpGofiv8c8BDQnpl6ohxwA=="
         },
         "xaxis": "x",
         "y": {
          "dtype": "f8",
          "bdata": "FbLf7fq8WsDMtlnXI69bwA=="
         },
         "yaxis": "y",
         "type": "scatter"
        },
        {
         "hovertemplate": "<b>%{hovertext}</b><br><br>cluster_gaussian=16<br>x=%{x}<br>y=%{y}<br>size=%{marker.size}<extra></extra>",
         "hovertext": [
          "71353",
          "71399",
          "71479"
         ],
         "legendgroup": "16",
         "marker": {
          "color": "rgb(165, 170, 153)",
          "size": {
           "dtype": "i1",
           "bdata": "AQEB"
          },
          "sizemode": "area",
          "sizeref": 0.0025,
          "symbol": "circle"
         },
         "mode": "markers",
         "name": "16",
         "orientation": "v",
         "showlegend": true,
         "x": {
          "dtype": "f8",
          "bdata": "farkTmobVsAH/GZY79k8wLNhuICBr1LA"
         },
         "xaxis": "x",
         "y": {
          "dtype": "f8",
          "bdata": "l9xJzGqOYsDIFxl6hHFiwEME61rqklnA"
         },
         "yaxis": "y",
         "type": "scatter"
        },
        {
         "hovertemplate": "<b>%{hovertext}</b><br><br>cluster_gaussian=1<br>x=%{x}<br>y=%{y}<br>size=%{marker.size}<extra></extra>",
         "hovertext": [
          "76322",
          "76706"
         ],
         "legendgroup": "1",
         "marker": {
          "color": "rgb(229, 134, 6)",
          "size": {
           "dtype": "i1",
           "bdata": "AQE="
          },
          "sizemode": "area",
          "sizeref": 0.0025,
          "symbol": "circle"
         },
         "mode": "markers",
         "name": "1",
         "orientation": "v",
         "showlegend": true,
         "x": {
          "dtype": "f8",
          "bdata": "eo5HC9C2GkC3tQWOWvM9QA=="
         },
         "xaxis": "x",
         "y": {
          "dtype": "f8",
          "bdata": "abGLhJHPcEDDPNNIsCN0QA=="
         },
         "yaxis": "y",
         "type": "scatter"
        }
       ],
       "layout": {
        "template": {
         "data": {
          "candlestick": [
           {
            "decreasing": {
             "line": {
              "color": "#000033"
             }
            },
            "increasing": {
             "line": {
              "color": "#000032"
             }
            },
            "type": "candlestick"
           }
          ],
          "contourcarpet": [
           {
            "colorscale": [
             [
              0.0,
              "#000011"
             ],
             [
              0.1111111111111111,
              "#000012"
             ],
             [
              0.2222222222222222,
              "#000013"
             ],
             [
              0.3333333333333333,
              "#000014"
             ],
             [
              0.4444444444444444,
              "#000015"
             ],
             [
              0.5555555555555556,
              "#000016"
             ],
             [
              0.6666666666666666,
              "#000017"
             ],
             [
              0.7777777777777778,
              "#000018"
             ],
             [
              0.8888888888888888,
              "#000019"
             ],
             [
              1.0,
              "#000020"
             ]
            ],
            "type": "contourcarpet"
           }
          ],
          "contour": [
           {
            "colorscale": [
             [
              0.0,
              "#000011"
             ],
             [
              0.1111111111111111,
              "#000012"
             ],
             [
              0.2222222222222222,
              "#000013"
             ],
             [
              0.3333333333333333,
              "#000014"
             ],
             [
              0.4444444444444444,
              "#000015"
             ],
             [
              0.5555555555555556,
              "#000016"
             ],
             [
              0.6666666666666666,
              "#000017"
             ],
             [
              0.7777777777777778,
              "#000018"
             ],
             [
              0.8888888888888888,
              "#000019"
             ],
             [
              1.0,
              "#000020"
             ]
            ],
            "type": "contour"
           }
          ],
          "heatmap": [
           {
            "colorscale": [
             [
              0.0,
              "#000011"
             ],
             [
              0.1111111111111111,
              "#000012"
             ],
             [
              0.2222222222222222,
              "#000013"
             ],
             [
              0.3333333333333333,
              "#000014"
             ],
             [
              0.4444444444444444,
              "#000015"
             ],
             [
              0.5555555555555556,
              "#000016"
             ],
             [
              0.6666666666666666,
              "#000017"
             ],
             [
              0.7777777777777778,
              "#000018"
             ],
             [
              0.8888888888888888,
              "#000019"
             ],
             [
              1.0,
              "#000020"
             ]
            ],
            "type": "heatmap"
           }
          ],
          "histogram2d": [
           {
            "colorscale": [
             [
              0.0,
              "#000011"
             ],
             [
              0.1111111111111111,
              "#000012"
             ],
             [
              0.2222222222222222,
              "#000013"
             ],
             [
              0.3333333333333333,
              "#000014"
             ],
             [
              0.4444444444444444,
              "#000015"
             ],
             [
              0.5555555555555556,
              "#000016"
             ],
             [
              0.6666666666666666,
              "#000017"
             ],
             [
              0.7777777777777778,
              "#000018"
             ],
             [
              0.8888888888888888,
              "#000019"
             ],
             [
              1.0,
              "#000020"
             ]
            ],
            "type": "histogram2d"
           }
          ],
          "icicle": [
           {
            "textfont": {
             "color": "white"
            },
            "type": "icicle"
           }
          ],
          "sankey": [
           {
            "textfont": {
             "color": "#000036"
            },
            "type": "sankey"
           }
          ],
          "scatter": [
           {
            "marker": {
             "line": {
              "width": 0
             }
            },
            "type": "scatter"
           }
          ],
          "table": [
           {
            "cells": {
             "fill": {
              "color": "#000038"
             },
             "font": {
              "color": "#000037"
             },
             "line": {
              "color": "#000039"
             }
            },
            "header": {
             "fill": {
              "color": "#000040"
             },
             "font": {
              "color": "#000036"
             },
             "line": {
              "color": "#000039"
             }
            },
            "type": "table"
           }
          ],
          "waterfall": [
           {
            "connector": {
             "line": {
              "color": "#000036",
              "width": 2
             }
            },
            "decreasing": {
             "marker": {
              "color": "#000033"
             }
            },
            "increasing": {
             "marker": {
              "color": "#000032"
             }
            },
            "totals": {
             "marker": {
              "color": "#000034"
             }
            },
            "type": "waterfall"
           }
          ]
         },
         "layout": {
          "coloraxis": {
           "colorscale": [
            [
             0.0,
             "#000011"
            ],
            [
             0.1111111111111111,
             "#000012"
            ],
            [
             0.2222222222222222,
             "#000013"
            ],
            [
             0.3333333333333333,
             "#000014"
            ],
            [
             0.4444444444444444,
             "#000015"
            ],
            [
             0.5555555555555556,
             "#000016"
            ],
            [
             0.6666666666666666,
             "#000017"
            ],
            [
             0.7777777777777778,
             "#000018"
            ],
            [
             0.8888888888888888,
             "#000019"
            ],
            [
             1.0,
             "#000020"
            ]
           ]
          },
          "colorscale": {
           "diverging": [
            [
             0.0,
             "#000021"
            ],
            [
             0.1,
             "#000022"
            ],
            [
             0.2,
             "#000023"
            ],
            [
             0.3,
             "#000024"
            ],
            [
             0.4,
             "#000025"
            ],
            [
             0.5,
             "#000026"
            ],
            [
             0.6,
             "#000027"
            ],
            [
             0.7,
             "#000028"
            ],
            [
             0.8,
             "#000029"
            ],
            [
             0.9,
             "#000030"
            ],
            [
             1.0,
             "#000031"
            ]
           ],
           "sequential": [
            [
             0.0,
             "#000011"
            ],
            [
             0.1111111111111111,
             "#000012"
            ],
            [
             0.2222222222222222,
             "#000013"
            ],
            [
             0.3333333333333333,
             "#000014"
            ],
            [
             0.4444444444444444,
             "#000015"
            ],
            [
             0.5555555555555556,
             "#000016"
            ],
            [
             0.6666666666666666,
             "#000017"
            ],
            [
             0.7777777777777778,
             "#000018"
            ],
            [
             0.8888888888888888,
             "#000019"
            ],
            [
             1.0,
             "#000020"
            ]
           ],
           "sequentialminus": [
            [
             0.0,
             "#000011"
            ],
            [
             0.1111111111111111,
             "#000012"
            ],
            [
             0.2222222222222222,
             "#000013"
            ],
            [
             0.3333333333333333,
             "#000014"
            ],
            [
             0.4444444444444444,
             "#000015"
            ],
            [
             0.5555555555555556,
             "#000016"
            ],
            [
             0.6666666666666666,
             "#000017"
            ],
            [
             0.7777777777777778,
             "#000018"
            ],
            [
             0.8888888888888888,
             "#000019"
            ],
            [
             1.0,
             "#000020"
            ]
           ]
          },
          "colorway": [
           "#000001",
           "#000002",
           "#000003",
           "#000004",
           "#000005",
           "#000006",
           "#000007",
           "#000008",
           "#000009",
           "#000010"
          ]
         }
        },
        "xaxis": {
         "anchor": "y",
         "domain": [
          0.0,
          1.0
         ],
         "title": {
          "text": "x"
         }
        },
        "yaxis": {
         "anchor": "x",
         "domain": [
          0.0,
          1.0
         ],
         "title": {
          "text": "y"
         },
         "scaleanchor": "x",
         "scaleratio": 1
        },
        "legend": {
         "title": {
          "text": "cluster_gaussian"
         },
         "tracegroupgap": 0,
         "itemsizing": "constant"
        },
        "title": {
         "text": "cluster_gaussian"
        },
        "height": 700
       },
       "config": {
        "plotlyServerURL": "https://plot.ly"
       }
      }
     },
     "metadata": {},
     "output_type": "display_data",
     "jetTransient": {
      "display_id": null
     }
    },
    {
     "data": {
      "text/plain": [
       "                         name     lat    lng           x           y  \\\n",
       "index                                                                  \n",
       "01309                Pouillat  46.327  5.428 -115.881765 -187.902254   \n",
       "01384  Saint-Rambert-en-Bugey  45.949  5.440  -97.540557 -225.797432   \n",
       "02546    La Neuville-en-Beine  49.676  3.151 -139.988077  220.537334   \n",
       "03077         Chirat-l'Église  46.240  3.033   51.033435 -110.463983   \n",
       "03097     Deneuille-les-Mines  46.378  2.782   60.584222  -87.710448   \n",
       "...                       ...     ...    ...         ...         ...   \n",
       "90104                Vézelois  47.607  6.918 -280.557226 -110.736563   \n",
       "94047       Mandres-les-Roses  48.702  2.544  -49.152980  146.988407   \n",
       "94070                 Santeny  48.726  2.570  -52.009398  148.461769   \n",
       "95436                   Mours  49.134  2.271  -55.089620  198.617786   \n",
       "95604             Survilliers  49.099  2.542  -70.364319  185.603787   \n",
       "\n",
       "      cluster_kmeans cluster_gaussian  \n",
       "index                                  \n",
       "01309             18               17  \n",
       "01384             18               17  \n",
       "02546              0                6  \n",
       "03077              1               12  \n",
       "03097              1               12  \n",
       "...              ...              ...  \n",
       "90104              7                8  \n",
       "94047             10               11  \n",
       "94070             10               11  \n",
       "95436             10               11  \n",
       "95604             10               11  \n",
       "\n",
       "[70 rows x 7 columns]"
      ],
      "text/html": [
       "<div>\n",
       "<style scoped>\n",
       "    .dataframe tbody tr th:only-of-type {\n",
       "        vertical-align: middle;\n",
       "    }\n",
       "\n",
       "    .dataframe tbody tr th {\n",
       "        vertical-align: top;\n",
       "    }\n",
       "\n",
       "    .dataframe thead th {\n",
       "        text-align: right;\n",
       "    }\n",
       "</style>\n",
       "<table border=\"1\" class=\"dataframe\">\n",
       "  <thead>\n",
       "    <tr style=\"text-align: right;\">\n",
       "      <th></th>\n",
       "      <th>name</th>\n",
       "      <th>lat</th>\n",
       "      <th>lng</th>\n",
       "      <th>x</th>\n",
       "      <th>y</th>\n",
       "      <th>cluster_kmeans</th>\n",
       "      <th>cluster_gaussian</th>\n",
       "    </tr>\n",
       "    <tr>\n",
       "      <th>index</th>\n",
       "      <th></th>\n",
       "      <th></th>\n",
       "      <th></th>\n",
       "      <th></th>\n",
       "      <th></th>\n",
       "      <th></th>\n",
       "      <th></th>\n",
       "    </tr>\n",
       "  </thead>\n",
       "  <tbody>\n",
       "    <tr>\n",
       "      <th>01309</th>\n",
       "      <td>Pouillat</td>\n",
       "      <td>46.327</td>\n",
       "      <td>5.428</td>\n",
       "      <td>-115.881765</td>\n",
       "      <td>-187.902254</td>\n",
       "      <td>18</td>\n",
       "      <td>17</td>\n",
       "    </tr>\n",
       "    <tr>\n",
       "      <th>01384</th>\n",
       "      <td>Saint-Rambert-en-Bugey</td>\n",
       "      <td>45.949</td>\n",
       "      <td>5.440</td>\n",
       "      <td>-97.540557</td>\n",
       "      <td>-225.797432</td>\n",
       "      <td>18</td>\n",
       "      <td>17</td>\n",
       "    </tr>\n",
       "    <tr>\n",
       "      <th>02546</th>\n",
       "      <td>La Neuville-en-Beine</td>\n",
       "      <td>49.676</td>\n",
       "      <td>3.151</td>\n",
       "      <td>-139.988077</td>\n",
       "      <td>220.537334</td>\n",
       "      <td>0</td>\n",
       "      <td>6</td>\n",
       "    </tr>\n",
       "    <tr>\n",
       "      <th>03077</th>\n",
       "      <td>Chirat-l'Église</td>\n",
       "      <td>46.240</td>\n",
       "      <td>3.033</td>\n",
       "      <td>51.033435</td>\n",
       "      <td>-110.463983</td>\n",
       "      <td>1</td>\n",
       "      <td>12</td>\n",
       "    </tr>\n",
       "    <tr>\n",
       "      <th>03097</th>\n",
       "      <td>Deneuille-les-Mines</td>\n",
       "      <td>46.378</td>\n",
       "      <td>2.782</td>\n",
       "      <td>60.584222</td>\n",
       "      <td>-87.710448</td>\n",
       "      <td>1</td>\n",
       "      <td>12</td>\n",
       "    </tr>\n",
       "    <tr>\n",
       "      <th>...</th>\n",
       "      <td>...</td>\n",
       "      <td>...</td>\n",
       "      <td>...</td>\n",
       "      <td>...</td>\n",
       "      <td>...</td>\n",
       "      <td>...</td>\n",
       "      <td>...</td>\n",
       "    </tr>\n",
       "    <tr>\n",
       "      <th>90104</th>\n",
       "      <td>Vézelois</td>\n",
       "      <td>47.607</td>\n",
       "      <td>6.918</td>\n",
       "      <td>-280.557226</td>\n",
       "      <td>-110.736563</td>\n",
       "      <td>7</td>\n",
       "      <td>8</td>\n",
       "    </tr>\n",
       "    <tr>\n",
       "      <th>94047</th>\n",
       "      <td>Mandres-les-Roses</td>\n",
       "      <td>48.702</td>\n",
       "      <td>2.544</td>\n",
       "      <td>-49.152980</td>\n",
       "      <td>146.988407</td>\n",
       "      <td>10</td>\n",
       "      <td>11</td>\n",
       "    </tr>\n",
       "    <tr>\n",
       "      <th>94070</th>\n",
       "      <td>Santeny</td>\n",
       "      <td>48.726</td>\n",
       "      <td>2.570</td>\n",
       "      <td>-52.009398</td>\n",
       "      <td>148.461769</td>\n",
       "      <td>10</td>\n",
       "      <td>11</td>\n",
       "    </tr>\n",
       "    <tr>\n",
       "      <th>95436</th>\n",
       "      <td>Mours</td>\n",
       "      <td>49.134</td>\n",
       "      <td>2.271</td>\n",
       "      <td>-55.089620</td>\n",
       "      <td>198.617786</td>\n",
       "      <td>10</td>\n",
       "      <td>11</td>\n",
       "    </tr>\n",
       "    <tr>\n",
       "      <th>95604</th>\n",
       "      <td>Survilliers</td>\n",
       "      <td>49.099</td>\n",
       "      <td>2.542</td>\n",
       "      <td>-70.364319</td>\n",
       "      <td>185.603787</td>\n",
       "      <td>10</td>\n",
       "      <td>11</td>\n",
       "    </tr>\n",
       "  </tbody>\n",
       "</table>\n",
       "<p>70 rows × 7 columns</p>\n",
       "</div>"
      ]
     },
     "execution_count": 297,
     "metadata": {},
     "output_type": "execute_result"
    }
   ],
   "execution_count": 297
  },
  {
   "metadata": {
    "ExecuteTime": {
     "end_time": "2025-10-10T18:27:38.780399Z",
     "start_time": "2025-10-10T18:27:38.757385Z"
    }
   },
   "cell_type": "code",
   "source": [
    "clustering_selected = 'gaussian'\n",
    "clustering_dropped = 'kmeans'\n",
    "\n",
    "df_points_selected = df_points.drop(columns=['cluster_' + clustering_dropped]).rename(columns={\n",
    "    'cluster_' + clustering_selected: 'cluster'\n",
    "})\n",
    "\n",
    "df_points_selected"
   ],
   "id": "de9e47536bca0fcd",
   "outputs": [
    {
     "data": {
      "text/plain": [
       "                         name     lat    lng           x           y cluster\n",
       "index                                                                       \n",
       "01309                Pouillat  46.327  5.428 -115.881765 -187.902254       2\n",
       "01384  Saint-Rambert-en-Bugey  45.949  5.440  -97.540557 -225.797432       2\n",
       "02546    La Neuville-en-Beine  49.676  3.151 -139.988077  220.537334       5\n",
       "03077         Chirat-l'Église  46.240  3.033   51.033435 -110.463983       2\n",
       "03097     Deneuille-les-Mines  46.378  2.782   60.584222  -87.710448       2\n",
       "...                       ...     ...    ...         ...         ...     ...\n",
       "90104                Vézelois  47.607  6.918 -280.557226 -110.736563       0\n",
       "94047       Mandres-les-Roses  48.702  2.544  -49.152980  146.988407       1\n",
       "94070                 Santeny  48.726  2.570  -52.009398  148.461769       1\n",
       "95436                   Mours  49.134  2.271  -55.089620  198.617786       1\n",
       "95604             Survilliers  49.099  2.542  -70.364319  185.603787       1\n",
       "\n",
       "[70 rows x 6 columns]"
      ],
      "text/html": [
       "<div>\n",
       "<style scoped>\n",
       "    .dataframe tbody tr th:only-of-type {\n",
       "        vertical-align: middle;\n",
       "    }\n",
       "\n",
       "    .dataframe tbody tr th {\n",
       "        vertical-align: top;\n",
       "    }\n",
       "\n",
       "    .dataframe thead th {\n",
       "        text-align: right;\n",
       "    }\n",
       "</style>\n",
       "<table border=\"1\" class=\"dataframe\">\n",
       "  <thead>\n",
       "    <tr style=\"text-align: right;\">\n",
       "      <th></th>\n",
       "      <th>name</th>\n",
       "      <th>lat</th>\n",
       "      <th>lng</th>\n",
       "      <th>x</th>\n",
       "      <th>y</th>\n",
       "      <th>cluster</th>\n",
       "    </tr>\n",
       "    <tr>\n",
       "      <th>index</th>\n",
       "      <th></th>\n",
       "      <th></th>\n",
       "      <th></th>\n",
       "      <th></th>\n",
       "      <th></th>\n",
       "      <th></th>\n",
       "    </tr>\n",
       "  </thead>\n",
       "  <tbody>\n",
       "    <tr>\n",
       "      <th>01309</th>\n",
       "      <td>Pouillat</td>\n",
       "      <td>46.327</td>\n",
       "      <td>5.428</td>\n",
       "      <td>-115.881765</td>\n",
       "      <td>-187.902254</td>\n",
       "      <td>2</td>\n",
       "    </tr>\n",
       "    <tr>\n",
       "      <th>01384</th>\n",
       "      <td>Saint-Rambert-en-Bugey</td>\n",
       "      <td>45.949</td>\n",
       "      <td>5.440</td>\n",
       "      <td>-97.540557</td>\n",
       "      <td>-225.797432</td>\n",
       "      <td>2</td>\n",
       "    </tr>\n",
       "    <tr>\n",
       "      <th>02546</th>\n",
       "      <td>La Neuville-en-Beine</td>\n",
       "      <td>49.676</td>\n",
       "      <td>3.151</td>\n",
       "      <td>-139.988077</td>\n",
       "      <td>220.537334</td>\n",
       "      <td>5</td>\n",
       "    </tr>\n",
       "    <tr>\n",
       "      <th>03077</th>\n",
       "      <td>Chirat-l'Église</td>\n",
       "      <td>46.240</td>\n",
       "      <td>3.033</td>\n",
       "      <td>51.033435</td>\n",
       "      <td>-110.463983</td>\n",
       "      <td>2</td>\n",
       "    </tr>\n",
       "    <tr>\n",
       "      <th>03097</th>\n",
       "      <td>Deneuille-les-Mines</td>\n",
       "      <td>46.378</td>\n",
       "      <td>2.782</td>\n",
       "      <td>60.584222</td>\n",
       "      <td>-87.710448</td>\n",
       "      <td>2</td>\n",
       "    </tr>\n",
       "    <tr>\n",
       "      <th>...</th>\n",
       "      <td>...</td>\n",
       "      <td>...</td>\n",
       "      <td>...</td>\n",
       "      <td>...</td>\n",
       "      <td>...</td>\n",
       "      <td>...</td>\n",
       "    </tr>\n",
       "    <tr>\n",
       "      <th>90104</th>\n",
       "      <td>Vézelois</td>\n",
       "      <td>47.607</td>\n",
       "      <td>6.918</td>\n",
       "      <td>-280.557226</td>\n",
       "      <td>-110.736563</td>\n",
       "      <td>0</td>\n",
       "    </tr>\n",
       "    <tr>\n",
       "      <th>94047</th>\n",
       "      <td>Mandres-les-Roses</td>\n",
       "      <td>48.702</td>\n",
       "      <td>2.544</td>\n",
       "      <td>-49.152980</td>\n",
       "      <td>146.988407</td>\n",
       "      <td>1</td>\n",
       "    </tr>\n",
       "    <tr>\n",
       "      <th>94070</th>\n",
       "      <td>Santeny</td>\n",
       "      <td>48.726</td>\n",
       "      <td>2.570</td>\n",
       "      <td>-52.009398</td>\n",
       "      <td>148.461769</td>\n",
       "      <td>1</td>\n",
       "    </tr>\n",
       "    <tr>\n",
       "      <th>95436</th>\n",
       "      <td>Mours</td>\n",
       "      <td>49.134</td>\n",
       "      <td>2.271</td>\n",
       "      <td>-55.089620</td>\n",
       "      <td>198.617786</td>\n",
       "      <td>1</td>\n",
       "    </tr>\n",
       "    <tr>\n",
       "      <th>95604</th>\n",
       "      <td>Survilliers</td>\n",
       "      <td>49.099</td>\n",
       "      <td>2.542</td>\n",
       "      <td>-70.364319</td>\n",
       "      <td>185.603787</td>\n",
       "      <td>1</td>\n",
       "    </tr>\n",
       "  </tbody>\n",
       "</table>\n",
       "<p>70 rows × 6 columns</p>\n",
       "</div>"
      ]
     },
     "execution_count": 287,
     "metadata": {},
     "output_type": "execute_result"
    }
   ],
   "execution_count": 287
  },
  {
   "metadata": {
    "ExecuteTime": {
     "end_time": "2025-10-10T18:27:39.283101Z",
     "start_time": "2025-10-10T18:27:39.031522Z"
    }
   },
   "cell_type": "code",
   "source": [
    "df_centroids, df_centroids_distances = calcul_centroids(df_points_selected)\n",
    "\n",
    "fig = px.scatter(\n",
    "    df_centroids.reset_index(),\n",
    "    x='x',\n",
    "    y='y',\n",
    "    hover_name='index',\n",
    "    height=700,\n",
    "    size=[1] * df_centroids.shape[0],\n",
    ")\n",
    "\n",
    "fig.update_yaxes(scaleanchor=\"x\", scaleratio=1)\n",
    "fig.show()\n",
    "\n",
    "df_centroids"
   ],
   "id": "d6fd4823095d55a",
   "outputs": [
    {
     "name": "stderr",
     "output_type": "stream",
     "text": [
      "/home/jaden/Sources/followchon_back/.venv/lib/python3.12/site-packages/sklearn/manifold/_mds.py:677: FutureWarning:\n",
      "\n",
      "The default value of `n_init` will change from 4 to 1 in 1.9.\n",
      "\n"
     ]
    },
    {
     "data": {
      "application/vnd.plotly.v1+json": {
       "data": [
        {
         "hovertemplate": "<b>%{hovertext}</b><br><br>x=%{x}<br>y=%{y}<br>size=%{marker.size}<extra></extra>",
         "hovertext": [
          "0",
          "1",
          "2",
          "3",
          "4",
          "5",
          "6",
          "7"
         ],
         "legendgroup": "",
         "marker": {
          "color": "#000001",
          "size": {
           "dtype": "i1",
           "bdata": "AQEBAQEBAQE="
          },
          "sizemode": "area",
          "sizeref": 0.0025,
          "symbol": "circle"
         },
         "mode": "markers",
         "name": "",
         "orientation": "v",
         "showlegend": false,
         "x": {
          "dtype": "f8",
          "bdata": "NjCIx3BiccAw4Yl0ZCFXQOcf2sSub2fAs9Bd6XnqbUCsClk3KXJBQIz7oRy+i0dArEaC9gU4ckDdj7uRIfZtwA=="
         },
         "xaxis": "x",
         "y": {
          "dtype": "f8",
          "bdata": "mvcEQB/HUEDUaJgoqVtiQDdk/zfmfWHA07hVlGR9Y8CT4VYgHGB5wHpAsLAtlXFAYGOY2VA35j804i2St7tpQA=="
         },
         "yaxis": "y",
         "type": "scatter"
        }
       ],
       "layout": {
        "template": {
         "data": {
          "candlestick": [
           {
            "decreasing": {
             "line": {
              "color": "#000033"
             }
            },
            "increasing": {
             "line": {
              "color": "#000032"
             }
            },
            "type": "candlestick"
           }
          ],
          "contourcarpet": [
           {
            "colorscale": [
             [
              0.0,
              "#000011"
             ],
             [
              0.1111111111111111,
              "#000012"
             ],
             [
              0.2222222222222222,
              "#000013"
             ],
             [
              0.3333333333333333,
              "#000014"
             ],
             [
              0.4444444444444444,
              "#000015"
             ],
             [
              0.5555555555555556,
              "#000016"
             ],
             [
              0.6666666666666666,
              "#000017"
             ],
             [
              0.7777777777777778,
              "#000018"
             ],
             [
              0.8888888888888888,
              "#000019"
             ],
             [
              1.0,
              "#000020"
             ]
            ],
            "type": "contourcarpet"
           }
          ],
          "contour": [
           {
            "colorscale": [
             [
              0.0,
              "#000011"
             ],
             [
              0.1111111111111111,
              "#000012"
             ],
             [
              0.2222222222222222,
              "#000013"
             ],
             [
              0.3333333333333333,
              "#000014"
             ],
             [
              0.4444444444444444,
              "#000015"
             ],
             [
              0.5555555555555556,
              "#000016"
             ],
             [
              0.6666666666666666,
              "#000017"
             ],
             [
              0.7777777777777778,
              "#000018"
             ],
             [
              0.8888888888888888,
              "#000019"
             ],
             [
              1.0,
              "#000020"
             ]
            ],
            "type": "contour"
           }
          ],
          "heatmap": [
           {
            "colorscale": [
             [
              0.0,
              "#000011"
             ],
             [
              0.1111111111111111,
              "#000012"
             ],
             [
              0.2222222222222222,
              "#000013"
             ],
             [
              0.3333333333333333,
              "#000014"
             ],
             [
              0.4444444444444444,
              "#000015"
             ],
             [
              0.5555555555555556,
              "#000016"
             ],
             [
              0.6666666666666666,
              "#000017"
             ],
             [
              0.7777777777777778,
              "#000018"
             ],
             [
              0.8888888888888888,
              "#000019"
             ],
             [
              1.0,
              "#000020"
             ]
            ],
            "type": "heatmap"
           }
          ],
          "histogram2d": [
           {
            "colorscale": [
             [
              0.0,
              "#000011"
             ],
             [
              0.1111111111111111,
              "#000012"
             ],
             [
              0.2222222222222222,
              "#000013"
             ],
             [
              0.3333333333333333,
              "#000014"
             ],
             [
              0.4444444444444444,
              "#000015"
             ],
             [
              0.5555555555555556,
              "#000016"
             ],
             [
              0.6666666666666666,
              "#000017"
             ],
             [
              0.7777777777777778,
              "#000018"
             ],
             [
              0.8888888888888888,
              "#000019"
             ],
             [
              1.0,
              "#000020"
             ]
            ],
            "type": "histogram2d"
           }
          ],
          "icicle": [
           {
            "textfont": {
             "color": "white"
            },
            "type": "icicle"
           }
          ],
          "sankey": [
           {
            "textfont": {
             "color": "#000036"
            },
            "type": "sankey"
           }
          ],
          "scatter": [
           {
            "marker": {
             "line": {
              "width": 0
             }
            },
            "type": "scatter"
           }
          ],
          "table": [
           {
            "cells": {
             "fill": {
              "color": "#000038"
             },
             "font": {
              "color": "#000037"
             },
             "line": {
              "color": "#000039"
             }
            },
            "header": {
             "fill": {
              "color": "#000040"
             },
             "font": {
              "color": "#000036"
             },
             "line": {
              "color": "#000039"
             }
            },
            "type": "table"
           }
          ],
          "waterfall": [
           {
            "connector": {
             "line": {
              "color": "#000036",
              "width": 2
             }
            },
            "decreasing": {
             "marker": {
              "color": "#000033"
             }
            },
            "increasing": {
             "marker": {
              "color": "#000032"
             }
            },
            "totals": {
             "marker": {
              "color": "#000034"
             }
            },
            "type": "waterfall"
           }
          ]
         },
         "layout": {
          "coloraxis": {
           "colorscale": [
            [
             0.0,
             "#000011"
            ],
            [
             0.1111111111111111,
             "#000012"
            ],
            [
             0.2222222222222222,
             "#000013"
            ],
            [
             0.3333333333333333,
             "#000014"
            ],
            [
             0.4444444444444444,
             "#000015"
            ],
            [
             0.5555555555555556,
             "#000016"
            ],
            [
             0.6666666666666666,
             "#000017"
            ],
            [
             0.7777777777777778,
             "#000018"
            ],
            [
             0.8888888888888888,
             "#000019"
            ],
            [
             1.0,
             "#000020"
            ]
           ]
          },
          "colorscale": {
           "diverging": [
            [
             0.0,
             "#000021"
            ],
            [
             0.1,
             "#000022"
            ],
            [
             0.2,
             "#000023"
            ],
            [
             0.3,
             "#000024"
            ],
            [
             0.4,
             "#000025"
            ],
            [
             0.5,
             "#000026"
            ],
            [
             0.6,
             "#000027"
            ],
            [
             0.7,
             "#000028"
            ],
            [
             0.8,
             "#000029"
            ],
            [
             0.9,
             "#000030"
            ],
            [
             1.0,
             "#000031"
            ]
           ],
           "sequential": [
            [
             0.0,
             "#000011"
            ],
            [
             0.1111111111111111,
             "#000012"
            ],
            [
             0.2222222222222222,
             "#000013"
            ],
            [
             0.3333333333333333,
             "#000014"
            ],
            [
             0.4444444444444444,
             "#000015"
            ],
            [
             0.5555555555555556,
             "#000016"
            ],
            [
             0.6666666666666666,
             "#000017"
            ],
            [
             0.7777777777777778,
             "#000018"
            ],
            [
             0.8888888888888888,
             "#000019"
            ],
            [
             1.0,
             "#000020"
            ]
           ],
           "sequentialminus": [
            [
             0.0,
             "#000011"
            ],
            [
             0.1111111111111111,
             "#000012"
            ],
            [
             0.2222222222222222,
             "#000013"
            ],
            [
             0.3333333333333333,
             "#000014"
            ],
            [
             0.4444444444444444,
             "#000015"
            ],
            [
             0.5555555555555556,
             "#000016"
            ],
            [
             0.6666666666666666,
             "#000017"
            ],
            [
             0.7777777777777778,
             "#000018"
            ],
            [
             0.8888888888888888,
             "#000019"
            ],
            [
             1.0,
             "#000020"
            ]
           ]
          },
          "colorway": [
           "#000001",
           "#000002",
           "#000003",
           "#000004",
           "#000005",
           "#000006",
           "#000007",
           "#000008",
           "#000009",
           "#000010"
          ]
         }
        },
        "xaxis": {
         "anchor": "y",
         "domain": [
          0.0,
          1.0
         ],
         "title": {
          "text": "x"
         }
        },
        "yaxis": {
         "anchor": "x",
         "domain": [
          0.0,
          1.0
         ],
         "title": {
          "text": "y"
         },
         "scaleanchor": "x",
         "scaleratio": 1
        },
        "legend": {
         "tracegroupgap": 0,
         "itemsizing": "constant"
        },
        "margin": {
         "t": 60
        },
        "height": 700
       },
       "config": {
        "plotlyServerURL": "https://plot.ly"
       }
      }
     },
     "metadata": {},
     "output_type": "display_data",
     "jetTransient": {
      "display_id": null
     }
    },
    {
     "data": {
      "text/plain": [
       "         lat       lng           x           y\n",
       "0  47.341667  6.485500 -278.152534   67.111282\n",
       "1  48.951500  1.975500   92.521756  146.864399\n",
       "2  45.802167  4.558722 -187.490084 -139.934353\n",
       "3  46.607333 -0.871667  239.327382 -155.918528\n",
       "4  44.004100  0.962500   34.891883 -406.006867\n",
       "5  50.016929  3.058500   47.091739  281.323655\n",
       "6  48.079857 -1.109286  291.501456    0.694252\n",
       "7  48.641000  6.553000 -239.691598  205.866159"
      ],
      "text/html": [
       "<div>\n",
       "<style scoped>\n",
       "    .dataframe tbody tr th:only-of-type {\n",
       "        vertical-align: middle;\n",
       "    }\n",
       "\n",
       "    .dataframe tbody tr th {\n",
       "        vertical-align: top;\n",
       "    }\n",
       "\n",
       "    .dataframe thead th {\n",
       "        text-align: right;\n",
       "    }\n",
       "</style>\n",
       "<table border=\"1\" class=\"dataframe\">\n",
       "  <thead>\n",
       "    <tr style=\"text-align: right;\">\n",
       "      <th></th>\n",
       "      <th>lat</th>\n",
       "      <th>lng</th>\n",
       "      <th>x</th>\n",
       "      <th>y</th>\n",
       "    </tr>\n",
       "  </thead>\n",
       "  <tbody>\n",
       "    <tr>\n",
       "      <th>0</th>\n",
       "      <td>47.341667</td>\n",
       "      <td>6.485500</td>\n",
       "      <td>-278.152534</td>\n",
       "      <td>67.111282</td>\n",
       "    </tr>\n",
       "    <tr>\n",
       "      <th>1</th>\n",
       "      <td>48.951500</td>\n",
       "      <td>1.975500</td>\n",
       "      <td>92.521756</td>\n",
       "      <td>146.864399</td>\n",
       "    </tr>\n",
       "    <tr>\n",
       "      <th>2</th>\n",
       "      <td>45.802167</td>\n",
       "      <td>4.558722</td>\n",
       "      <td>-187.490084</td>\n",
       "      <td>-139.934353</td>\n",
       "    </tr>\n",
       "    <tr>\n",
       "      <th>3</th>\n",
       "      <td>46.607333</td>\n",
       "      <td>-0.871667</td>\n",
       "      <td>239.327382</td>\n",
       "      <td>-155.918528</td>\n",
       "    </tr>\n",
       "    <tr>\n",
       "      <th>4</th>\n",
       "      <td>44.004100</td>\n",
       "      <td>0.962500</td>\n",
       "      <td>34.891883</td>\n",
       "      <td>-406.006867</td>\n",
       "    </tr>\n",
       "    <tr>\n",
       "      <th>5</th>\n",
       "      <td>50.016929</td>\n",
       "      <td>3.058500</td>\n",
       "      <td>47.091739</td>\n",
       "      <td>281.323655</td>\n",
       "    </tr>\n",
       "    <tr>\n",
       "      <th>6</th>\n",
       "      <td>48.079857</td>\n",
       "      <td>-1.109286</td>\n",
       "      <td>291.501456</td>\n",
       "      <td>0.694252</td>\n",
       "    </tr>\n",
       "    <tr>\n",
       "      <th>7</th>\n",
       "      <td>48.641000</td>\n",
       "      <td>6.553000</td>\n",
       "      <td>-239.691598</td>\n",
       "      <td>205.866159</td>\n",
       "    </tr>\n",
       "  </tbody>\n",
       "</table>\n",
       "</div>"
      ]
     },
     "execution_count": 288,
     "metadata": {},
     "output_type": "execute_result"
    }
   ],
   "execution_count": 288
  },
  {
   "metadata": {
    "ExecuteTime": {
     "end_time": "2025-10-10T18:27:39.540497Z",
     "start_time": "2025-10-10T18:27:39.488414Z"
    }
   },
   "cell_type": "code",
   "source": [
    "# On determine l'ordre des clusters, en determinant le chemin le plus rapide entre les centroides\n",
    "\n",
    "df_centroids_min_path = calcul_min_path(df_centroids, df_centroids_distances)\n",
    "\n",
    "df_centroids_min_path['pair'] = df_centroids_min_path.index + '_' + df_centroids_min_path['next']\n",
    "\n",
    "df_centroids_min_path.sort_values('order', ascending=True)\n",
    "\n",
    "df_centroids_min_path = df_centroids_min_path.reset_index()\n",
    "\n",
    "df_centroids_min_path"
   ],
   "id": "8af0b0fd23106c41",
   "outputs": [
    {
     "data": {
      "text/plain": [
       "  index        lat       lng           x           y  order next prev  \\\n",
       "0     2  45.802167  4.558722 -187.490084 -139.934353      0    0    4   \n",
       "1     0  47.341667  6.485500 -278.152534   67.111282      1    7    2   \n",
       "2     7  48.641000  6.553000 -239.691598  205.866159      2    5    0   \n",
       "3     5  50.016929  3.058500   47.091739  281.323655      3    1    7   \n",
       "4     1  48.951500  1.975500   92.521756  146.864399      4    6    5   \n",
       "5     6  48.079857 -1.109286  291.501456    0.694252      5    3    1   \n",
       "6     3  46.607333 -0.871667  239.327382 -155.918528      6    4    6   \n",
       "7     4  44.004100  0.962500   34.891883 -406.006867      7    2    3   \n",
       "\n",
       "   distance pair  \n",
       "0     226.0  2_0  \n",
       "1     145.0  0_7  \n",
       "2     296.0  7_5  \n",
       "3     142.0  5_1  \n",
       "4     247.0  1_6  \n",
       "5     165.0  6_3  \n",
       "6     323.0  3_4  \n",
       "7     347.0  4_2  "
      ],
      "text/html": [
       "<div>\n",
       "<style scoped>\n",
       "    .dataframe tbody tr th:only-of-type {\n",
       "        vertical-align: middle;\n",
       "    }\n",
       "\n",
       "    .dataframe tbody tr th {\n",
       "        vertical-align: top;\n",
       "    }\n",
       "\n",
       "    .dataframe thead th {\n",
       "        text-align: right;\n",
       "    }\n",
       "</style>\n",
       "<table border=\"1\" class=\"dataframe\">\n",
       "  <thead>\n",
       "    <tr style=\"text-align: right;\">\n",
       "      <th></th>\n",
       "      <th>index</th>\n",
       "      <th>lat</th>\n",
       "      <th>lng</th>\n",
       "      <th>x</th>\n",
       "      <th>y</th>\n",
       "      <th>order</th>\n",
       "      <th>next</th>\n",
       "      <th>prev</th>\n",
       "      <th>distance</th>\n",
       "      <th>pair</th>\n",
       "    </tr>\n",
       "  </thead>\n",
       "  <tbody>\n",
       "    <tr>\n",
       "      <th>0</th>\n",
       "      <td>2</td>\n",
       "      <td>45.802167</td>\n",
       "      <td>4.558722</td>\n",
       "      <td>-187.490084</td>\n",
       "      <td>-139.934353</td>\n",
       "      <td>0</td>\n",
       "      <td>0</td>\n",
       "      <td>4</td>\n",
       "      <td>226.0</td>\n",
       "      <td>2_0</td>\n",
       "    </tr>\n",
       "    <tr>\n",
       "      <th>1</th>\n",
       "      <td>0</td>\n",
       "      <td>47.341667</td>\n",
       "      <td>6.485500</td>\n",
       "      <td>-278.152534</td>\n",
       "      <td>67.111282</td>\n",
       "      <td>1</td>\n",
       "      <td>7</td>\n",
       "      <td>2</td>\n",
       "      <td>145.0</td>\n",
       "      <td>0_7</td>\n",
       "    </tr>\n",
       "    <tr>\n",
       "      <th>2</th>\n",
       "      <td>7</td>\n",
       "      <td>48.641000</td>\n",
       "      <td>6.553000</td>\n",
       "      <td>-239.691598</td>\n",
       "      <td>205.866159</td>\n",
       "      <td>2</td>\n",
       "      <td>5</td>\n",
       "      <td>0</td>\n",
       "      <td>296.0</td>\n",
       "      <td>7_5</td>\n",
       "    </tr>\n",
       "    <tr>\n",
       "      <th>3</th>\n",
       "      <td>5</td>\n",
       "      <td>50.016929</td>\n",
       "      <td>3.058500</td>\n",
       "      <td>47.091739</td>\n",
       "      <td>281.323655</td>\n",
       "      <td>3</td>\n",
       "      <td>1</td>\n",
       "      <td>7</td>\n",
       "      <td>142.0</td>\n",
       "      <td>5_1</td>\n",
       "    </tr>\n",
       "    <tr>\n",
       "      <th>4</th>\n",
       "      <td>1</td>\n",
       "      <td>48.951500</td>\n",
       "      <td>1.975500</td>\n",
       "      <td>92.521756</td>\n",
       "      <td>146.864399</td>\n",
       "      <td>4</td>\n",
       "      <td>6</td>\n",
       "      <td>5</td>\n",
       "      <td>247.0</td>\n",
       "      <td>1_6</td>\n",
       "    </tr>\n",
       "    <tr>\n",
       "      <th>5</th>\n",
       "      <td>6</td>\n",
       "      <td>48.079857</td>\n",
       "      <td>-1.109286</td>\n",
       "      <td>291.501456</td>\n",
       "      <td>0.694252</td>\n",
       "      <td>5</td>\n",
       "      <td>3</td>\n",
       "      <td>1</td>\n",
       "      <td>165.0</td>\n",
       "      <td>6_3</td>\n",
       "    </tr>\n",
       "    <tr>\n",
       "      <th>6</th>\n",
       "      <td>3</td>\n",
       "      <td>46.607333</td>\n",
       "      <td>-0.871667</td>\n",
       "      <td>239.327382</td>\n",
       "      <td>-155.918528</td>\n",
       "      <td>6</td>\n",
       "      <td>4</td>\n",
       "      <td>6</td>\n",
       "      <td>323.0</td>\n",
       "      <td>3_4</td>\n",
       "    </tr>\n",
       "    <tr>\n",
       "      <th>7</th>\n",
       "      <td>4</td>\n",
       "      <td>44.004100</td>\n",
       "      <td>0.962500</td>\n",
       "      <td>34.891883</td>\n",
       "      <td>-406.006867</td>\n",
       "      <td>7</td>\n",
       "      <td>2</td>\n",
       "      <td>3</td>\n",
       "      <td>347.0</td>\n",
       "      <td>4_2</td>\n",
       "    </tr>\n",
       "  </tbody>\n",
       "</table>\n",
       "</div>"
      ]
     },
     "execution_count": 289,
     "metadata": {},
     "output_type": "execute_result"
    }
   ],
   "execution_count": 289
  },
  {
   "metadata": {
    "ExecuteTime": {
     "end_time": "2025-10-10T18:27:40.107856Z",
     "start_time": "2025-10-10T18:27:39.898590Z"
    }
   },
   "cell_type": "code",
   "source": [
    "def cross_distance(row):\n",
    "    return calcul_distance(\n",
    "        row['lat_current'],\n",
    "        row['lng_current'],\n",
    "        row['lat_next'],\n",
    "        row['lng_next']\n",
    "    )\n",
    "\n",
    "df_crossed = pd.DataFrame()\n",
    "\n",
    "# On determine les ponts entre clusters\n",
    "for index, row_cluster in df_centroids_min_path.iterrows():\n",
    "    df_current = df_points_selected[df_points_selected['cluster'] == row_cluster['index']][['cluster', 'lat', 'lng']]\n",
    "    df_next = df_points_selected[df_points_selected['cluster'] == row_cluster['next']][['cluster', 'lat', 'lng']]\n",
    "\n",
    "    df_cross = df_current.reset_index()\\\n",
    "        .merge(df_next.reset_index(), how='cross', suffixes=(\"_current\", \"_next\"))\n",
    "\n",
    "    df_cross['distance'] = df_cross.apply(\n",
    "        cross_distance,\n",
    "        axis=1\n",
    "    )\n",
    "\n",
    "    df_bridge = df_cross.sort_values(by='distance', ascending=True)[[\n",
    "        'index_current', 'cluster_current', 'index_next', 'cluster_next'\n",
    "    ]].head(1)\n",
    "\n",
    "    df_crossed = pd.concat([\n",
    "        df_crossed,\n",
    "        df_bridge,\n",
    "    ])\n",
    "\n",
    "df_crossed['pair'] = df_crossed['cluster_current'] + '_' + df_crossed['cluster_next']\n",
    "\n",
    "df_clusters = pd.merge(\n",
    "    df_centroids_min_path,\n",
    "    df_crossed,\n",
    "    left_on='pair',\n",
    "    right_on='pair',\n",
    ")[['index', 'next', 'prev', 'lat', 'lng', 'pair', 'index_current', 'index_next']]\n",
    "\n",
    "df_clusters = pd.merge(\n",
    "    df_clusters,\n",
    "    df_points_selected[['lat', 'lng']],\n",
    "    left_on='index_current',\n",
    "    right_index=True,\n",
    "    suffixes=('', '_current')\n",
    ")\n",
    "\n",
    "df_clusters = pd.merge(\n",
    "    df_clusters,\n",
    "    df_points_selected[['lat', 'lng']],\n",
    "    left_on='index_next',\n",
    "    right_index=True,\n",
    "    suffixes=('', '_next')\n",
    ")\n",
    "\n",
    "df_clusters = df_clusters.drop(columns=['pair'])\\\n",
    "    .rename(columns={\n",
    "        'index': 'cluster_current',\n",
    "        'next': 'cluster_next',\n",
    "        'prev': 'cluster_prev',\n",
    "        'lat': 'center_lat',\n",
    "        'lng': 'center_lng',\n",
    "        'index_current': 'bridge_out_current_code',\n",
    "        'lat_current': 'bridge_out_current_lat',\n",
    "        'lng_current': 'bridge_out_current_lng',\n",
    "        'index_next': 'bridge_out_next_code',\n",
    "        'lat_next': 'bridge_out_next_lat',\n",
    "        'lng_next': 'bridge_out_next_lng',\n",
    "    })\n",
    "\n",
    "df_clusters['bridge_in_current_code'] = df_clusters['bridge_out_next_code'].shift(periods=1, fill_value='')\n",
    "df_clusters.loc[df_clusters.index[0], 'bridge_in_current_code'] = df_clusters.loc[df_clusters.index[-1], 'bridge_out_next_code']\n",
    "\n",
    "df_clusters['bridge_in_current_lat'] = df_clusters['bridge_out_next_lat'].shift(periods=1, fill_value='')\n",
    "df_clusters.loc[df_clusters.index[0], 'bridge_in_current_lat'] = df_clusters.loc[df_clusters.index[-1], 'bridge_out_next_lat']\n",
    "\n",
    "df_clusters['bridge_in_current_lng'] = df_clusters['bridge_out_next_lng'].shift(periods=1, fill_value='')\n",
    "df_clusters.loc[df_clusters.index[0], 'bridge_in_current_lng'] = df_clusters.loc[df_clusters.index[-1], 'bridge_out_next_lng']\n",
    "\n",
    "df_clusters['bridge_in_next_code'] = df_clusters['bridge_out_current_code'].shift(periods=1, fill_value='')\n",
    "df_clusters.loc[df_clusters.index[0], 'bridge_in_next_code'] = df_clusters.loc[df_clusters.index[-1], 'bridge_out_current_code']\n",
    "\n",
    "df_clusters['bridge_in_next_lat'] = df_clusters['bridge_out_current_lat'].shift(periods=1, fill_value='')\n",
    "df_clusters.loc[df_clusters.index[0], 'bridge_in_next_lat'] = df_clusters.loc[df_clusters.index[-1], 'bridge_out_current_lat']\n",
    "\n",
    "df_clusters['bridge_in_next_lng'] = df_clusters['bridge_out_current_lng'].shift(periods=1, fill_value='')\n",
    "df_clusters.loc[df_clusters.index[0], 'bridge_in_next_lng'] = df_clusters.loc[df_clusters.index[-1], 'bridge_out_current_lng']\n",
    "\n",
    "df_clusters.T"
   ],
   "id": "7116b5d33de4cced",
   "outputs": [
    {
     "data": {
      "text/plain": [
       "                                 0          1       2          3        4  \\\n",
       "cluster_current                  2          0       7          5        1   \n",
       "cluster_next                     0          7       5          1        6   \n",
       "cluster_prev                     4          2       0          7        5   \n",
       "center_lat               45.802167  47.341667  48.641  50.016929  48.9515   \n",
       "center_lng                4.558722     6.4855   6.553     3.0585   1.9755   \n",
       "bridge_out_current_code      71353      68300   52047      80293    76706   \n",
       "bridge_out_next_code         39182      54039   08315      95604    53211   \n",
       "bridge_out_current_lat       46.53      47.79  48.318     49.662   49.714   \n",
       "bridge_out_current_lng       4.872       7.37   4.833       2.62    0.401   \n",
       "bridge_out_next_lat         47.069     48.449  49.761     49.099   48.342   \n",
       "bridge_out_next_lng          5.483      6.738   4.508      2.542    -0.86   \n",
       "bridge_in_current_code       43132      39182   54039      08315    95604   \n",
       "bridge_in_current_lat        45.12     47.069  48.449     49.761   49.099   \n",
       "bridge_in_current_lng        3.528      5.483   6.738      4.508    2.542   \n",
       "bridge_in_next_code          81028      71353   68300      52047    80293   \n",
       "bridge_in_next_lat          43.696      46.53   47.79     48.318   49.662   \n",
       "bridge_in_next_lng           2.565      4.872    7.37      4.833     2.62   \n",
       "\n",
       "                                 5          6        7  \n",
       "cluster_current                  6          3        4  \n",
       "cluster_next                     3          4        2  \n",
       "cluster_prev                     1          6        3  \n",
       "center_lat               48.079857  46.607333  44.0041  \n",
       "center_lng               -1.109286  -0.871667   0.9625  \n",
       "bridge_out_current_code      49064      17221    81028  \n",
       "bridge_out_next_code         79047      24586    43132  \n",
       "bridge_out_current_lat       47.69     46.124   43.696  \n",
       "bridge_out_current_lng      -0.683     -0.608    2.565  \n",
       "bridge_out_next_lat         46.829     45.263    45.12  \n",
       "bridge_out_next_lng         -0.248      0.363    3.528  \n",
       "bridge_in_current_code       53211      79047    24586  \n",
       "bridge_in_current_lat       48.342     46.829   45.263  \n",
       "bridge_in_current_lng        -0.86     -0.248    0.363  \n",
       "bridge_in_next_code          76706      49064    17221  \n",
       "bridge_in_next_lat          49.714      47.69   46.124  \n",
       "bridge_in_next_lng           0.401     -0.683   -0.608  "
      ],
      "text/html": [
       "<div>\n",
       "<style scoped>\n",
       "    .dataframe tbody tr th:only-of-type {\n",
       "        vertical-align: middle;\n",
       "    }\n",
       "\n",
       "    .dataframe tbody tr th {\n",
       "        vertical-align: top;\n",
       "    }\n",
       "\n",
       "    .dataframe thead th {\n",
       "        text-align: right;\n",
       "    }\n",
       "</style>\n",
       "<table border=\"1\" class=\"dataframe\">\n",
       "  <thead>\n",
       "    <tr style=\"text-align: right;\">\n",
       "      <th></th>\n",
       "      <th>0</th>\n",
       "      <th>1</th>\n",
       "      <th>2</th>\n",
       "      <th>3</th>\n",
       "      <th>4</th>\n",
       "      <th>5</th>\n",
       "      <th>6</th>\n",
       "      <th>7</th>\n",
       "    </tr>\n",
       "  </thead>\n",
       "  <tbody>\n",
       "    <tr>\n",
       "      <th>cluster_current</th>\n",
       "      <td>2</td>\n",
       "      <td>0</td>\n",
       "      <td>7</td>\n",
       "      <td>5</td>\n",
       "      <td>1</td>\n",
       "      <td>6</td>\n",
       "      <td>3</td>\n",
       "      <td>4</td>\n",
       "    </tr>\n",
       "    <tr>\n",
       "      <th>cluster_next</th>\n",
       "      <td>0</td>\n",
       "      <td>7</td>\n",
       "      <td>5</td>\n",
       "      <td>1</td>\n",
       "      <td>6</td>\n",
       "      <td>3</td>\n",
       "      <td>4</td>\n",
       "      <td>2</td>\n",
       "    </tr>\n",
       "    <tr>\n",
       "      <th>cluster_prev</th>\n",
       "      <td>4</td>\n",
       "      <td>2</td>\n",
       "      <td>0</td>\n",
       "      <td>7</td>\n",
       "      <td>5</td>\n",
       "      <td>1</td>\n",
       "      <td>6</td>\n",
       "      <td>3</td>\n",
       "    </tr>\n",
       "    <tr>\n",
       "      <th>center_lat</th>\n",
       "      <td>45.802167</td>\n",
       "      <td>47.341667</td>\n",
       "      <td>48.641</td>\n",
       "      <td>50.016929</td>\n",
       "      <td>48.9515</td>\n",
       "      <td>48.079857</td>\n",
       "      <td>46.607333</td>\n",
       "      <td>44.0041</td>\n",
       "    </tr>\n",
       "    <tr>\n",
       "      <th>center_lng</th>\n",
       "      <td>4.558722</td>\n",
       "      <td>6.4855</td>\n",
       "      <td>6.553</td>\n",
       "      <td>3.0585</td>\n",
       "      <td>1.9755</td>\n",
       "      <td>-1.109286</td>\n",
       "      <td>-0.871667</td>\n",
       "      <td>0.9625</td>\n",
       "    </tr>\n",
       "    <tr>\n",
       "      <th>bridge_out_current_code</th>\n",
       "      <td>71353</td>\n",
       "      <td>68300</td>\n",
       "      <td>52047</td>\n",
       "      <td>80293</td>\n",
       "      <td>76706</td>\n",
       "      <td>49064</td>\n",
       "      <td>17221</td>\n",
       "      <td>81028</td>\n",
       "    </tr>\n",
       "    <tr>\n",
       "      <th>bridge_out_next_code</th>\n",
       "      <td>39182</td>\n",
       "      <td>54039</td>\n",
       "      <td>08315</td>\n",
       "      <td>95604</td>\n",
       "      <td>53211</td>\n",
       "      <td>79047</td>\n",
       "      <td>24586</td>\n",
       "      <td>43132</td>\n",
       "    </tr>\n",
       "    <tr>\n",
       "      <th>bridge_out_current_lat</th>\n",
       "      <td>46.53</td>\n",
       "      <td>47.79</td>\n",
       "      <td>48.318</td>\n",
       "      <td>49.662</td>\n",
       "      <td>49.714</td>\n",
       "      <td>47.69</td>\n",
       "      <td>46.124</td>\n",
       "      <td>43.696</td>\n",
       "    </tr>\n",
       "    <tr>\n",
       "      <th>bridge_out_current_lng</th>\n",
       "      <td>4.872</td>\n",
       "      <td>7.37</td>\n",
       "      <td>4.833</td>\n",
       "      <td>2.62</td>\n",
       "      <td>0.401</td>\n",
       "      <td>-0.683</td>\n",
       "      <td>-0.608</td>\n",
       "      <td>2.565</td>\n",
       "    </tr>\n",
       "    <tr>\n",
       "      <th>bridge_out_next_lat</th>\n",
       "      <td>47.069</td>\n",
       "      <td>48.449</td>\n",
       "      <td>49.761</td>\n",
       "      <td>49.099</td>\n",
       "      <td>48.342</td>\n",
       "      <td>46.829</td>\n",
       "      <td>45.263</td>\n",
       "      <td>45.12</td>\n",
       "    </tr>\n",
       "    <tr>\n",
       "      <th>bridge_out_next_lng</th>\n",
       "      <td>5.483</td>\n",
       "      <td>6.738</td>\n",
       "      <td>4.508</td>\n",
       "      <td>2.542</td>\n",
       "      <td>-0.86</td>\n",
       "      <td>-0.248</td>\n",
       "      <td>0.363</td>\n",
       "      <td>3.528</td>\n",
       "    </tr>\n",
       "    <tr>\n",
       "      <th>bridge_in_current_code</th>\n",
       "      <td>43132</td>\n",
       "      <td>39182</td>\n",
       "      <td>54039</td>\n",
       "      <td>08315</td>\n",
       "      <td>95604</td>\n",
       "      <td>53211</td>\n",
       "      <td>79047</td>\n",
       "      <td>24586</td>\n",
       "    </tr>\n",
       "    <tr>\n",
       "      <th>bridge_in_current_lat</th>\n",
       "      <td>45.12</td>\n",
       "      <td>47.069</td>\n",
       "      <td>48.449</td>\n",
       "      <td>49.761</td>\n",
       "      <td>49.099</td>\n",
       "      <td>48.342</td>\n",
       "      <td>46.829</td>\n",
       "      <td>45.263</td>\n",
       "    </tr>\n",
       "    <tr>\n",
       "      <th>bridge_in_current_lng</th>\n",
       "      <td>3.528</td>\n",
       "      <td>5.483</td>\n",
       "      <td>6.738</td>\n",
       "      <td>4.508</td>\n",
       "      <td>2.542</td>\n",
       "      <td>-0.86</td>\n",
       "      <td>-0.248</td>\n",
       "      <td>0.363</td>\n",
       "    </tr>\n",
       "    <tr>\n",
       "      <th>bridge_in_next_code</th>\n",
       "      <td>81028</td>\n",
       "      <td>71353</td>\n",
       "      <td>68300</td>\n",
       "      <td>52047</td>\n",
       "      <td>80293</td>\n",
       "      <td>76706</td>\n",
       "      <td>49064</td>\n",
       "      <td>17221</td>\n",
       "    </tr>\n",
       "    <tr>\n",
       "      <th>bridge_in_next_lat</th>\n",
       "      <td>43.696</td>\n",
       "      <td>46.53</td>\n",
       "      <td>47.79</td>\n",
       "      <td>48.318</td>\n",
       "      <td>49.662</td>\n",
       "      <td>49.714</td>\n",
       "      <td>47.69</td>\n",
       "      <td>46.124</td>\n",
       "    </tr>\n",
       "    <tr>\n",
       "      <th>bridge_in_next_lng</th>\n",
       "      <td>2.565</td>\n",
       "      <td>4.872</td>\n",
       "      <td>7.37</td>\n",
       "      <td>4.833</td>\n",
       "      <td>2.62</td>\n",
       "      <td>0.401</td>\n",
       "      <td>-0.683</td>\n",
       "      <td>-0.608</td>\n",
       "    </tr>\n",
       "  </tbody>\n",
       "</table>\n",
       "</div>"
      ]
     },
     "execution_count": 290,
     "metadata": {},
     "output_type": "execute_result"
    }
   ],
   "execution_count": 290
  },
  {
   "metadata": {
    "ExecuteTime": {
     "end_time": "2025-10-10T18:27:40.407712Z",
     "start_time": "2025-10-10T18:27:40.403447Z"
    }
   },
   "cell_type": "code",
   "source": [
    "def calcul_near_point(index: str, points: List[str], df_distances: pd.DataFrame)->str:\n",
    "    distances = df_distances.loc[index, points].to_dict()\n",
    "\n",
    "    return min(distances, key=lambda k: distances[k])"
   ],
   "id": "59b0ac43b533b61f",
   "outputs": [],
   "execution_count": 291
  },
  {
   "metadata": {
    "ExecuteTime": {
     "end_time": "2025-10-10T18:27:41.678296Z",
     "start_time": "2025-10-10T18:27:41.672008Z"
    }
   },
   "cell_type": "code",
   "source": [
    "def calcul_path(\n",
    "        indexes_started: List[str],\n",
    "        indexes_ended: List[str],\n",
    "        indexes_between: List[str],\n",
    "        df_distances: pd.DataFrame,\n",
    "):\n",
    "    index_start = indexes_started[-1]\n",
    "    index_end = indexes_ended[-1]\n",
    "\n",
    "    if len(indexes_between) > 0:\n",
    "        indexes_started.append(\n",
    "            calcul_near_point(index_start, indexes_between, df_distances)\n",
    "        )\n",
    "\n",
    "        indexes_between = list(\n",
    "            filter(\n",
    "                lambda val: val != indexes_started[-1],\n",
    "                indexes_between\n",
    "            )\n",
    "        )\n",
    "\n",
    "        if len(indexes_between) > 0:\n",
    "            indexes_ended.append(\n",
    "                calcul_near_point(index_end, indexes_between, df_distances)\n",
    "            )\n",
    "\n",
    "            indexes_between = list(\n",
    "                filter(\n",
    "                    lambda val: val != indexes_ended[-1],\n",
    "                    indexes_between\n",
    "                )\n",
    "            )\n",
    "\n",
    "        return calcul_path(\n",
    "            indexes_started,\n",
    "            indexes_ended,\n",
    "            indexes_between,\n",
    "            df_distances,\n",
    "        )\n",
    "\n",
    "    return indexes_started + list(reversed(indexes_ended))\n"
   ],
   "id": "699a9b8e841bc607",
   "outputs": [],
   "execution_count": 292
  },
  {
   "metadata": {
    "ExecuteTime": {
     "end_time": "2025-10-10T18:28:05.519620Z",
     "start_time": "2025-10-10T18:28:05.364219Z"
    }
   },
   "cell_type": "code",
   "source": [
    "df_tour = pd.DataFrame()\n",
    "\n",
    "df_points_selected_with_index = df_points_selected.reset_index()\n",
    "\n",
    "for index, row_cluster in df_clusters.iterrows():\n",
    "    df_current = df_points_selected[df_points_selected['cluster'] == row_cluster['cluster_current']][[]].reset_index()\n",
    "    # df_next = df_points_selected[df_points_selected['cluster'] == row_cluster['cluster_next']][['lat', 'lng']].reset_index()\n",
    "    # df_prev = df_points_selected[df_points_selected['cluster'] == row_cluster['cluster_prev']][['lat', 'lng']].reset_index()\n",
    "\n",
    "    start = df_current.loc[df_current['index'] == row_cluster['bridge_in_current_code'], ['index']].iloc[0]['index']\n",
    "    end = df_current.loc[df_current['index'] == row_cluster['bridge_out_current_code'], ['index']].iloc[0]['index']\n",
    "    between = df_current[\n",
    "        (df_current['index'] != row_cluster['bridge_in_current_code']) &\n",
    "        (df_current['index'] != row_cluster['bridge_out_current_code'])\n",
    "    ]['index'].values\n",
    "\n",
    "    indexes = calcul_path(\n",
    "        indexes_started=[start],\n",
    "        indexes_ended=[end],\n",
    "        indexes_between=between,\n",
    "        df_distances=df_points_distances\n",
    "    )\n",
    "\n",
    "    df_current['order'] = df_current['index'].map({\n",
    "        index: i\n",
    "        for i, index in enumerate(indexes)\n",
    "    })\n",
    "\n",
    "    df_tour = pd.concat([\n",
    "        df_tour,\n",
    "        df_current.sort_values('order').drop(columns=['order'])\n",
    "    ], ignore_index=True)\n",
    "\n",
    "df_tour = df_tour.merge(\n",
    "    df_points_selected,\n",
    "    left_on='index',\n",
    "    right_index=True,\n",
    "    how='left',\n",
    ")\n",
    "\n",
    "df_tour['next_lat'] = df_tour['lat'].shift(periods=-1, fill_value='')\n",
    "df_tour['next_lng'] = df_tour['lng'].shift(periods=-1, fill_value='')\n",
    "\n",
    "df_tour.loc[df_tour.index[-1], 'next_lat'] = df_tour.loc[df_tour.index[0], 'lat']\n",
    "df_tour.loc[df_tour.index[-1], 'next_lng'] = df_tour.loc[df_tour.index[0], 'lng']\n",
    "\n",
    "df_tour"
   ],
   "id": "5bb6a4097627403e",
   "outputs": [
    {
     "data": {
      "text/plain": [
       "    index               name     lat    lng           x           y cluster  \\\n",
       "0   43132  Mazeyrat-d'Allier  45.120  3.528   77.175614 -238.077251       2   \n",
       "1   43027           Berbezit  45.285  3.596   63.623081 -224.580045       2   \n",
       "2   43043    Céaux-d'Allègre  45.182  3.747   58.698779 -240.137106       2   \n",
       "3   42062         Chevrières  45.589  4.400   -7.537447 -224.199015       2   \n",
       "4   26210        Valherbasse  45.219  5.131  -38.984201 -286.957842       2   \n",
       "..    ...                ...     ...    ...         ...         ...     ...   \n",
       "65  31505       Saint-Michel  43.168  1.084  354.370269 -330.812305       4   \n",
       "66  31543           Sénarens  43.350  0.978  351.485892 -309.089554       4   \n",
       "67  81178       Montgaillard  43.911  1.593  277.069360 -280.379752       4   \n",
       "68  11070            Carlipa  43.307  2.127  273.324509 -359.675679       4   \n",
       "69  81028            Berlats  43.696  2.565  221.080635 -339.500249       4   \n",
       "\n",
       "   next_lat next_lng  \n",
       "0    45.285    3.596  \n",
       "1    45.182    3.747  \n",
       "2    45.589      4.4  \n",
       "3    45.219    5.131  \n",
       "4    45.139    5.793  \n",
       "..      ...      ...  \n",
       "65    43.35    0.978  \n",
       "66   43.911    1.593  \n",
       "67   43.307    2.127  \n",
       "68   43.696    2.565  \n",
       "69    45.12    3.528  \n",
       "\n",
       "[70 rows x 9 columns]"
      ],
      "text/html": [
       "<div>\n",
       "<style scoped>\n",
       "    .dataframe tbody tr th:only-of-type {\n",
       "        vertical-align: middle;\n",
       "    }\n",
       "\n",
       "    .dataframe tbody tr th {\n",
       "        vertical-align: top;\n",
       "    }\n",
       "\n",
       "    .dataframe thead th {\n",
       "        text-align: right;\n",
       "    }\n",
       "</style>\n",
       "<table border=\"1\" class=\"dataframe\">\n",
       "  <thead>\n",
       "    <tr style=\"text-align: right;\">\n",
       "      <th></th>\n",
       "      <th>index</th>\n",
       "      <th>name</th>\n",
       "      <th>lat</th>\n",
       "      <th>lng</th>\n",
       "      <th>x</th>\n",
       "      <th>y</th>\n",
       "      <th>cluster</th>\n",
       "      <th>next_lat</th>\n",
       "      <th>next_lng</th>\n",
       "    </tr>\n",
       "  </thead>\n",
       "  <tbody>\n",
       "    <tr>\n",
       "      <th>0</th>\n",
       "      <td>43132</td>\n",
       "      <td>Mazeyrat-d'Allier</td>\n",
       "      <td>45.120</td>\n",
       "      <td>3.528</td>\n",
       "      <td>77.175614</td>\n",
       "      <td>-238.077251</td>\n",
       "      <td>2</td>\n",
       "      <td>45.285</td>\n",
       "      <td>3.596</td>\n",
       "    </tr>\n",
       "    <tr>\n",
       "      <th>1</th>\n",
       "      <td>43027</td>\n",
       "      <td>Berbezit</td>\n",
       "      <td>45.285</td>\n",
       "      <td>3.596</td>\n",
       "      <td>63.623081</td>\n",
       "      <td>-224.580045</td>\n",
       "      <td>2</td>\n",
       "      <td>45.182</td>\n",
       "      <td>3.747</td>\n",
       "    </tr>\n",
       "    <tr>\n",
       "      <th>2</th>\n",
       "      <td>43043</td>\n",
       "      <td>Céaux-d'Allègre</td>\n",
       "      <td>45.182</td>\n",
       "      <td>3.747</td>\n",
       "      <td>58.698779</td>\n",
       "      <td>-240.137106</td>\n",
       "      <td>2</td>\n",
       "      <td>45.589</td>\n",
       "      <td>4.4</td>\n",
       "    </tr>\n",
       "    <tr>\n",
       "      <th>3</th>\n",
       "      <td>42062</td>\n",
       "      <td>Chevrières</td>\n",
       "      <td>45.589</td>\n",
       "      <td>4.400</td>\n",
       "      <td>-7.537447</td>\n",
       "      <td>-224.199015</td>\n",
       "      <td>2</td>\n",
       "      <td>45.219</td>\n",
       "      <td>5.131</td>\n",
       "    </tr>\n",
       "    <tr>\n",
       "      <th>4</th>\n",
       "      <td>26210</td>\n",
       "      <td>Valherbasse</td>\n",
       "      <td>45.219</td>\n",
       "      <td>5.131</td>\n",
       "      <td>-38.984201</td>\n",
       "      <td>-286.957842</td>\n",
       "      <td>2</td>\n",
       "      <td>45.139</td>\n",
       "      <td>5.793</td>\n",
       "    </tr>\n",
       "    <tr>\n",
       "      <th>...</th>\n",
       "      <td>...</td>\n",
       "      <td>...</td>\n",
       "      <td>...</td>\n",
       "      <td>...</td>\n",
       "      <td>...</td>\n",
       "      <td>...</td>\n",
       "      <td>...</td>\n",
       "      <td>...</td>\n",
       "      <td>...</td>\n",
       "    </tr>\n",
       "    <tr>\n",
       "      <th>65</th>\n",
       "      <td>31505</td>\n",
       "      <td>Saint-Michel</td>\n",
       "      <td>43.168</td>\n",
       "      <td>1.084</td>\n",
       "      <td>354.370269</td>\n",
       "      <td>-330.812305</td>\n",
       "      <td>4</td>\n",
       "      <td>43.35</td>\n",
       "      <td>0.978</td>\n",
       "    </tr>\n",
       "    <tr>\n",
       "      <th>66</th>\n",
       "      <td>31543</td>\n",
       "      <td>Sénarens</td>\n",
       "      <td>43.350</td>\n",
       "      <td>0.978</td>\n",
       "      <td>351.485892</td>\n",
       "      <td>-309.089554</td>\n",
       "      <td>4</td>\n",
       "      <td>43.911</td>\n",
       "      <td>1.593</td>\n",
       "    </tr>\n",
       "    <tr>\n",
       "      <th>67</th>\n",
       "      <td>81178</td>\n",
       "      <td>Montgaillard</td>\n",
       "      <td>43.911</td>\n",
       "      <td>1.593</td>\n",
       "      <td>277.069360</td>\n",
       "      <td>-280.379752</td>\n",
       "      <td>4</td>\n",
       "      <td>43.307</td>\n",
       "      <td>2.127</td>\n",
       "    </tr>\n",
       "    <tr>\n",
       "      <th>68</th>\n",
       "      <td>11070</td>\n",
       "      <td>Carlipa</td>\n",
       "      <td>43.307</td>\n",
       "      <td>2.127</td>\n",
       "      <td>273.324509</td>\n",
       "      <td>-359.675679</td>\n",
       "      <td>4</td>\n",
       "      <td>43.696</td>\n",
       "      <td>2.565</td>\n",
       "    </tr>\n",
       "    <tr>\n",
       "      <th>69</th>\n",
       "      <td>81028</td>\n",
       "      <td>Berlats</td>\n",
       "      <td>43.696</td>\n",
       "      <td>2.565</td>\n",
       "      <td>221.080635</td>\n",
       "      <td>-339.500249</td>\n",
       "      <td>4</td>\n",
       "      <td>45.12</td>\n",
       "      <td>3.528</td>\n",
       "    </tr>\n",
       "  </tbody>\n",
       "</table>\n",
       "<p>70 rows × 9 columns</p>\n",
       "</div>"
      ]
     },
     "execution_count": 295,
     "metadata": {},
     "output_type": "execute_result"
    }
   ],
   "execution_count": 295
  },
  {
   "metadata": {
    "ExecuteTime": {
     "end_time": "2025-10-10T18:28:10.314933Z",
     "start_time": "2025-10-10T18:28:09.919162Z"
    }
   },
   "cell_type": "code",
   "source": [
    "m = Map(\n",
    "    location=(46.227638, 2.213749),\n",
    "    zoom_start=6,\n",
    ")\n",
    "\n",
    "fg = FeatureGroup(name=\"Markers\")\n",
    "\n",
    "#for i, point in df_points_selected.reset_index().iterrows():\n",
    "for i, point in df_tour.iterrows():\n",
    "    fg.add_child(\n",
    "        CircleMarker(\n",
    "            location=[\n",
    "                point['lat'],\n",
    "                point['lng'],\n",
    "            ],\n",
    "            tooltip=f\"{point['index']} ({point['cluster']})\",\n",
    "            fill=True,\n",
    "            color=COLORS[int(point['cluster'])],\n",
    "            weight=0,\n",
    "            fill_opacity=0.6,\n",
    "            radius=15,\n",
    "        )\n",
    "    )\n",
    "\n",
    "    fg.add_child(\n",
    "        PolyLine(\n",
    "            locations=[\n",
    "                [point['lat'], point['lng']],\n",
    "                [point['next_lat'], point['next_lng']],\n",
    "            ],\n",
    "            color=\"black\",\n",
    "            weight=4,\n",
    "        )\n",
    "    )\n",
    "\n",
    "for i, row_cluster in df_clusters.iterrows():\n",
    "    fg.add_child(\n",
    "        CircleMarker(\n",
    "            location=[\n",
    "                row_cluster['center_lat'],\n",
    "                row_cluster['center_lng'],\n",
    "            ],\n",
    "            tooltip=str(row_cluster['cluster_current']),\n",
    "            fill=False,\n",
    "            color=COLORS[int(row_cluster['cluster_current'])],\n",
    "            weight=5,\n",
    "            radius=11,\n",
    "        )\n",
    "    )\n",
    "\n",
    "\n",
    "    # fg.add_child(\n",
    "    #     PolyLine(\n",
    "    #         locations=[\n",
    "    #             [row_cluster['lat_current'], row_cluster['lng_current']],\n",
    "    #             [row_cluster['lat_next'], row_cluster['lng_next']],\n",
    "    #         ],\n",
    "    #         color=\"black\",\n",
    "    #         weight=4,\n",
    "    #     )\n",
    "    # )\n",
    "\n",
    "\n",
    "#\n",
    "#     df_cluster = df_points_selected[df_points_selected['cluster'] == str(centroid['index'])]\n",
    "#     df_cluster_min_path = calcul_min_path(df_cluster, df_points_distances)\n",
    "#\n",
    "#     for j, point in df_cluster_min_path.reset_index().iterrows():\n",
    "#         next_point = df_cluster_min_path.loc[point['next']:point['next']]\n",
    "#\n",
    "#         fg.add_child(\n",
    "#             PolyLine(\n",
    "#                 locations=[\n",
    "#                     [point['lat'], point['lng']],\n",
    "#                     [next_point['lat'].values[0], next_point['lng'].values[0]],\n",
    "#                 ],\n",
    "#                 color=\"#FF0000\",\n",
    "#                 weight=2,\n",
    "#             )\n",
    "#         )\n",
    "\n",
    "m.add_child(fg)\n",
    "\n",
    "m.save('map.html')\n",
    "\n",
    "m"
   ],
   "id": "c64942c1b7098896",
   "outputs": [
    {
     "data": {
      "text/plain": [
       "<folium.folium.Map at 0x7b2a1e1a9af0>"
      ],
      "text/html": [
       "<div style=\"width:100%;\"><div style=\"position:relative;width:100%;height:0;padding-bottom:60%;\"><span style=\"color:#565656\">Make this Notebook Trusted to load map: File -> Trust Notebook</span><iframe srcdoc=\"&lt;!DOCTYPE html&gt;\n",
       "&lt;html&gt;\n",
       "&lt;head&gt;\n",
       "    \n",
       "    &lt;meta http-equiv=&quot;content-type&quot; content=&quot;text/html; charset=UTF-8&quot; /&gt;\n",
       "    &lt;script src=&quot;https://cdn.jsdelivr.net/npm/leaflet@1.9.3/dist/leaflet.js&quot;&gt;&lt;/script&gt;\n",
       "    &lt;script src=&quot;https://code.jquery.com/jquery-3.7.1.min.js&quot;&gt;&lt;/script&gt;\n",
       "    &lt;script src=&quot;https://cdn.jsdelivr.net/npm/bootstrap@5.2.2/dist/js/bootstrap.bundle.min.js&quot;&gt;&lt;/script&gt;\n",
       "    &lt;script src=&quot;https://cdnjs.cloudflare.com/ajax/libs/Leaflet.awesome-markers/2.0.2/leaflet.awesome-markers.js&quot;&gt;&lt;/script&gt;\n",
       "    &lt;link rel=&quot;stylesheet&quot; href=&quot;https://cdn.jsdelivr.net/npm/leaflet@1.9.3/dist/leaflet.css&quot;/&gt;\n",
       "    &lt;link rel=&quot;stylesheet&quot; href=&quot;https://cdn.jsdelivr.net/npm/bootstrap@5.2.2/dist/css/bootstrap.min.css&quot;/&gt;\n",
       "    &lt;link rel=&quot;stylesheet&quot; href=&quot;https://netdna.bootstrapcdn.com/bootstrap/3.0.0/css/bootstrap-glyphicons.css&quot;/&gt;\n",
       "    &lt;link rel=&quot;stylesheet&quot; href=&quot;https://cdn.jsdelivr.net/npm/@fortawesome/fontawesome-free@6.2.0/css/all.min.css&quot;/&gt;\n",
       "    &lt;link rel=&quot;stylesheet&quot; href=&quot;https://cdnjs.cloudflare.com/ajax/libs/Leaflet.awesome-markers/2.0.2/leaflet.awesome-markers.css&quot;/&gt;\n",
       "    &lt;link rel=&quot;stylesheet&quot; href=&quot;https://cdn.jsdelivr.net/gh/python-visualization/folium/folium/templates/leaflet.awesome.rotate.min.css&quot;/&gt;\n",
       "    \n",
       "            &lt;meta name=&quot;viewport&quot; content=&quot;width=device-width,\n",
       "                initial-scale=1.0, maximum-scale=1.0, user-scalable=no&quot; /&gt;\n",
       "            &lt;style&gt;\n",
       "                #map_3277f365b484512a242b3b4c81d1da50 {\n",
       "                    position: relative;\n",
       "                    width: 100.0%;\n",
       "                    height: 100.0%;\n",
       "                    left: 0.0%;\n",
       "                    top: 0.0%;\n",
       "                }\n",
       "                .leaflet-container { font-size: 1rem; }\n",
       "            &lt;/style&gt;\n",
       "\n",
       "            &lt;style&gt;html, body {\n",
       "                width: 100%;\n",
       "                height: 100%;\n",
       "                margin: 0;\n",
       "                padding: 0;\n",
       "            }\n",
       "            &lt;/style&gt;\n",
       "\n",
       "            &lt;style&gt;#map {\n",
       "                position:absolute;\n",
       "                top:0;\n",
       "                bottom:0;\n",
       "                right:0;\n",
       "                left:0;\n",
       "                }\n",
       "            &lt;/style&gt;\n",
       "\n",
       "            &lt;script&gt;\n",
       "                L_NO_TOUCH = false;\n",
       "                L_DISABLE_3D = false;\n",
       "            &lt;/script&gt;\n",
       "\n",
       "        \n",
       "&lt;/head&gt;\n",
       "&lt;body&gt;\n",
       "    \n",
       "    \n",
       "            &lt;div class=&quot;folium-map&quot; id=&quot;map_3277f365b484512a242b3b4c81d1da50&quot; &gt;&lt;/div&gt;\n",
       "        \n",
       "&lt;/body&gt;\n",
       "&lt;script&gt;\n",
       "    \n",
       "    \n",
       "            var map_3277f365b484512a242b3b4c81d1da50 = L.map(\n",
       "                &quot;map_3277f365b484512a242b3b4c81d1da50&quot;,\n",
       "                {\n",
       "                    center: [46.227638, 2.213749],\n",
       "                    crs: L.CRS.EPSG3857,\n",
       "                    ...{\n",
       "  &quot;zoom&quot;: 6,\n",
       "  &quot;zoomControl&quot;: true,\n",
       "  &quot;preferCanvas&quot;: false,\n",
       "}\n",
       "\n",
       "                }\n",
       "            );\n",
       "\n",
       "            \n",
       "\n",
       "        \n",
       "    \n",
       "            var tile_layer_ff32e32a74e7b5e1585d37416c61bc2b = L.tileLayer(\n",
       "                &quot;https://tile.openstreetmap.org/{z}/{x}/{y}.png&quot;,\n",
       "                {\n",
       "  &quot;minZoom&quot;: 0,\n",
       "  &quot;maxZoom&quot;: 19,\n",
       "  &quot;maxNativeZoom&quot;: 19,\n",
       "  &quot;noWrap&quot;: false,\n",
       "  &quot;attribution&quot;: &quot;\\u0026copy; \\u003ca href=\\&quot;https://www.openstreetmap.org/copyright\\&quot;\\u003eOpenStreetMap\\u003c/a\\u003e contributors&quot;,\n",
       "  &quot;subdomains&quot;: &quot;abc&quot;,\n",
       "  &quot;detectRetina&quot;: false,\n",
       "  &quot;tms&quot;: false,\n",
       "  &quot;opacity&quot;: 1,\n",
       "}\n",
       "\n",
       "            );\n",
       "        \n",
       "    \n",
       "            tile_layer_ff32e32a74e7b5e1585d37416c61bc2b.addTo(map_3277f365b484512a242b3b4c81d1da50);\n",
       "        \n",
       "    \n",
       "            var feature_group_04e22a6a55289d76af9d821d99f2f50f = L.featureGroup(\n",
       "                {\n",
       "}\n",
       "            );\n",
       "        \n",
       "    \n",
       "            var circle_marker_2a3f5fcdfc8ffaf17a8470dfb5c7fb50 = L.circleMarker(\n",
       "                [45.12, 3.528],\n",
       "                {&quot;bubblingMouseEvents&quot;: true, &quot;color&quot;: &quot;rgb(82, 188, 163)&quot;, &quot;dashArray&quot;: null, &quot;dashOffset&quot;: null, &quot;fill&quot;: true, &quot;fillColor&quot;: &quot;rgb(82, 188, 163)&quot;, &quot;fillOpacity&quot;: 0.6, &quot;fillRule&quot;: &quot;evenodd&quot;, &quot;lineCap&quot;: &quot;round&quot;, &quot;lineJoin&quot;: &quot;round&quot;, &quot;opacity&quot;: 1.0, &quot;radius&quot;: 15, &quot;stroke&quot;: true, &quot;weight&quot;: 0}\n",
       "            ).addTo(feature_group_04e22a6a55289d76af9d821d99f2f50f);\n",
       "        \n",
       "    \n",
       "            circle_marker_2a3f5fcdfc8ffaf17a8470dfb5c7fb50.bindTooltip(\n",
       "                `&lt;div&gt;\n",
       "                     43132 (2)\n",
       "                 &lt;/div&gt;`,\n",
       "                {\n",
       "  &quot;sticky&quot;: true,\n",
       "}\n",
       "            );\n",
       "        \n",
       "    \n",
       "            var poly_line_0e98741de3d740a8ef799b6cf285d82a = L.polyline(\n",
       "                [[45.12, 3.528], [45.285, 3.596]],\n",
       "                {&quot;bubblingMouseEvents&quot;: true, &quot;color&quot;: &quot;black&quot;, &quot;dashArray&quot;: null, &quot;dashOffset&quot;: null, &quot;fill&quot;: false, &quot;fillColor&quot;: &quot;black&quot;, &quot;fillOpacity&quot;: 0.2, &quot;fillRule&quot;: &quot;evenodd&quot;, &quot;lineCap&quot;: &quot;round&quot;, &quot;lineJoin&quot;: &quot;round&quot;, &quot;noClip&quot;: false, &quot;opacity&quot;: 1.0, &quot;smoothFactor&quot;: 1.0, &quot;stroke&quot;: true, &quot;weight&quot;: 4}\n",
       "            ).addTo(feature_group_04e22a6a55289d76af9d821d99f2f50f);\n",
       "        \n",
       "    \n",
       "            var circle_marker_ad660a6eb34e26dc9b91e8dfcf7f5a6d = L.circleMarker(\n",
       "                [45.285, 3.596],\n",
       "                {&quot;bubblingMouseEvents&quot;: true, &quot;color&quot;: &quot;rgb(82, 188, 163)&quot;, &quot;dashArray&quot;: null, &quot;dashOffset&quot;: null, &quot;fill&quot;: true, &quot;fillColor&quot;: &quot;rgb(82, 188, 163)&quot;, &quot;fillOpacity&quot;: 0.6, &quot;fillRule&quot;: &quot;evenodd&quot;, &quot;lineCap&quot;: &quot;round&quot;, &quot;lineJoin&quot;: &quot;round&quot;, &quot;opacity&quot;: 1.0, &quot;radius&quot;: 15, &quot;stroke&quot;: true, &quot;weight&quot;: 0}\n",
       "            ).addTo(feature_group_04e22a6a55289d76af9d821d99f2f50f);\n",
       "        \n",
       "    \n",
       "            circle_marker_ad660a6eb34e26dc9b91e8dfcf7f5a6d.bindTooltip(\n",
       "                `&lt;div&gt;\n",
       "                     43027 (2)\n",
       "                 &lt;/div&gt;`,\n",
       "                {\n",
       "  &quot;sticky&quot;: true,\n",
       "}\n",
       "            );\n",
       "        \n",
       "    \n",
       "            var poly_line_9aa02c46586f7338bf1ac6046f689fa9 = L.polyline(\n",
       "                [[45.285, 3.596], [45.182, 3.747]],\n",
       "                {&quot;bubblingMouseEvents&quot;: true, &quot;color&quot;: &quot;black&quot;, &quot;dashArray&quot;: null, &quot;dashOffset&quot;: null, &quot;fill&quot;: false, &quot;fillColor&quot;: &quot;black&quot;, &quot;fillOpacity&quot;: 0.2, &quot;fillRule&quot;: &quot;evenodd&quot;, &quot;lineCap&quot;: &quot;round&quot;, &quot;lineJoin&quot;: &quot;round&quot;, &quot;noClip&quot;: false, &quot;opacity&quot;: 1.0, &quot;smoothFactor&quot;: 1.0, &quot;stroke&quot;: true, &quot;weight&quot;: 4}\n",
       "            ).addTo(feature_group_04e22a6a55289d76af9d821d99f2f50f);\n",
       "        \n",
       "    \n",
       "            var circle_marker_e5c871e1fab16f0340bf36a0078d3302 = L.circleMarker(\n",
       "                [45.182, 3.747],\n",
       "                {&quot;bubblingMouseEvents&quot;: true, &quot;color&quot;: &quot;rgb(82, 188, 163)&quot;, &quot;dashArray&quot;: null, &quot;dashOffset&quot;: null, &quot;fill&quot;: true, &quot;fillColor&quot;: &quot;rgb(82, 188, 163)&quot;, &quot;fillOpacity&quot;: 0.6, &quot;fillRule&quot;: &quot;evenodd&quot;, &quot;lineCap&quot;: &quot;round&quot;, &quot;lineJoin&quot;: &quot;round&quot;, &quot;opacity&quot;: 1.0, &quot;radius&quot;: 15, &quot;stroke&quot;: true, &quot;weight&quot;: 0}\n",
       "            ).addTo(feature_group_04e22a6a55289d76af9d821d99f2f50f);\n",
       "        \n",
       "    \n",
       "            circle_marker_e5c871e1fab16f0340bf36a0078d3302.bindTooltip(\n",
       "                `&lt;div&gt;\n",
       "                     43043 (2)\n",
       "                 &lt;/div&gt;`,\n",
       "                {\n",
       "  &quot;sticky&quot;: true,\n",
       "}\n",
       "            );\n",
       "        \n",
       "    \n",
       "            var poly_line_6eefaf1df1748cddd6b0020be2f464a4 = L.polyline(\n",
       "                [[45.182, 3.747], [45.589, 4.4]],\n",
       "                {&quot;bubblingMouseEvents&quot;: true, &quot;color&quot;: &quot;black&quot;, &quot;dashArray&quot;: null, &quot;dashOffset&quot;: null, &quot;fill&quot;: false, &quot;fillColor&quot;: &quot;black&quot;, &quot;fillOpacity&quot;: 0.2, &quot;fillRule&quot;: &quot;evenodd&quot;, &quot;lineCap&quot;: &quot;round&quot;, &quot;lineJoin&quot;: &quot;round&quot;, &quot;noClip&quot;: false, &quot;opacity&quot;: 1.0, &quot;smoothFactor&quot;: 1.0, &quot;stroke&quot;: true, &quot;weight&quot;: 4}\n",
       "            ).addTo(feature_group_04e22a6a55289d76af9d821d99f2f50f);\n",
       "        \n",
       "    \n",
       "            var circle_marker_7ea3d5ed2ba03b8f9753aae123be49ec = L.circleMarker(\n",
       "                [45.589, 4.4],\n",
       "                {&quot;bubblingMouseEvents&quot;: true, &quot;color&quot;: &quot;rgb(82, 188, 163)&quot;, &quot;dashArray&quot;: null, &quot;dashOffset&quot;: null, &quot;fill&quot;: true, &quot;fillColor&quot;: &quot;rgb(82, 188, 163)&quot;, &quot;fillOpacity&quot;: 0.6, &quot;fillRule&quot;: &quot;evenodd&quot;, &quot;lineCap&quot;: &quot;round&quot;, &quot;lineJoin&quot;: &quot;round&quot;, &quot;opacity&quot;: 1.0, &quot;radius&quot;: 15, &quot;stroke&quot;: true, &quot;weight&quot;: 0}\n",
       "            ).addTo(feature_group_04e22a6a55289d76af9d821d99f2f50f);\n",
       "        \n",
       "    \n",
       "            circle_marker_7ea3d5ed2ba03b8f9753aae123be49ec.bindTooltip(\n",
       "                `&lt;div&gt;\n",
       "                     42062 (2)\n",
       "                 &lt;/div&gt;`,\n",
       "                {\n",
       "  &quot;sticky&quot;: true,\n",
       "}\n",
       "            );\n",
       "        \n",
       "    \n",
       "            var poly_line_77fd1b0455c520a20fb0d3cc29894413 = L.polyline(\n",
       "                [[45.589, 4.4], [45.219, 5.131]],\n",
       "                {&quot;bubblingMouseEvents&quot;: true, &quot;color&quot;: &quot;black&quot;, &quot;dashArray&quot;: null, &quot;dashOffset&quot;: null, &quot;fill&quot;: false, &quot;fillColor&quot;: &quot;black&quot;, &quot;fillOpacity&quot;: 0.2, &quot;fillRule&quot;: &quot;evenodd&quot;, &quot;lineCap&quot;: &quot;round&quot;, &quot;lineJoin&quot;: &quot;round&quot;, &quot;noClip&quot;: false, &quot;opacity&quot;: 1.0, &quot;smoothFactor&quot;: 1.0, &quot;stroke&quot;: true, &quot;weight&quot;: 4}\n",
       "            ).addTo(feature_group_04e22a6a55289d76af9d821d99f2f50f);\n",
       "        \n",
       "    \n",
       "            var circle_marker_ccec33d696959a389646568dc6e689b9 = L.circleMarker(\n",
       "                [45.219, 5.131],\n",
       "                {&quot;bubblingMouseEvents&quot;: true, &quot;color&quot;: &quot;rgb(82, 188, 163)&quot;, &quot;dashArray&quot;: null, &quot;dashOffset&quot;: null, &quot;fill&quot;: true, &quot;fillColor&quot;: &quot;rgb(82, 188, 163)&quot;, &quot;fillOpacity&quot;: 0.6, &quot;fillRule&quot;: &quot;evenodd&quot;, &quot;lineCap&quot;: &quot;round&quot;, &quot;lineJoin&quot;: &quot;round&quot;, &quot;opacity&quot;: 1.0, &quot;radius&quot;: 15, &quot;stroke&quot;: true, &quot;weight&quot;: 0}\n",
       "            ).addTo(feature_group_04e22a6a55289d76af9d821d99f2f50f);\n",
       "        \n",
       "    \n",
       "            circle_marker_ccec33d696959a389646568dc6e689b9.bindTooltip(\n",
       "                `&lt;div&gt;\n",
       "                     26210 (2)\n",
       "                 &lt;/div&gt;`,\n",
       "                {\n",
       "  &quot;sticky&quot;: true,\n",
       "}\n",
       "            );\n",
       "        \n",
       "    \n",
       "            var poly_line_f7440591558ea8ec4aa5ee1e8919d520 = L.polyline(\n",
       "                [[45.219, 5.131], [45.139, 5.793]],\n",
       "                {&quot;bubblingMouseEvents&quot;: true, &quot;color&quot;: &quot;black&quot;, &quot;dashArray&quot;: null, &quot;dashOffset&quot;: null, &quot;fill&quot;: false, &quot;fillColor&quot;: &quot;black&quot;, &quot;fillOpacity&quot;: 0.2, &quot;fillRule&quot;: &quot;evenodd&quot;, &quot;lineCap&quot;: &quot;round&quot;, &quot;lineJoin&quot;: &quot;round&quot;, &quot;noClip&quot;: false, &quot;opacity&quot;: 1.0, &quot;smoothFactor&quot;: 1.0, &quot;stroke&quot;: true, &quot;weight&quot;: 4}\n",
       "            ).addTo(feature_group_04e22a6a55289d76af9d821d99f2f50f);\n",
       "        \n",
       "    \n",
       "            var circle_marker_0d37747e577409d8cfd43783446345f4 = L.circleMarker(\n",
       "                [45.139, 5.793],\n",
       "                {&quot;bubblingMouseEvents&quot;: true, &quot;color&quot;: &quot;rgb(82, 188, 163)&quot;, &quot;dashArray&quot;: null, &quot;dashOffset&quot;: null, &quot;fill&quot;: true, &quot;fillColor&quot;: &quot;rgb(82, 188, 163)&quot;, &quot;fillOpacity&quot;: 0.6, &quot;fillRule&quot;: &quot;evenodd&quot;, &quot;lineCap&quot;: &quot;round&quot;, &quot;lineJoin&quot;: &quot;round&quot;, &quot;opacity&quot;: 1.0, &quot;radius&quot;: 15, &quot;stroke&quot;: true, &quot;weight&quot;: 0}\n",
       "            ).addTo(feature_group_04e22a6a55289d76af9d821d99f2f50f);\n",
       "        \n",
       "    \n",
       "            circle_marker_0d37747e577409d8cfd43783446345f4.bindTooltip(\n",
       "                `&lt;div&gt;\n",
       "                     38188 (2)\n",
       "                 &lt;/div&gt;`,\n",
       "                {\n",
       "  &quot;sticky&quot;: true,\n",
       "}\n",
       "            );\n",
       "        \n",
       "    \n",
       "            var poly_line_af4007e6cda3d08f0d9c42d548ada1b9 = L.polyline(\n",
       "                [[45.139, 5.793], [43.795, 7.04]],\n",
       "                {&quot;bubblingMouseEvents&quot;: true, &quot;color&quot;: &quot;black&quot;, &quot;dashArray&quot;: null, &quot;dashOffset&quot;: null, &quot;fill&quot;: false, &quot;fillColor&quot;: &quot;black&quot;, &quot;fillOpacity&quot;: 0.2, &quot;fillRule&quot;: &quot;evenodd&quot;, &quot;lineCap&quot;: &quot;round&quot;, &quot;lineJoin&quot;: &quot;round&quot;, &quot;noClip&quot;: false, &quot;opacity&quot;: 1.0, &quot;smoothFactor&quot;: 1.0, &quot;stroke&quot;: true, &quot;weight&quot;: 4}\n",
       "            ).addTo(feature_group_04e22a6a55289d76af9d821d99f2f50f);\n",
       "        \n",
       "    \n",
       "            var circle_marker_60989ffd56380f7e7da0df9e35dd3e40 = L.circleMarker(\n",
       "                [43.795, 7.04],\n",
       "                {&quot;bubblingMouseEvents&quot;: true, &quot;color&quot;: &quot;rgb(82, 188, 163)&quot;, &quot;dashArray&quot;: null, &quot;dashOffset&quot;: null, &quot;fill&quot;: true, &quot;fillColor&quot;: &quot;rgb(82, 188, 163)&quot;, &quot;fillOpacity&quot;: 0.6, &quot;fillRule&quot;: &quot;evenodd&quot;, &quot;lineCap&quot;: &quot;round&quot;, &quot;lineJoin&quot;: &quot;round&quot;, &quot;opacity&quot;: 1.0, &quot;radius&quot;: 15, &quot;stroke&quot;: true, &quot;weight&quot;: 0}\n",
       "            ).addTo(feature_group_04e22a6a55289d76af9d821d99f2f50f);\n",
       "        \n",
       "    \n",
       "            circle_marker_60989ffd56380f7e7da0df9e35dd3e40.bindTooltip(\n",
       "                `&lt;div&gt;\n",
       "                     06050 (2)\n",
       "                 &lt;/div&gt;`,\n",
       "                {\n",
       "  &quot;sticky&quot;: true,\n",
       "}\n",
       "            );\n",
       "        \n",
       "    \n",
       "            var poly_line_c6d8812577cd191813965aee620821dd = L.polyline(\n",
       "                [[43.795, 7.04], [45.898, 3.226]],\n",
       "                {&quot;bubblingMouseEvents&quot;: true, &quot;color&quot;: &quot;black&quot;, &quot;dashArray&quot;: null, &quot;dashOffset&quot;: null, &quot;fill&quot;: false, &quot;fillColor&quot;: &quot;black&quot;, &quot;fillOpacity&quot;: 0.2, &quot;fillRule&quot;: &quot;evenodd&quot;, &quot;lineCap&quot;: &quot;round&quot;, &quot;lineJoin&quot;: &quot;round&quot;, &quot;noClip&quot;: false, &quot;opacity&quot;: 1.0, &quot;smoothFactor&quot;: 1.0, &quot;stroke&quot;: true, &quot;weight&quot;: 4}\n",
       "            ).addTo(feature_group_04e22a6a55289d76af9d821d99f2f50f);\n",
       "        \n",
       "    \n",
       "            var circle_marker_03df98b1fcbe95d501f08712e167e298 = L.circleMarker(\n",
       "                [45.898, 3.226],\n",
       "                {&quot;bubblingMouseEvents&quot;: true, &quot;color&quot;: &quot;rgb(82, 188, 163)&quot;, &quot;dashArray&quot;: null, &quot;dashOffset&quot;: null, &quot;fill&quot;: true, &quot;fillColor&quot;: &quot;rgb(82, 188, 163)&quot;, &quot;fillOpacity&quot;: 0.6, &quot;fillRule&quot;: &quot;evenodd&quot;, &quot;lineCap&quot;: &quot;round&quot;, &quot;lineJoin&quot;: &quot;round&quot;, &quot;opacity&quot;: 1.0, &quot;radius&quot;: 15, &quot;stroke&quot;: true, &quot;weight&quot;: 0}\n",
       "            ).addTo(feature_group_04e22a6a55289d76af9d821d99f2f50f);\n",
       "        \n",
       "    \n",
       "            circle_marker_03df98b1fcbe95d501f08712e167e298.bindTooltip(\n",
       "                `&lt;div&gt;\n",
       "                     63148 (2)\n",
       "                 &lt;/div&gt;`,\n",
       "                {\n",
       "  &quot;sticky&quot;: true,\n",
       "}\n",
       "            );\n",
       "        \n",
       "    \n",
       "            var poly_line_39ec02fea342c703bce094d6bde926e7 = L.polyline(\n",
       "                [[45.898, 3.226], [46.24, 3.033]],\n",
       "                {&quot;bubblingMouseEvents&quot;: true, &quot;color&quot;: &quot;black&quot;, &quot;dashArray&quot;: null, &quot;dashOffset&quot;: null, &quot;fill&quot;: false, &quot;fillColor&quot;: &quot;black&quot;, &quot;fillOpacity&quot;: 0.2, &quot;fillRule&quot;: &quot;evenodd&quot;, &quot;lineCap&quot;: &quot;round&quot;, &quot;lineJoin&quot;: &quot;round&quot;, &quot;noClip&quot;: false, &quot;opacity&quot;: 1.0, &quot;smoothFactor&quot;: 1.0, &quot;stroke&quot;: true, &quot;weight&quot;: 4}\n",
       "            ).addTo(feature_group_04e22a6a55289d76af9d821d99f2f50f);\n",
       "        \n",
       "    \n",
       "            var circle_marker_9b8601516a3d19eaf9997f6827948b2e = L.circleMarker(\n",
       "                [46.24, 3.033],\n",
       "                {&quot;bubblingMouseEvents&quot;: true, &quot;color&quot;: &quot;rgb(82, 188, 163)&quot;, &quot;dashArray&quot;: null, &quot;dashOffset&quot;: null, &quot;fill&quot;: true, &quot;fillColor&quot;: &quot;rgb(82, 188, 163)&quot;, &quot;fillOpacity&quot;: 0.6, &quot;fillRule&quot;: &quot;evenodd&quot;, &quot;lineCap&quot;: &quot;round&quot;, &quot;lineJoin&quot;: &quot;round&quot;, &quot;opacity&quot;: 1.0, &quot;radius&quot;: 15, &quot;stroke&quot;: true, &quot;weight&quot;: 0}\n",
       "            ).addTo(feature_group_04e22a6a55289d76af9d821d99f2f50f);\n",
       "        \n",
       "    \n",
       "            circle_marker_9b8601516a3d19eaf9997f6827948b2e.bindTooltip(\n",
       "                `&lt;div&gt;\n",
       "                     03077 (2)\n",
       "                 &lt;/div&gt;`,\n",
       "                {\n",
       "  &quot;sticky&quot;: true,\n",
       "}\n",
       "            );\n",
       "        \n",
       "    \n",
       "            var poly_line_e73862f70ee4430bf89d411e87ee464b = L.polyline(\n",
       "                [[46.24, 3.033], [46.378, 2.782]],\n",
       "                {&quot;bubblingMouseEvents&quot;: true, &quot;color&quot;: &quot;black&quot;, &quot;dashArray&quot;: null, &quot;dashOffset&quot;: null, &quot;fill&quot;: false, &quot;fillColor&quot;: &quot;black&quot;, &quot;fillOpacity&quot;: 0.2, &quot;fillRule&quot;: &quot;evenodd&quot;, &quot;lineCap&quot;: &quot;round&quot;, &quot;lineJoin&quot;: &quot;round&quot;, &quot;noClip&quot;: false, &quot;opacity&quot;: 1.0, &quot;smoothFactor&quot;: 1.0, &quot;stroke&quot;: true, &quot;weight&quot;: 4}\n",
       "            ).addTo(feature_group_04e22a6a55289d76af9d821d99f2f50f);\n",
       "        \n",
       "    \n",
       "            var circle_marker_d617484754f74afe926d3ec2aa0f1429 = L.circleMarker(\n",
       "                [46.378, 2.782],\n",
       "                {&quot;bubblingMouseEvents&quot;: true, &quot;color&quot;: &quot;rgb(82, 188, 163)&quot;, &quot;dashArray&quot;: null, &quot;dashOffset&quot;: null, &quot;fill&quot;: true, &quot;fillColor&quot;: &quot;rgb(82, 188, 163)&quot;, &quot;fillOpacity&quot;: 0.6, &quot;fillRule&quot;: &quot;evenodd&quot;, &quot;lineCap&quot;: &quot;round&quot;, &quot;lineJoin&quot;: &quot;round&quot;, &quot;opacity&quot;: 1.0, &quot;radius&quot;: 15, &quot;stroke&quot;: true, &quot;weight&quot;: 0}\n",
       "            ).addTo(feature_group_04e22a6a55289d76af9d821d99f2f50f);\n",
       "        \n",
       "    \n",
       "            circle_marker_d617484754f74afe926d3ec2aa0f1429.bindTooltip(\n",
       "                `&lt;div&gt;\n",
       "                     03097 (2)\n",
       "                 &lt;/div&gt;`,\n",
       "                {\n",
       "  &quot;sticky&quot;: true,\n",
       "}\n",
       "            );\n",
       "        \n",
       "    \n",
       "            var poly_line_19b848548f199eae329a633cf79c1645 = L.polyline(\n",
       "                [[46.378, 2.782], [47.555, 4.346]],\n",
       "                {&quot;bubblingMouseEvents&quot;: true, &quot;color&quot;: &quot;black&quot;, &quot;dashArray&quot;: null, &quot;dashOffset&quot;: null, &quot;fill&quot;: false, &quot;fillColor&quot;: &quot;black&quot;, &quot;fillOpacity&quot;: 0.2, &quot;fillRule&quot;: &quot;evenodd&quot;, &quot;lineCap&quot;: &quot;round&quot;, &quot;lineJoin&quot;: &quot;round&quot;, &quot;noClip&quot;: false, &quot;opacity&quot;: 1.0, &quot;smoothFactor&quot;: 1.0, &quot;stroke&quot;: true, &quot;weight&quot;: 4}\n",
       "            ).addTo(feature_group_04e22a6a55289d76af9d821d99f2f50f);\n",
       "        \n",
       "    \n",
       "            var circle_marker_7cf0c3ba2bc0ac3c5ee8fd4cefd60917 = L.circleMarker(\n",
       "                [47.555, 4.346],\n",
       "                {&quot;bubblingMouseEvents&quot;: true, &quot;color&quot;: &quot;rgb(82, 188, 163)&quot;, &quot;dashArray&quot;: null, &quot;dashOffset&quot;: null, &quot;fill&quot;: true, &quot;fillColor&quot;: &quot;rgb(82, 188, 163)&quot;, &quot;fillOpacity&quot;: 0.6, &quot;fillRule&quot;: &quot;evenodd&quot;, &quot;lineCap&quot;: &quot;round&quot;, &quot;lineJoin&quot;: &quot;round&quot;, &quot;opacity&quot;: 1.0, &quot;radius&quot;: 15, &quot;stroke&quot;: true, &quot;weight&quot;: 0}\n",
       "            ).addTo(feature_group_04e22a6a55289d76af9d821d99f2f50f);\n",
       "        \n",
       "    \n",
       "            circle_marker_7cf0c3ba2bc0ac3c5ee8fd4cefd60917.bindTooltip(\n",
       "                `&lt;div&gt;\n",
       "                     21137 (2)\n",
       "                 &lt;/div&gt;`,\n",
       "                {\n",
       "  &quot;sticky&quot;: true,\n",
       "}\n",
       "            );\n",
       "        \n",
       "    \n",
       "            var poly_line_ca00e442e711798e8c63f77ecc87ae3b = L.polyline(\n",
       "                [[47.555, 4.346], [46.841, 4.432]],\n",
       "                {&quot;bubblingMouseEvents&quot;: true, &quot;color&quot;: &quot;black&quot;, &quot;dashArray&quot;: null, &quot;dashOffset&quot;: null, &quot;fill&quot;: false, &quot;fillColor&quot;: &quot;black&quot;, &quot;fillOpacity&quot;: 0.2, &quot;fillRule&quot;: &quot;evenodd&quot;, &quot;lineCap&quot;: &quot;round&quot;, &quot;lineJoin&quot;: &quot;round&quot;, &quot;noClip&quot;: false, &quot;opacity&quot;: 1.0, &quot;smoothFactor&quot;: 1.0, &quot;stroke&quot;: true, &quot;weight&quot;: 4}\n",
       "            ).addTo(feature_group_04e22a6a55289d76af9d821d99f2f50f);\n",
       "        \n",
       "    \n",
       "            var circle_marker_2d550f5a21e7b14f2e154825653ce273 = L.circleMarker(\n",
       "                [46.841, 4.432],\n",
       "                {&quot;bubblingMouseEvents&quot;: true, &quot;color&quot;: &quot;rgb(82, 188, 163)&quot;, &quot;dashArray&quot;: null, &quot;dashOffset&quot;: null, &quot;fill&quot;: true, &quot;fillColor&quot;: &quot;rgb(82, 188, 163)&quot;, &quot;fillOpacity&quot;: 0.6, &quot;fillRule&quot;: &quot;evenodd&quot;, &quot;lineCap&quot;: &quot;round&quot;, &quot;lineJoin&quot;: &quot;round&quot;, &quot;opacity&quot;: 1.0, &quot;radius&quot;: 15, &quot;stroke&quot;: true, &quot;weight&quot;: 0}\n",
       "            ).addTo(feature_group_04e22a6a55289d76af9d821d99f2f50f);\n",
       "        \n",
       "    \n",
       "            circle_marker_2d550f5a21e7b14f2e154825653ce273.bindTooltip(\n",
       "                `&lt;div&gt;\n",
       "                     71479 (2)\n",
       "                 &lt;/div&gt;`,\n",
       "                {\n",
       "  &quot;sticky&quot;: true,\n",
       "}\n",
       "            );\n",
       "        \n",
       "    \n",
       "            var poly_line_2ddfb7cc36c43644cb0ed10440a34e64 = L.polyline(\n",
       "                [[46.841, 4.432], [46.288, 4.178]],\n",
       "                {&quot;bubblingMouseEvents&quot;: true, &quot;color&quot;: &quot;black&quot;, &quot;dashArray&quot;: null, &quot;dashOffset&quot;: null, &quot;fill&quot;: false, &quot;fillColor&quot;: &quot;black&quot;, &quot;fillOpacity&quot;: 0.2, &quot;fillRule&quot;: &quot;evenodd&quot;, &quot;lineCap&quot;: &quot;round&quot;, &quot;lineJoin&quot;: &quot;round&quot;, &quot;noClip&quot;: false, &quot;opacity&quot;: 1.0, &quot;smoothFactor&quot;: 1.0, &quot;stroke&quot;: true, &quot;weight&quot;: 4}\n",
       "            ).addTo(feature_group_04e22a6a55289d76af9d821d99f2f50f);\n",
       "        \n",
       "    \n",
       "            var circle_marker_77b19cab26a43c06a895b6dc2d1dccc7 = L.circleMarker(\n",
       "                [46.288, 4.178],\n",
       "                {&quot;bubblingMouseEvents&quot;: true, &quot;color&quot;: &quot;rgb(82, 188, 163)&quot;, &quot;dashArray&quot;: null, &quot;dashOffset&quot;: null, &quot;fill&quot;: true, &quot;fillColor&quot;: &quot;rgb(82, 188, 163)&quot;, &quot;fillOpacity&quot;: 0.6, &quot;fillRule&quot;: &quot;evenodd&quot;, &quot;lineCap&quot;: &quot;round&quot;, &quot;lineJoin&quot;: &quot;round&quot;, &quot;opacity&quot;: 1.0, &quot;radius&quot;: 15, &quot;stroke&quot;: true, &quot;weight&quot;: 0}\n",
       "            ).addTo(feature_group_04e22a6a55289d76af9d821d99f2f50f);\n",
       "        \n",
       "    \n",
       "            circle_marker_77b19cab26a43c06a895b6dc2d1dccc7.bindTooltip(\n",
       "                `&lt;div&gt;\n",
       "                     71399 (2)\n",
       "                 &lt;/div&gt;`,\n",
       "                {\n",
       "  &quot;sticky&quot;: true,\n",
       "}\n",
       "            );\n",
       "        \n",
       "    \n",
       "            var poly_line_fe3df3a29423085dae7a849aa9fd24c0 = L.polyline(\n",
       "                [[46.288, 4.178], [45.538, 5.709]],\n",
       "                {&quot;bubblingMouseEvents&quot;: true, &quot;color&quot;: &quot;black&quot;, &quot;dashArray&quot;: null, &quot;dashOffset&quot;: null, &quot;fill&quot;: false, &quot;fillColor&quot;: &quot;black&quot;, &quot;fillOpacity&quot;: 0.2, &quot;fillRule&quot;: &quot;evenodd&quot;, &quot;lineCap&quot;: &quot;round&quot;, &quot;lineJoin&quot;: &quot;round&quot;, &quot;noClip&quot;: false, &quot;opacity&quot;: 1.0, &quot;smoothFactor&quot;: 1.0, &quot;stroke&quot;: true, &quot;weight&quot;: 4}\n",
       "            ).addTo(feature_group_04e22a6a55289d76af9d821d99f2f50f);\n",
       "        \n",
       "    \n",
       "            var circle_marker_a1f525a59b51ca91a449df39d4d2d48b = L.circleMarker(\n",
       "                [45.538, 5.709],\n",
       "                {&quot;bubblingMouseEvents&quot;: true, &quot;color&quot;: &quot;rgb(82, 188, 163)&quot;, &quot;dashArray&quot;: null, &quot;dashOffset&quot;: null, &quot;fill&quot;: true, &quot;fillColor&quot;: &quot;rgb(82, 188, 163)&quot;, &quot;fillOpacity&quot;: 0.6, &quot;fillRule&quot;: &quot;evenodd&quot;, &quot;lineCap&quot;: &quot;round&quot;, &quot;lineJoin&quot;: &quot;round&quot;, &quot;opacity&quot;: 1.0, &quot;radius&quot;: 15, &quot;stroke&quot;: true, &quot;weight&quot;: 0}\n",
       "            ).addTo(feature_group_04e22a6a55289d76af9d821d99f2f50f);\n",
       "        \n",
       "    \n",
       "            circle_marker_a1f525a59b51ca91a449df39d4d2d48b.bindTooltip(\n",
       "                `&lt;div&gt;\n",
       "                     73100 (2)\n",
       "                 &lt;/div&gt;`,\n",
       "                {\n",
       "  &quot;sticky&quot;: true,\n",
       "}\n",
       "            );\n",
       "        \n",
       "    \n",
       "            var poly_line_e09ba63b1b19f097bb40cc0053315e81 = L.polyline(\n",
       "                [[45.538, 5.709], [45.566, 5.376]],\n",
       "                {&quot;bubblingMouseEvents&quot;: true, &quot;color&quot;: &quot;black&quot;, &quot;dashArray&quot;: null, &quot;dashOffset&quot;: null, &quot;fill&quot;: false, &quot;fillColor&quot;: &quot;black&quot;, &quot;fillOpacity&quot;: 0.2, &quot;fillRule&quot;: &quot;evenodd&quot;, &quot;lineCap&quot;: &quot;round&quot;, &quot;lineJoin&quot;: &quot;round&quot;, &quot;noClip&quot;: false, &quot;opacity&quot;: 1.0, &quot;smoothFactor&quot;: 1.0, &quot;stroke&quot;: true, &quot;weight&quot;: 4}\n",
       "            ).addTo(feature_group_04e22a6a55289d76af9d821d99f2f50f);\n",
       "        \n",
       "    \n",
       "            var circle_marker_c37083b416a8b3366cb5a1dd18f85952 = L.circleMarker(\n",
       "                [45.566, 5.376],\n",
       "                {&quot;bubblingMouseEvents&quot;: true, &quot;color&quot;: &quot;rgb(82, 188, 163)&quot;, &quot;dashArray&quot;: null, &quot;dashOffset&quot;: null, &quot;fill&quot;: true, &quot;fillColor&quot;: &quot;rgb(82, 188, 163)&quot;, &quot;fillOpacity&quot;: 0.6, &quot;fillRule&quot;: &quot;evenodd&quot;, &quot;lineCap&quot;: &quot;round&quot;, &quot;lineJoin&quot;: &quot;round&quot;, &quot;opacity&quot;: 1.0, &quot;radius&quot;: 15, &quot;stroke&quot;: true, &quot;weight&quot;: 0}\n",
       "            ).addTo(feature_group_04e22a6a55289d76af9d821d99f2f50f);\n",
       "        \n",
       "    \n",
       "            circle_marker_c37083b416a8b3366cb5a1dd18f85952.bindTooltip(\n",
       "                `&lt;div&gt;\n",
       "                     38064 (2)\n",
       "                 &lt;/div&gt;`,\n",
       "                {\n",
       "  &quot;sticky&quot;: true,\n",
       "}\n",
       "            );\n",
       "        \n",
       "    \n",
       "            var poly_line_5d247bf4c97d469f8d4d81ac01a13f08 = L.polyline(\n",
       "                [[45.566, 5.376], [45.949, 5.44]],\n",
       "                {&quot;bubblingMouseEvents&quot;: true, &quot;color&quot;: &quot;black&quot;, &quot;dashArray&quot;: null, &quot;dashOffset&quot;: null, &quot;fill&quot;: false, &quot;fillColor&quot;: &quot;black&quot;, &quot;fillOpacity&quot;: 0.2, &quot;fillRule&quot;: &quot;evenodd&quot;, &quot;lineCap&quot;: &quot;round&quot;, &quot;lineJoin&quot;: &quot;round&quot;, &quot;noClip&quot;: false, &quot;opacity&quot;: 1.0, &quot;smoothFactor&quot;: 1.0, &quot;stroke&quot;: true, &quot;weight&quot;: 4}\n",
       "            ).addTo(feature_group_04e22a6a55289d76af9d821d99f2f50f);\n",
       "        \n",
       "    \n",
       "            var circle_marker_b2bb2f065fc73e72312c7834955a746c = L.circleMarker(\n",
       "                [45.949, 5.44],\n",
       "                {&quot;bubblingMouseEvents&quot;: true, &quot;color&quot;: &quot;rgb(82, 188, 163)&quot;, &quot;dashArray&quot;: null, &quot;dashOffset&quot;: null, &quot;fill&quot;: true, &quot;fillColor&quot;: &quot;rgb(82, 188, 163)&quot;, &quot;fillOpacity&quot;: 0.6, &quot;fillRule&quot;: &quot;evenodd&quot;, &quot;lineCap&quot;: &quot;round&quot;, &quot;lineJoin&quot;: &quot;round&quot;, &quot;opacity&quot;: 1.0, &quot;radius&quot;: 15, &quot;stroke&quot;: true, &quot;weight&quot;: 0}\n",
       "            ).addTo(feature_group_04e22a6a55289d76af9d821d99f2f50f);\n",
       "        \n",
       "    \n",
       "            circle_marker_b2bb2f065fc73e72312c7834955a746c.bindTooltip(\n",
       "                `&lt;div&gt;\n",
       "                     01384 (2)\n",
       "                 &lt;/div&gt;`,\n",
       "                {\n",
       "  &quot;sticky&quot;: true,\n",
       "}\n",
       "            );\n",
       "        \n",
       "    \n",
       "            var poly_line_ac1ec6b4d543884652d567349f995556 = L.polyline(\n",
       "                [[45.949, 5.44], [46.327, 5.428]],\n",
       "                {&quot;bubblingMouseEvents&quot;: true, &quot;color&quot;: &quot;black&quot;, &quot;dashArray&quot;: null, &quot;dashOffset&quot;: null, &quot;fill&quot;: false, &quot;fillColor&quot;: &quot;black&quot;, &quot;fillOpacity&quot;: 0.2, &quot;fillRule&quot;: &quot;evenodd&quot;, &quot;lineCap&quot;: &quot;round&quot;, &quot;lineJoin&quot;: &quot;round&quot;, &quot;noClip&quot;: false, &quot;opacity&quot;: 1.0, &quot;smoothFactor&quot;: 1.0, &quot;stroke&quot;: true, &quot;weight&quot;: 4}\n",
       "            ).addTo(feature_group_04e22a6a55289d76af9d821d99f2f50f);\n",
       "        \n",
       "    \n",
       "            var circle_marker_a5d60b29004828cd6835c01a7b9cae25 = L.circleMarker(\n",
       "                [46.327, 5.428],\n",
       "                {&quot;bubblingMouseEvents&quot;: true, &quot;color&quot;: &quot;rgb(82, 188, 163)&quot;, &quot;dashArray&quot;: null, &quot;dashOffset&quot;: null, &quot;fill&quot;: true, &quot;fillColor&quot;: &quot;rgb(82, 188, 163)&quot;, &quot;fillOpacity&quot;: 0.6, &quot;fillRule&quot;: &quot;evenodd&quot;, &quot;lineCap&quot;: &quot;round&quot;, &quot;lineJoin&quot;: &quot;round&quot;, &quot;opacity&quot;: 1.0, &quot;radius&quot;: 15, &quot;stroke&quot;: true, &quot;weight&quot;: 0}\n",
       "            ).addTo(feature_group_04e22a6a55289d76af9d821d99f2f50f);\n",
       "        \n",
       "    \n",
       "            circle_marker_a5d60b29004828cd6835c01a7b9cae25.bindTooltip(\n",
       "                `&lt;div&gt;\n",
       "                     01309 (2)\n",
       "                 &lt;/div&gt;`,\n",
       "                {\n",
       "  &quot;sticky&quot;: true,\n",
       "}\n",
       "            );\n",
       "        \n",
       "    \n",
       "            var poly_line_0f1030ab906ad7d453740fcd2a6f3956 = L.polyline(\n",
       "                [[46.327, 5.428], [46.53, 4.872]],\n",
       "                {&quot;bubblingMouseEvents&quot;: true, &quot;color&quot;: &quot;black&quot;, &quot;dashArray&quot;: null, &quot;dashOffset&quot;: null, &quot;fill&quot;: false, &quot;fillColor&quot;: &quot;black&quot;, &quot;fillOpacity&quot;: 0.2, &quot;fillRule&quot;: &quot;evenodd&quot;, &quot;lineCap&quot;: &quot;round&quot;, &quot;lineJoin&quot;: &quot;round&quot;, &quot;noClip&quot;: false, &quot;opacity&quot;: 1.0, &quot;smoothFactor&quot;: 1.0, &quot;stroke&quot;: true, &quot;weight&quot;: 4}\n",
       "            ).addTo(feature_group_04e22a6a55289d76af9d821d99f2f50f);\n",
       "        \n",
       "    \n",
       "            var circle_marker_cab43eec61b2717ab0da5baf0c50110e = L.circleMarker(\n",
       "                [46.53, 4.872],\n",
       "                {&quot;bubblingMouseEvents&quot;: true, &quot;color&quot;: &quot;rgb(82, 188, 163)&quot;, &quot;dashArray&quot;: null, &quot;dashOffset&quot;: null, &quot;fill&quot;: true, &quot;fillColor&quot;: &quot;rgb(82, 188, 163)&quot;, &quot;fillOpacity&quot;: 0.6, &quot;fillRule&quot;: &quot;evenodd&quot;, &quot;lineCap&quot;: &quot;round&quot;, &quot;lineJoin&quot;: &quot;round&quot;, &quot;opacity&quot;: 1.0, &quot;radius&quot;: 15, &quot;stroke&quot;: true, &quot;weight&quot;: 0}\n",
       "            ).addTo(feature_group_04e22a6a55289d76af9d821d99f2f50f);\n",
       "        \n",
       "    \n",
       "            circle_marker_cab43eec61b2717ab0da5baf0c50110e.bindTooltip(\n",
       "                `&lt;div&gt;\n",
       "                     71353 (2)\n",
       "                 &lt;/div&gt;`,\n",
       "                {\n",
       "  &quot;sticky&quot;: true,\n",
       "}\n",
       "            );\n",
       "        \n",
       "    \n",
       "            var poly_line_413137d289b00b393f3c75d895edc9e3 = L.polyline(\n",
       "                [[46.53, 4.872], [47.069, 5.483]],\n",
       "                {&quot;bubblingMouseEvents&quot;: true, &quot;color&quot;: &quot;black&quot;, &quot;dashArray&quot;: null, &quot;dashOffset&quot;: null, &quot;fill&quot;: false, &quot;fillColor&quot;: &quot;black&quot;, &quot;fillOpacity&quot;: 0.2, &quot;fillRule&quot;: &quot;evenodd&quot;, &quot;lineCap&quot;: &quot;round&quot;, &quot;lineJoin&quot;: &quot;round&quot;, &quot;noClip&quot;: false, &quot;opacity&quot;: 1.0, &quot;smoothFactor&quot;: 1.0, &quot;stroke&quot;: true, &quot;weight&quot;: 4}\n",
       "            ).addTo(feature_group_04e22a6a55289d76af9d821d99f2f50f);\n",
       "        \n",
       "    \n",
       "            var circle_marker_405a3ac7487bd253cd540568c8938e91 = L.circleMarker(\n",
       "                [47.069, 5.483],\n",
       "                {&quot;bubblingMouseEvents&quot;: true, &quot;color&quot;: &quot;rgb(229, 134, 6)&quot;, &quot;dashArray&quot;: null, &quot;dashOffset&quot;: null, &quot;fill&quot;: true, &quot;fillColor&quot;: &quot;rgb(229, 134, 6)&quot;, &quot;fillOpacity&quot;: 0.6, &quot;fillRule&quot;: &quot;evenodd&quot;, &quot;lineCap&quot;: &quot;round&quot;, &quot;lineJoin&quot;: &quot;round&quot;, &quot;opacity&quot;: 1.0, &quot;radius&quot;: 15, &quot;stroke&quot;: true, &quot;weight&quot;: 0}\n",
       "            ).addTo(feature_group_04e22a6a55289d76af9d821d99f2f50f);\n",
       "        \n",
       "    \n",
       "            circle_marker_405a3ac7487bd253cd540568c8938e91.bindTooltip(\n",
       "                `&lt;div&gt;\n",
       "                     39182 (0)\n",
       "                 &lt;/div&gt;`,\n",
       "                {\n",
       "  &quot;sticky&quot;: true,\n",
       "}\n",
       "            );\n",
       "        \n",
       "    \n",
       "            var poly_line_711c8d656bf857370f25deb4598c4446 = L.polyline(\n",
       "                [[47.069, 5.483], [47.087, 6.243]],\n",
       "                {&quot;bubblingMouseEvents&quot;: true, &quot;color&quot;: &quot;black&quot;, &quot;dashArray&quot;: null, &quot;dashOffset&quot;: null, &quot;fill&quot;: false, &quot;fillColor&quot;: &quot;black&quot;, &quot;fillOpacity&quot;: 0.2, &quot;fillRule&quot;: &quot;evenodd&quot;, &quot;lineCap&quot;: &quot;round&quot;, &quot;lineJoin&quot;: &quot;round&quot;, &quot;noClip&quot;: false, &quot;opacity&quot;: 1.0, &quot;smoothFactor&quot;: 1.0, &quot;stroke&quot;: true, &quot;weight&quot;: 4}\n",
       "            ).addTo(feature_group_04e22a6a55289d76af9d821d99f2f50f);\n",
       "        \n",
       "    \n",
       "            var circle_marker_029bc58f774a884f1524698a90ba96fb = L.circleMarker(\n",
       "                [47.087, 6.243],\n",
       "                {&quot;bubblingMouseEvents&quot;: true, &quot;color&quot;: &quot;rgb(229, 134, 6)&quot;, &quot;dashArray&quot;: null, &quot;dashOffset&quot;: null, &quot;fill&quot;: true, &quot;fillColor&quot;: &quot;rgb(229, 134, 6)&quot;, &quot;fillOpacity&quot;: 0.6, &quot;fillRule&quot;: &quot;evenodd&quot;, &quot;lineCap&quot;: &quot;round&quot;, &quot;lineJoin&quot;: &quot;round&quot;, &quot;opacity&quot;: 1.0, &quot;radius&quot;: 15, &quot;stroke&quot;: true, &quot;weight&quot;: 0}\n",
       "            ).addTo(feature_group_04e22a6a55289d76af9d821d99f2f50f);\n",
       "        \n",
       "    \n",
       "            circle_marker_029bc58f774a884f1524698a90ba96fb.bindTooltip(\n",
       "                `&lt;div&gt;\n",
       "                     25331 (0)\n",
       "                 &lt;/div&gt;`,\n",
       "                {\n",
       "  &quot;sticky&quot;: true,\n",
       "}\n",
       "            );\n",
       "        \n",
       "    \n",
       "            var poly_line_0883bd39c23880f1468f7a126812a2e4 = L.polyline(\n",
       "                [[47.087, 6.243], [47.329, 6.236]],\n",
       "                {&quot;bubblingMouseEvents&quot;: true, &quot;color&quot;: &quot;black&quot;, &quot;dashArray&quot;: null, &quot;dashOffset&quot;: null, &quot;fill&quot;: false, &quot;fillColor&quot;: &quot;black&quot;, &quot;fillOpacity&quot;: 0.2, &quot;fillRule&quot;: &quot;evenodd&quot;, &quot;lineCap&quot;: &quot;round&quot;, &quot;lineJoin&quot;: &quot;round&quot;, &quot;noClip&quot;: false, &quot;opacity&quot;: 1.0, &quot;smoothFactor&quot;: 1.0, &quot;stroke&quot;: true, &quot;weight&quot;: 4}\n",
       "            ).addTo(feature_group_04e22a6a55289d76af9d821d99f2f50f);\n",
       "        \n",
       "    \n",
       "            var circle_marker_d286abfb749d98b9f82145607f97aa4f = L.circleMarker(\n",
       "                [47.329, 6.236],\n",
       "                {&quot;bubblingMouseEvents&quot;: true, &quot;color&quot;: &quot;rgb(229, 134, 6)&quot;, &quot;dashArray&quot;: null, &quot;dashOffset&quot;: null, &quot;fill&quot;: true, &quot;fillColor&quot;: &quot;rgb(229, 134, 6)&quot;, &quot;fillOpacity&quot;: 0.6, &quot;fillRule&quot;: &quot;evenodd&quot;, &quot;lineCap&quot;: &quot;round&quot;, &quot;lineJoin&quot;: &quot;round&quot;, &quot;opacity&quot;: 1.0, &quot;radius&quot;: 15, &quot;stroke&quot;: true, &quot;weight&quot;: 0}\n",
       "            ).addTo(feature_group_04e22a6a55289d76af9d821d99f2f50f);\n",
       "        \n",
       "    \n",
       "            circle_marker_d286abfb749d98b9f82145607f97aa4f.bindTooltip(\n",
       "                `&lt;div&gt;\n",
       "                     25599 (0)\n",
       "                 &lt;/div&gt;`,\n",
       "                {\n",
       "  &quot;sticky&quot;: true,\n",
       "}\n",
       "            );\n",
       "        \n",
       "    \n",
       "            var poly_line_9d25969fae553d3fe53819586a8b83f7 = L.polyline(\n",
       "                [[47.329, 6.236], [47.168, 6.663]],\n",
       "                {&quot;bubblingMouseEvents&quot;: true, &quot;color&quot;: &quot;black&quot;, &quot;dashArray&quot;: null, &quot;dashOffset&quot;: null, &quot;fill&quot;: false, &quot;fillColor&quot;: &quot;black&quot;, &quot;fillOpacity&quot;: 0.2, &quot;fillRule&quot;: &quot;evenodd&quot;, &quot;lineCap&quot;: &quot;round&quot;, &quot;lineJoin&quot;: &quot;round&quot;, &quot;noClip&quot;: false, &quot;opacity&quot;: 1.0, &quot;smoothFactor&quot;: 1.0, &quot;stroke&quot;: true, &quot;weight&quot;: 4}\n",
       "            ).addTo(feature_group_04e22a6a55289d76af9d821d99f2f50f);\n",
       "        \n",
       "    \n",
       "            var circle_marker_04b6ee83375edc832ffd4183e0e978b9 = L.circleMarker(\n",
       "                [47.168, 6.663],\n",
       "                {&quot;bubblingMouseEvents&quot;: true, &quot;color&quot;: &quot;rgb(229, 134, 6)&quot;, &quot;dashArray&quot;: null, &quot;dashOffset&quot;: null, &quot;fill&quot;: true, &quot;fillColor&quot;: &quot;rgb(229, 134, 6)&quot;, &quot;fillOpacity&quot;: 0.6, &quot;fillRule&quot;: &quot;evenodd&quot;, &quot;lineCap&quot;: &quot;round&quot;, &quot;lineJoin&quot;: &quot;round&quot;, &quot;opacity&quot;: 1.0, &quot;radius&quot;: 15, &quot;stroke&quot;: true, &quot;weight&quot;: 0}\n",
       "            ).addTo(feature_group_04e22a6a55289d76af9d821d99f2f50f);\n",
       "        \n",
       "    \n",
       "            circle_marker_04b6ee83375edc832ffd4183e0e978b9.bindTooltip(\n",
       "                `&lt;div&gt;\n",
       "                     25351 (0)\n",
       "                 &lt;/div&gt;`,\n",
       "                {\n",
       "  &quot;sticky&quot;: true,\n",
       "}\n",
       "            );\n",
       "        \n",
       "    \n",
       "            var poly_line_8741bd556b31059ab414acb2b22990bf = L.polyline(\n",
       "                [[47.168, 6.663], [47.607, 6.918]],\n",
       "                {&quot;bubblingMouseEvents&quot;: true, &quot;color&quot;: &quot;black&quot;, &quot;dashArray&quot;: null, &quot;dashOffset&quot;: null, &quot;fill&quot;: false, &quot;fillColor&quot;: &quot;black&quot;, &quot;fillOpacity&quot;: 0.2, &quot;fillRule&quot;: &quot;evenodd&quot;, &quot;lineCap&quot;: &quot;round&quot;, &quot;lineJoin&quot;: &quot;round&quot;, &quot;noClip&quot;: false, &quot;opacity&quot;: 1.0, &quot;smoothFactor&quot;: 1.0, &quot;stroke&quot;: true, &quot;weight&quot;: 4}\n",
       "            ).addTo(feature_group_04e22a6a55289d76af9d821d99f2f50f);\n",
       "        \n",
       "    \n",
       "            var circle_marker_acdc4b9c691693a86c59dce1e472e5fb = L.circleMarker(\n",
       "                [47.607, 6.918],\n",
       "                {&quot;bubblingMouseEvents&quot;: true, &quot;color&quot;: &quot;rgb(229, 134, 6)&quot;, &quot;dashArray&quot;: null, &quot;dashOffset&quot;: null, &quot;fill&quot;: true, &quot;fillColor&quot;: &quot;rgb(229, 134, 6)&quot;, &quot;fillOpacity&quot;: 0.6, &quot;fillRule&quot;: &quot;evenodd&quot;, &quot;lineCap&quot;: &quot;round&quot;, &quot;lineJoin&quot;: &quot;round&quot;, &quot;opacity&quot;: 1.0, &quot;radius&quot;: 15, &quot;stroke&quot;: true, &quot;weight&quot;: 0}\n",
       "            ).addTo(feature_group_04e22a6a55289d76af9d821d99f2f50f);\n",
       "        \n",
       "    \n",
       "            circle_marker_acdc4b9c691693a86c59dce1e472e5fb.bindTooltip(\n",
       "                `&lt;div&gt;\n",
       "                     90104 (0)\n",
       "                 &lt;/div&gt;`,\n",
       "                {\n",
       "  &quot;sticky&quot;: true,\n",
       "}\n",
       "            );\n",
       "        \n",
       "    \n",
       "            var poly_line_8e33241fe362de2b86cd18a0e1142231 = L.polyline(\n",
       "                [[47.607, 6.918], [47.79, 7.37]],\n",
       "                {&quot;bubblingMouseEvents&quot;: true, &quot;color&quot;: &quot;black&quot;, &quot;dashArray&quot;: null, &quot;dashOffset&quot;: null, &quot;fill&quot;: false, &quot;fillColor&quot;: &quot;black&quot;, &quot;fillOpacity&quot;: 0.2, &quot;fillRule&quot;: &quot;evenodd&quot;, &quot;lineCap&quot;: &quot;round&quot;, &quot;lineJoin&quot;: &quot;round&quot;, &quot;noClip&quot;: false, &quot;opacity&quot;: 1.0, &quot;smoothFactor&quot;: 1.0, &quot;stroke&quot;: true, &quot;weight&quot;: 4}\n",
       "            ).addTo(feature_group_04e22a6a55289d76af9d821d99f2f50f);\n",
       "        \n",
       "    \n",
       "            var circle_marker_37a97afea96b15d81e3cf07e32f2247b = L.circleMarker(\n",
       "                [47.79, 7.37],\n",
       "                {&quot;bubblingMouseEvents&quot;: true, &quot;color&quot;: &quot;rgb(229, 134, 6)&quot;, &quot;dashArray&quot;: null, &quot;dashOffset&quot;: null, &quot;fill&quot;: true, &quot;fillColor&quot;: &quot;rgb(229, 134, 6)&quot;, &quot;fillOpacity&quot;: 0.6, &quot;fillRule&quot;: &quot;evenodd&quot;, &quot;lineCap&quot;: &quot;round&quot;, &quot;lineJoin&quot;: &quot;round&quot;, &quot;opacity&quot;: 1.0, &quot;radius&quot;: 15, &quot;stroke&quot;: true, &quot;weight&quot;: 0}\n",
       "            ).addTo(feature_group_04e22a6a55289d76af9d821d99f2f50f);\n",
       "        \n",
       "    \n",
       "            circle_marker_37a97afea96b15d81e3cf07e32f2247b.bindTooltip(\n",
       "                `&lt;div&gt;\n",
       "                     68300 (0)\n",
       "                 &lt;/div&gt;`,\n",
       "                {\n",
       "  &quot;sticky&quot;: true,\n",
       "}\n",
       "            );\n",
       "        \n",
       "    \n",
       "            var poly_line_c3627e6c0a6a133942a40321f553ef84 = L.polyline(\n",
       "                [[47.79, 7.37], [48.449, 6.738]],\n",
       "                {&quot;bubblingMouseEvents&quot;: true, &quot;color&quot;: &quot;black&quot;, &quot;dashArray&quot;: null, &quot;dashOffset&quot;: null, &quot;fill&quot;: false, &quot;fillColor&quot;: &quot;black&quot;, &quot;fillOpacity&quot;: 0.2, &quot;fillRule&quot;: &quot;evenodd&quot;, &quot;lineCap&quot;: &quot;round&quot;, &quot;lineJoin&quot;: &quot;round&quot;, &quot;noClip&quot;: false, &quot;opacity&quot;: 1.0, &quot;smoothFactor&quot;: 1.0, &quot;stroke&quot;: true, &quot;weight&quot;: 4}\n",
       "            ).addTo(feature_group_04e22a6a55289d76af9d821d99f2f50f);\n",
       "        \n",
       "    \n",
       "            var circle_marker_758cc1320d4c293d7fad9767e8d8d603 = L.circleMarker(\n",
       "                [48.449, 6.738],\n",
       "                {&quot;bubblingMouseEvents&quot;: true, &quot;color&quot;: &quot;rgb(47, 138, 196)&quot;, &quot;dashArray&quot;: null, &quot;dashOffset&quot;: null, &quot;fill&quot;: true, &quot;fillColor&quot;: &quot;rgb(47, 138, 196)&quot;, &quot;fillOpacity&quot;: 0.6, &quot;fillRule&quot;: &quot;evenodd&quot;, &quot;lineCap&quot;: &quot;round&quot;, &quot;lineJoin&quot;: &quot;round&quot;, &quot;opacity&quot;: 1.0, &quot;radius&quot;: 15, &quot;stroke&quot;: true, &quot;weight&quot;: 0}\n",
       "            ).addTo(feature_group_04e22a6a55289d76af9d821d99f2f50f);\n",
       "        \n",
       "    \n",
       "            circle_marker_758cc1320d4c293d7fad9767e8d8d603.bindTooltip(\n",
       "                `&lt;div&gt;\n",
       "                     54039 (7)\n",
       "                 &lt;/div&gt;`,\n",
       "                {\n",
       "  &quot;sticky&quot;: true,\n",
       "}\n",
       "            );\n",
       "        \n",
       "    \n",
       "            var poly_line_8145e4a5f369e1eb0cba82f481fc16db = L.polyline(\n",
       "                [[48.449, 6.738], [48.843, 6.516]],\n",
       "                {&quot;bubblingMouseEvents&quot;: true, &quot;color&quot;: &quot;black&quot;, &quot;dashArray&quot;: null, &quot;dashOffset&quot;: null, &quot;fill&quot;: false, &quot;fillColor&quot;: &quot;black&quot;, &quot;fillOpacity&quot;: 0.2, &quot;fillRule&quot;: &quot;evenodd&quot;, &quot;lineCap&quot;: &quot;round&quot;, &quot;lineJoin&quot;: &quot;round&quot;, &quot;noClip&quot;: false, &quot;opacity&quot;: 1.0, &quot;smoothFactor&quot;: 1.0, &quot;stroke&quot;: true, &quot;weight&quot;: 4}\n",
       "            ).addTo(feature_group_04e22a6a55289d76af9d821d99f2f50f);\n",
       "        \n",
       "    \n",
       "            var circle_marker_dd31c516d5246f3bff4b01842788350f = L.circleMarker(\n",
       "                [48.843, 6.516],\n",
       "                {&quot;bubblingMouseEvents&quot;: true, &quot;color&quot;: &quot;rgb(47, 138, 196)&quot;, &quot;dashArray&quot;: null, &quot;dashOffset&quot;: null, &quot;fill&quot;: true, &quot;fillColor&quot;: &quot;rgb(47, 138, 196)&quot;, &quot;fillOpacity&quot;: 0.6, &quot;fillRule&quot;: &quot;evenodd&quot;, &quot;lineCap&quot;: &quot;round&quot;, &quot;lineJoin&quot;: &quot;round&quot;, &quot;opacity&quot;: 1.0, &quot;radius&quot;: 15, &quot;stroke&quot;: true, &quot;weight&quot;: 0}\n",
       "            ).addTo(feature_group_04e22a6a55289d76af9d821d99f2f50f);\n",
       "        \n",
       "    \n",
       "            circle_marker_dd31c516d5246f3bff4b01842788350f.bindTooltip(\n",
       "                `&lt;div&gt;\n",
       "                     57423 (7)\n",
       "                 &lt;/div&gt;`,\n",
       "                {\n",
       "  &quot;sticky&quot;: true,\n",
       "}\n",
       "            );\n",
       "        \n",
       "    \n",
       "            var poly_line_fa7e6a30914dfd3a2d32c9757911ddff = L.polyline(\n",
       "                [[48.843, 6.516], [48.954, 8.125]],\n",
       "                {&quot;bubblingMouseEvents&quot;: true, &quot;color&quot;: &quot;black&quot;, &quot;dashArray&quot;: null, &quot;dashOffset&quot;: null, &quot;fill&quot;: false, &quot;fillColor&quot;: &quot;black&quot;, &quot;fillOpacity&quot;: 0.2, &quot;fillRule&quot;: &quot;evenodd&quot;, &quot;lineCap&quot;: &quot;round&quot;, &quot;lineJoin&quot;: &quot;round&quot;, &quot;noClip&quot;: false, &quot;opacity&quot;: 1.0, &quot;smoothFactor&quot;: 1.0, &quot;stroke&quot;: true, &quot;weight&quot;: 4}\n",
       "            ).addTo(feature_group_04e22a6a55289d76af9d821d99f2f50f);\n",
       "        \n",
       "    \n",
       "            var circle_marker_e074eb15d0409d573206dad91510a24b = L.circleMarker(\n",
       "                [48.954, 8.125],\n",
       "                {&quot;bubblingMouseEvents&quot;: true, &quot;color&quot;: &quot;rgb(47, 138, 196)&quot;, &quot;dashArray&quot;: null, &quot;dashOffset&quot;: null, &quot;fill&quot;: true, &quot;fillColor&quot;: &quot;rgb(47, 138, 196)&quot;, &quot;fillOpacity&quot;: 0.6, &quot;fillRule&quot;: &quot;evenodd&quot;, &quot;lineCap&quot;: &quot;round&quot;, &quot;lineJoin&quot;: &quot;round&quot;, &quot;opacity&quot;: 1.0, &quot;radius&quot;: 15, &quot;stroke&quot;: true, &quot;weight&quot;: 0}\n",
       "            ).addTo(feature_group_04e22a6a55289d76af9d821d99f2f50f);\n",
       "        \n",
       "    \n",
       "            circle_marker_e074eb15d0409d573206dad91510a24b.bindTooltip(\n",
       "                `&lt;div&gt;\n",
       "                     67315 (7)\n",
       "                 &lt;/div&gt;`,\n",
       "                {\n",
       "  &quot;sticky&quot;: true,\n",
       "}\n",
       "            );\n",
       "        \n",
       "    \n",
       "            var poly_line_e76538814765648e7c0be806fe216125 = L.polyline(\n",
       "                [[48.954, 8.125], [48.318, 4.833]],\n",
       "                {&quot;bubblingMouseEvents&quot;: true, &quot;color&quot;: &quot;black&quot;, &quot;dashArray&quot;: null, &quot;dashOffset&quot;: null, &quot;fill&quot;: false, &quot;fillColor&quot;: &quot;black&quot;, &quot;fillOpacity&quot;: 0.2, &quot;fillRule&quot;: &quot;evenodd&quot;, &quot;lineCap&quot;: &quot;round&quot;, &quot;lineJoin&quot;: &quot;round&quot;, &quot;noClip&quot;: false, &quot;opacity&quot;: 1.0, &quot;smoothFactor&quot;: 1.0, &quot;stroke&quot;: true, &quot;weight&quot;: 4}\n",
       "            ).addTo(feature_group_04e22a6a55289d76af9d821d99f2f50f);\n",
       "        \n",
       "    \n",
       "            var circle_marker_801f43ffa15e5e67510477ab9f7255e1 = L.circleMarker(\n",
       "                [48.318, 4.833],\n",
       "                {&quot;bubblingMouseEvents&quot;: true, &quot;color&quot;: &quot;rgb(47, 138, 196)&quot;, &quot;dashArray&quot;: null, &quot;dashOffset&quot;: null, &quot;fill&quot;: true, &quot;fillColor&quot;: &quot;rgb(47, 138, 196)&quot;, &quot;fillOpacity&quot;: 0.6, &quot;fillRule&quot;: &quot;evenodd&quot;, &quot;lineCap&quot;: &quot;round&quot;, &quot;lineJoin&quot;: &quot;round&quot;, &quot;opacity&quot;: 1.0, &quot;radius&quot;: 15, &quot;stroke&quot;: true, &quot;weight&quot;: 0}\n",
       "            ).addTo(feature_group_04e22a6a55289d76af9d821d99f2f50f);\n",
       "        \n",
       "    \n",
       "            circle_marker_801f43ffa15e5e67510477ab9f7255e1.bindTooltip(\n",
       "                `&lt;div&gt;\n",
       "                     52047 (7)\n",
       "                 &lt;/div&gt;`,\n",
       "                {\n",
       "  &quot;sticky&quot;: true,\n",
       "}\n",
       "            );\n",
       "        \n",
       "    \n",
       "            var poly_line_98f3d38ea153eee5f5db0c8f3ecf88ef = L.polyline(\n",
       "                [[48.318, 4.833], [49.761, 4.508]],\n",
       "                {&quot;bubblingMouseEvents&quot;: true, &quot;color&quot;: &quot;black&quot;, &quot;dashArray&quot;: null, &quot;dashOffset&quot;: null, &quot;fill&quot;: false, &quot;fillColor&quot;: &quot;black&quot;, &quot;fillOpacity&quot;: 0.2, &quot;fillRule&quot;: &quot;evenodd&quot;, &quot;lineCap&quot;: &quot;round&quot;, &quot;lineJoin&quot;: &quot;round&quot;, &quot;noClip&quot;: false, &quot;opacity&quot;: 1.0, &quot;smoothFactor&quot;: 1.0, &quot;stroke&quot;: true, &quot;weight&quot;: 4}\n",
       "            ).addTo(feature_group_04e22a6a55289d76af9d821d99f2f50f);\n",
       "        \n",
       "    \n",
       "            var circle_marker_30caf2cf95c5940b8c9ce97a7dc00c7e = L.circleMarker(\n",
       "                [49.761, 4.508],\n",
       "                {&quot;bubblingMouseEvents&quot;: true, &quot;color&quot;: &quot;rgb(36, 121, 108)&quot;, &quot;dashArray&quot;: null, &quot;dashOffset&quot;: null, &quot;fill&quot;: true, &quot;fillColor&quot;: &quot;rgb(36, 121, 108)&quot;, &quot;fillOpacity&quot;: 0.6, &quot;fillRule&quot;: &quot;evenodd&quot;, &quot;lineCap&quot;: &quot;round&quot;, &quot;lineJoin&quot;: &quot;round&quot;, &quot;opacity&quot;: 1.0, &quot;radius&quot;: 15, &quot;stroke&quot;: true, &quot;weight&quot;: 0}\n",
       "            ).addTo(feature_group_04e22a6a55289d76af9d821d99f2f50f);\n",
       "        \n",
       "    \n",
       "            circle_marker_30caf2cf95c5940b8c9ce97a7dc00c7e.bindTooltip(\n",
       "                `&lt;div&gt;\n",
       "                     08315 (5)\n",
       "                 &lt;/div&gt;`,\n",
       "                {\n",
       "  &quot;sticky&quot;: true,\n",
       "}\n",
       "            );\n",
       "        \n",
       "    \n",
       "            var poly_line_2572607ff643ce8817f2e64cb18c7ddb = L.polyline(\n",
       "                [[49.761, 4.508], [49.801, 4.474]],\n",
       "                {&quot;bubblingMouseEvents&quot;: true, &quot;color&quot;: &quot;black&quot;, &quot;dashArray&quot;: null, &quot;dashOffset&quot;: null, &quot;fill&quot;: false, &quot;fillColor&quot;: &quot;black&quot;, &quot;fillOpacity&quot;: 0.2, &quot;fillRule&quot;: &quot;evenodd&quot;, &quot;lineCap&quot;: &quot;round&quot;, &quot;lineJoin&quot;: &quot;round&quot;, &quot;noClip&quot;: false, &quot;opacity&quot;: 1.0, &quot;smoothFactor&quot;: 1.0, &quot;stroke&quot;: true, &quot;weight&quot;: 4}\n",
       "            ).addTo(feature_group_04e22a6a55289d76af9d821d99f2f50f);\n",
       "        \n",
       "    \n",
       "            var circle_marker_6e9b9480df0abddf6316655a7e01beb1 = L.circleMarker(\n",
       "                [49.801, 4.474],\n",
       "                {&quot;bubblingMouseEvents&quot;: true, &quot;color&quot;: &quot;rgb(36, 121, 108)&quot;, &quot;dashArray&quot;: null, &quot;dashOffset&quot;: null, &quot;fill&quot;: true, &quot;fillColor&quot;: &quot;rgb(36, 121, 108)&quot;, &quot;fillOpacity&quot;: 0.6, &quot;fillRule&quot;: &quot;evenodd&quot;, &quot;lineCap&quot;: &quot;round&quot;, &quot;lineJoin&quot;: &quot;round&quot;, &quot;opacity&quot;: 1.0, &quot;radius&quot;: 15, &quot;stroke&quot;: true, &quot;weight&quot;: 0}\n",
       "            ).addTo(feature_group_04e22a6a55289d76af9d821d99f2f50f);\n",
       "        \n",
       "    \n",
       "            circle_marker_6e9b9480df0abddf6316655a7e01beb1.bindTooltip(\n",
       "                `&lt;div&gt;\n",
       "                     08149 (5)\n",
       "                 &lt;/div&gt;`,\n",
       "                {\n",
       "  &quot;sticky&quot;: true,\n",
       "}\n",
       "            );\n",
       "        \n",
       "    \n",
       "            var poly_line_f78b5a790fd6bde5fe8da30cdafe766d = L.polyline(\n",
       "                [[49.801, 4.474], [50.233, 3.45]],\n",
       "                {&quot;bubblingMouseEvents&quot;: true, &quot;color&quot;: &quot;black&quot;, &quot;dashArray&quot;: null, &quot;dashOffset&quot;: null, &quot;fill&quot;: false, &quot;fillColor&quot;: &quot;black&quot;, &quot;fillOpacity&quot;: 0.2, &quot;fillRule&quot;: &quot;evenodd&quot;, &quot;lineCap&quot;: &quot;round&quot;, &quot;lineJoin&quot;: &quot;round&quot;, &quot;noClip&quot;: false, &quot;opacity&quot;: 1.0, &quot;smoothFactor&quot;: 1.0, &quot;stroke&quot;: true, &quot;weight&quot;: 4}\n",
       "            ).addTo(feature_group_04e22a6a55289d76af9d821d99f2f50f);\n",
       "        \n",
       "    \n",
       "            var circle_marker_a392ed8bea0cce92cea36347078e34c3 = L.circleMarker(\n",
       "                [50.233, 3.45],\n",
       "                {&quot;bubblingMouseEvents&quot;: true, &quot;color&quot;: &quot;rgb(36, 121, 108)&quot;, &quot;dashArray&quot;: null, &quot;dashOffset&quot;: null, &quot;fill&quot;: true, &quot;fillColor&quot;: &quot;rgb(36, 121, 108)&quot;, &quot;fillOpacity&quot;: 0.6, &quot;fillRule&quot;: &quot;evenodd&quot;, &quot;lineCap&quot;: &quot;round&quot;, &quot;lineJoin&quot;: &quot;round&quot;, &quot;opacity&quot;: 1.0, &quot;radius&quot;: 15, &quot;stroke&quot;: true, &quot;weight&quot;: 0}\n",
       "            ).addTo(feature_group_04e22a6a55289d76af9d821d99f2f50f);\n",
       "        \n",
       "    \n",
       "            circle_marker_a392ed8bea0cce92cea36347078e34c3.bindTooltip(\n",
       "                `&lt;div&gt;\n",
       "                     59415 (5)\n",
       "                 &lt;/div&gt;`,\n",
       "                {\n",
       "  &quot;sticky&quot;: true,\n",
       "}\n",
       "            );\n",
       "        \n",
       "    \n",
       "            var poly_line_cd941ba68ef477cc75462e826126f031 = L.polyline(\n",
       "                [[50.233, 3.45], [50.41, 3.329]],\n",
       "                {&quot;bubblingMouseEvents&quot;: true, &quot;color&quot;: &quot;black&quot;, &quot;dashArray&quot;: null, &quot;dashOffset&quot;: null, &quot;fill&quot;: false, &quot;fillColor&quot;: &quot;black&quot;, &quot;fillOpacity&quot;: 0.2, &quot;fillRule&quot;: &quot;evenodd&quot;, &quot;lineCap&quot;: &quot;round&quot;, &quot;lineJoin&quot;: &quot;round&quot;, &quot;noClip&quot;: false, &quot;opacity&quot;: 1.0, &quot;smoothFactor&quot;: 1.0, &quot;stroke&quot;: true, &quot;weight&quot;: 4}\n",
       "            ).addTo(feature_group_04e22a6a55289d76af9d821d99f2f50f);\n",
       "        \n",
       "    \n",
       "            var circle_marker_75534b20c3d7032b9abd7b9a9c5fface = L.circleMarker(\n",
       "                [50.41, 3.329],\n",
       "                {&quot;bubblingMouseEvents&quot;: true, &quot;color&quot;: &quot;rgb(36, 121, 108)&quot;, &quot;dashArray&quot;: null, &quot;dashOffset&quot;: null, &quot;fill&quot;: true, &quot;fillColor&quot;: &quot;rgb(36, 121, 108)&quot;, &quot;fillOpacity&quot;: 0.6, &quot;fillRule&quot;: &quot;evenodd&quot;, &quot;lineCap&quot;: &quot;round&quot;, &quot;lineJoin&quot;: &quot;round&quot;, &quot;opacity&quot;: 1.0, &quot;radius&quot;: 15, &quot;stroke&quot;: true, &quot;weight&quot;: 0}\n",
       "            ).addTo(feature_group_04e22a6a55289d76af9d821d99f2f50f);\n",
       "        \n",
       "    \n",
       "            circle_marker_75534b20c3d7032b9abd7b9a9c5fface.bindTooltip(\n",
       "                `&lt;div&gt;\n",
       "                     59642 (5)\n",
       "                 &lt;/div&gt;`,\n",
       "                {\n",
       "  &quot;sticky&quot;: true,\n",
       "}\n",
       "            );\n",
       "        \n",
       "    \n",
       "            var poly_line_3f7d3eefba4032f00ff645a1328771b6 = L.polyline(\n",
       "                [[50.41, 3.329], [50.179, 3.051]],\n",
       "                {&quot;bubblingMouseEvents&quot;: true, &quot;color&quot;: &quot;black&quot;, &quot;dashArray&quot;: null, &quot;dashOffset&quot;: null, &quot;fill&quot;: false, &quot;fillColor&quot;: &quot;black&quot;, &quot;fillOpacity&quot;: 0.2, &quot;fillRule&quot;: &quot;evenodd&quot;, &quot;lineCap&quot;: &quot;round&quot;, &quot;lineJoin&quot;: &quot;round&quot;, &quot;noClip&quot;: false, &quot;opacity&quot;: 1.0, &quot;smoothFactor&quot;: 1.0, &quot;stroke&quot;: true, &quot;weight&quot;: 4}\n",
       "            ).addTo(feature_group_04e22a6a55289d76af9d821d99f2f50f);\n",
       "        \n",
       "    \n",
       "            var circle_marker_2f1000718ca1678990647d8a75f135e4 = L.circleMarker(\n",
       "                [50.179, 3.051],\n",
       "                {&quot;bubblingMouseEvents&quot;: true, &quot;color&quot;: &quot;rgb(36, 121, 108)&quot;, &quot;dashArray&quot;: null, &quot;dashOffset&quot;: null, &quot;fill&quot;: true, &quot;fillColor&quot;: &quot;rgb(36, 121, 108)&quot;, &quot;fillOpacity&quot;: 0.6, &quot;fillRule&quot;: &quot;evenodd&quot;, &quot;lineCap&quot;: &quot;round&quot;, &quot;lineJoin&quot;: &quot;round&quot;, &quot;opacity&quot;: 1.0, &quot;radius&quot;: 15, &quot;stroke&quot;: true, &quot;weight&quot;: 0}\n",
       "            ).addTo(feature_group_04e22a6a55289d76af9d821d99f2f50f);\n",
       "        \n",
       "    \n",
       "            circle_marker_2f1000718ca1678990647d8a75f135e4.bindTooltip(\n",
       "                `&lt;div&gt;\n",
       "                     62469 (5)\n",
       "                 &lt;/div&gt;`,\n",
       "                {\n",
       "  &quot;sticky&quot;: true,\n",
       "}\n",
       "            );\n",
       "        \n",
       "    \n",
       "            var poly_line_1723a0de5eea56911bb049f3b494b9ad = L.polyline(\n",
       "                [[50.179, 3.051], [50.418, 2.6]],\n",
       "                {&quot;bubblingMouseEvents&quot;: true, &quot;color&quot;: &quot;black&quot;, &quot;dashArray&quot;: null, &quot;dashOffset&quot;: null, &quot;fill&quot;: false, &quot;fillColor&quot;: &quot;black&quot;, &quot;fillOpacity&quot;: 0.2, &quot;fillRule&quot;: &quot;evenodd&quot;, &quot;lineCap&quot;: &quot;round&quot;, &quot;lineJoin&quot;: &quot;round&quot;, &quot;noClip&quot;: false, &quot;opacity&quot;: 1.0, &quot;smoothFactor&quot;: 1.0, &quot;stroke&quot;: true, &quot;weight&quot;: 4}\n",
       "            ).addTo(feature_group_04e22a6a55289d76af9d821d99f2f50f);\n",
       "        \n",
       "    \n",
       "            var circle_marker_657897007c6aa592f978a0c55a8df8de = L.circleMarker(\n",
       "                [50.418, 2.6],\n",
       "                {&quot;bubblingMouseEvents&quot;: true, &quot;color&quot;: &quot;rgb(36, 121, 108)&quot;, &quot;dashArray&quot;: null, &quot;dashOffset&quot;: null, &quot;fill&quot;: true, &quot;fillColor&quot;: &quot;rgb(36, 121, 108)&quot;, &quot;fillOpacity&quot;: 0.6, &quot;fillRule&quot;: &quot;evenodd&quot;, &quot;lineCap&quot;: &quot;round&quot;, &quot;lineJoin&quot;: &quot;round&quot;, &quot;opacity&quot;: 1.0, &quot;radius&quot;: 15, &quot;stroke&quot;: true, &quot;weight&quot;: 0}\n",
       "            ).addTo(feature_group_04e22a6a55289d76af9d821d99f2f50f);\n",
       "        \n",
       "    \n",
       "            circle_marker_657897007c6aa592f978a0c55a8df8de.bindTooltip(\n",
       "                `&lt;div&gt;\n",
       "                     62356 (5)\n",
       "                 &lt;/div&gt;`,\n",
       "                {\n",
       "  &quot;sticky&quot;: true,\n",
       "}\n",
       "            );\n",
       "        \n",
       "    \n",
       "            var poly_line_bb7eb742a18f0c56d4f1099b66236635 = L.polyline(\n",
       "                [[50.418, 2.6], [49.992, 2.519]],\n",
       "                {&quot;bubblingMouseEvents&quot;: true, &quot;color&quot;: &quot;black&quot;, &quot;dashArray&quot;: null, &quot;dashOffset&quot;: null, &quot;fill&quot;: false, &quot;fillColor&quot;: &quot;black&quot;, &quot;fillOpacity&quot;: 0.2, &quot;fillRule&quot;: &quot;evenodd&quot;, &quot;lineCap&quot;: &quot;round&quot;, &quot;lineJoin&quot;: &quot;round&quot;, &quot;noClip&quot;: false, &quot;opacity&quot;: 1.0, &quot;smoothFactor&quot;: 1.0, &quot;stroke&quot;: true, &quot;weight&quot;: 4}\n",
       "            ).addTo(feature_group_04e22a6a55289d76af9d821d99f2f50f);\n",
       "        \n",
       "    \n",
       "            var circle_marker_b2f11645d07d484c6e2c08f9d738467e = L.circleMarker(\n",
       "                [49.992, 2.519],\n",
       "                {&quot;bubblingMouseEvents&quot;: true, &quot;color&quot;: &quot;rgb(36, 121, 108)&quot;, &quot;dashArray&quot;: null, &quot;dashOffset&quot;: null, &quot;fill&quot;: true, &quot;fillColor&quot;: &quot;rgb(36, 121, 108)&quot;, &quot;fillOpacity&quot;: 0.6, &quot;fillRule&quot;: &quot;evenodd&quot;, &quot;lineCap&quot;: &quot;round&quot;, &quot;lineJoin&quot;: &quot;round&quot;, &quot;opacity&quot;: 1.0, &quot;radius&quot;: 15, &quot;stroke&quot;: true, &quot;weight&quot;: 0}\n",
       "            ).addTo(feature_group_04e22a6a55289d76af9d821d99f2f50f);\n",
       "        \n",
       "    \n",
       "            circle_marker_b2f11645d07d484c6e2c08f9d738467e.bindTooltip(\n",
       "                `&lt;div&gt;\n",
       "                     80052 (5)\n",
       "                 &lt;/div&gt;`,\n",
       "                {\n",
       "  &quot;sticky&quot;: true,\n",
       "}\n",
       "            );\n",
       "        \n",
       "    \n",
       "            var poly_line_b283d1f0d9f29834b8721e187e0aa71d = L.polyline(\n",
       "                [[49.992, 2.519], [49.776, 2.174]],\n",
       "                {&quot;bubblingMouseEvents&quot;: true, &quot;color&quot;: &quot;black&quot;, &quot;dashArray&quot;: null, &quot;dashOffset&quot;: null, &quot;fill&quot;: false, &quot;fillColor&quot;: &quot;black&quot;, &quot;fillOpacity&quot;: 0.2, &quot;fillRule&quot;: &quot;evenodd&quot;, &quot;lineCap&quot;: &quot;round&quot;, &quot;lineJoin&quot;: &quot;round&quot;, &quot;noClip&quot;: false, &quot;opacity&quot;: 1.0, &quot;smoothFactor&quot;: 1.0, &quot;stroke&quot;: true, &quot;weight&quot;: 4}\n",
       "            ).addTo(feature_group_04e22a6a55289d76af9d821d99f2f50f);\n",
       "        \n",
       "    \n",
       "            var circle_marker_23e527c2ce3316938b986c149a7fb140 = L.circleMarker(\n",
       "                [49.776, 2.174],\n",
       "                {&quot;bubblingMouseEvents&quot;: true, &quot;color&quot;: &quot;rgb(36, 121, 108)&quot;, &quot;dashArray&quot;: null, &quot;dashOffset&quot;: null, &quot;fill&quot;: true, &quot;fillColor&quot;: &quot;rgb(36, 121, 108)&quot;, &quot;fillOpacity&quot;: 0.6, &quot;fillRule&quot;: &quot;evenodd&quot;, &quot;lineCap&quot;: &quot;round&quot;, &quot;lineJoin&quot;: &quot;round&quot;, &quot;opacity&quot;: 1.0, &quot;radius&quot;: 15, &quot;stroke&quot;: true, &quot;weight&quot;: 0}\n",
       "            ).addTo(feature_group_04e22a6a55289d76af9d821d99f2f50f);\n",
       "        \n",
       "    \n",
       "            circle_marker_23e527c2ce3316938b986c149a7fb140.bindTooltip(\n",
       "                `&lt;div&gt;\n",
       "                     80485 (5)\n",
       "                 &lt;/div&gt;`,\n",
       "                {\n",
       "  &quot;sticky&quot;: true,\n",
       "}\n",
       "            );\n",
       "        \n",
       "    \n",
       "            var poly_line_95606e7c0e69fcea16998c1136dd4a93 = L.polyline(\n",
       "                [[49.776, 2.174], [50.302, 2.497]],\n",
       "                {&quot;bubblingMouseEvents&quot;: true, &quot;color&quot;: &quot;black&quot;, &quot;dashArray&quot;: null, &quot;dashOffset&quot;: null, &quot;fill&quot;: false, &quot;fillColor&quot;: &quot;black&quot;, &quot;fillOpacity&quot;: 0.2, &quot;fillRule&quot;: &quot;evenodd&quot;, &quot;lineCap&quot;: &quot;round&quot;, &quot;lineJoin&quot;: &quot;round&quot;, &quot;noClip&quot;: false, &quot;opacity&quot;: 1.0, &quot;smoothFactor&quot;: 1.0, &quot;stroke&quot;: true, &quot;weight&quot;: 4}\n",
       "            ).addTo(feature_group_04e22a6a55289d76af9d821d99f2f50f);\n",
       "        \n",
       "    \n",
       "            var circle_marker_cc410f02ef71c518626276e918ce074b = L.circleMarker(\n",
       "                [50.302, 2.497],\n",
       "                {&quot;bubblingMouseEvents&quot;: true, &quot;color&quot;: &quot;rgb(36, 121, 108)&quot;, &quot;dashArray&quot;: null, &quot;dashOffset&quot;: null, &quot;fill&quot;: true, &quot;fillColor&quot;: &quot;rgb(36, 121, 108)&quot;, &quot;fillOpacity&quot;: 0.6, &quot;fillRule&quot;: &quot;evenodd&quot;, &quot;lineCap&quot;: &quot;round&quot;, &quot;lineJoin&quot;: &quot;round&quot;, &quot;opacity&quot;: 1.0, &quot;radius&quot;: 15, &quot;stroke&quot;: true, &quot;weight&quot;: 0}\n",
       "            ).addTo(feature_group_04e22a6a55289d76af9d821d99f2f50f);\n",
       "        \n",
       "    \n",
       "            circle_marker_cc410f02ef71c518626276e918ce074b.bindTooltip(\n",
       "                `&lt;div&gt;\n",
       "                     62372 (5)\n",
       "                 &lt;/div&gt;`,\n",
       "                {\n",
       "  &quot;sticky&quot;: true,\n",
       "}\n",
       "            );\n",
       "        \n",
       "    \n",
       "            var poly_line_68e2513d1d085ec60a26fe831fcd26bc = L.polyline(\n",
       "                [[50.302, 2.497], [50.151, 2.798]],\n",
       "                {&quot;bubblingMouseEvents&quot;: true, &quot;color&quot;: &quot;black&quot;, &quot;dashArray&quot;: null, &quot;dashOffset&quot;: null, &quot;fill&quot;: false, &quot;fillColor&quot;: &quot;black&quot;, &quot;fillOpacity&quot;: 0.2, &quot;fillRule&quot;: &quot;evenodd&quot;, &quot;lineCap&quot;: &quot;round&quot;, &quot;lineJoin&quot;: &quot;round&quot;, &quot;noClip&quot;: false, &quot;opacity&quot;: 1.0, &quot;smoothFactor&quot;: 1.0, &quot;stroke&quot;: true, &quot;weight&quot;: 4}\n",
       "            ).addTo(feature_group_04e22a6a55289d76af9d821d99f2f50f);\n",
       "        \n",
       "    \n",
       "            var circle_marker_a895f08d5311404b76f74c45cba866b4 = L.circleMarker(\n",
       "                [50.151, 2.798],\n",
       "                {&quot;bubblingMouseEvents&quot;: true, &quot;color&quot;: &quot;rgb(36, 121, 108)&quot;, &quot;dashArray&quot;: null, &quot;dashOffset&quot;: null, &quot;fill&quot;: true, &quot;fillColor&quot;: &quot;rgb(36, 121, 108)&quot;, &quot;fillOpacity&quot;: 0.6, &quot;fillRule&quot;: &quot;evenodd&quot;, &quot;lineCap&quot;: &quot;round&quot;, &quot;lineJoin&quot;: &quot;round&quot;, &quot;opacity&quot;: 1.0, &quot;radius&quot;: 15, &quot;stroke&quot;: true, &quot;weight&quot;: 0}\n",
       "            ).addTo(feature_group_04e22a6a55289d76af9d821d99f2f50f);\n",
       "        \n",
       "    \n",
       "            circle_marker_a895f08d5311404b76f74c45cba866b4.bindTooltip(\n",
       "                `&lt;div&gt;\n",
       "                     62374 (5)\n",
       "                 &lt;/div&gt;`,\n",
       "                {\n",
       "  &quot;sticky&quot;: true,\n",
       "}\n",
       "            );\n",
       "        \n",
       "    \n",
       "            var poly_line_2aecb64b2af0e1677c27d068f2d4551d = L.polyline(\n",
       "                [[50.151, 2.798], [50.054, 2.69]],\n",
       "                {&quot;bubblingMouseEvents&quot;: true, &quot;color&quot;: &quot;black&quot;, &quot;dashArray&quot;: null, &quot;dashOffset&quot;: null, &quot;fill&quot;: false, &quot;fillColor&quot;: &quot;black&quot;, &quot;fillOpacity&quot;: 0.2, &quot;fillRule&quot;: &quot;evenodd&quot;, &quot;lineCap&quot;: &quot;round&quot;, &quot;lineJoin&quot;: &quot;round&quot;, &quot;noClip&quot;: false, &quot;opacity&quot;: 1.0, &quot;smoothFactor&quot;: 1.0, &quot;stroke&quot;: true, &quot;weight&quot;: 4}\n",
       "            ).addTo(feature_group_04e22a6a55289d76af9d821d99f2f50f);\n",
       "        \n",
       "    \n",
       "            var circle_marker_f33654be5fd14da3f76e9d165e8f9c12 = L.circleMarker(\n",
       "                [50.054, 2.69],\n",
       "                {&quot;bubblingMouseEvents&quot;: true, &quot;color&quot;: &quot;rgb(36, 121, 108)&quot;, &quot;dashArray&quot;: null, &quot;dashOffset&quot;: null, &quot;fill&quot;: true, &quot;fillColor&quot;: &quot;rgb(36, 121, 108)&quot;, &quot;fillOpacity&quot;: 0.6, &quot;fillRule&quot;: &quot;evenodd&quot;, &quot;lineCap&quot;: &quot;round&quot;, &quot;lineJoin&quot;: &quot;round&quot;, &quot;opacity&quot;: 1.0, &quot;radius&quot;: 15, &quot;stroke&quot;: true, &quot;weight&quot;: 0}\n",
       "            ).addTo(feature_group_04e22a6a55289d76af9d821d99f2f50f);\n",
       "        \n",
       "    \n",
       "            circle_marker_f33654be5fd14da3f76e9d165e8f9c12.bindTooltip(\n",
       "                `&lt;div&gt;\n",
       "                     80753 (5)\n",
       "                 &lt;/div&gt;`,\n",
       "                {\n",
       "  &quot;sticky&quot;: true,\n",
       "}\n",
       "            );\n",
       "        \n",
       "    \n",
       "            var poly_line_227c8d57942cea9e1322b0c9fb6694c1 = L.polyline(\n",
       "                [[50.054, 2.69], [49.676, 3.151]],\n",
       "                {&quot;bubblingMouseEvents&quot;: true, &quot;color&quot;: &quot;black&quot;, &quot;dashArray&quot;: null, &quot;dashOffset&quot;: null, &quot;fill&quot;: false, &quot;fillColor&quot;: &quot;black&quot;, &quot;fillOpacity&quot;: 0.2, &quot;fillRule&quot;: &quot;evenodd&quot;, &quot;lineCap&quot;: &quot;round&quot;, &quot;lineJoin&quot;: &quot;round&quot;, &quot;noClip&quot;: false, &quot;opacity&quot;: 1.0, &quot;smoothFactor&quot;: 1.0, &quot;stroke&quot;: true, &quot;weight&quot;: 4}\n",
       "            ).addTo(feature_group_04e22a6a55289d76af9d821d99f2f50f);\n",
       "        \n",
       "    \n",
       "            var circle_marker_5783e92dfd63b57e75f2e8a180e89dff = L.circleMarker(\n",
       "                [49.676, 3.151],\n",
       "                {&quot;bubblingMouseEvents&quot;: true, &quot;color&quot;: &quot;rgb(36, 121, 108)&quot;, &quot;dashArray&quot;: null, &quot;dashOffset&quot;: null, &quot;fill&quot;: true, &quot;fillColor&quot;: &quot;rgb(36, 121, 108)&quot;, &quot;fillOpacity&quot;: 0.6, &quot;fillRule&quot;: &quot;evenodd&quot;, &quot;lineCap&quot;: &quot;round&quot;, &quot;lineJoin&quot;: &quot;round&quot;, &quot;opacity&quot;: 1.0, &quot;radius&quot;: 15, &quot;stroke&quot;: true, &quot;weight&quot;: 0}\n",
       "            ).addTo(feature_group_04e22a6a55289d76af9d821d99f2f50f);\n",
       "        \n",
       "    \n",
       "            circle_marker_5783e92dfd63b57e75f2e8a180e89dff.bindTooltip(\n",
       "                `&lt;div&gt;\n",
       "                     02546 (5)\n",
       "                 &lt;/div&gt;`,\n",
       "                {\n",
       "  &quot;sticky&quot;: true,\n",
       "}\n",
       "            );\n",
       "        \n",
       "    \n",
       "            var poly_line_aadb297b898d0f1820ac9cb80adda16b = L.polyline(\n",
       "                [[49.676, 3.151], [49.822, 2.958]],\n",
       "                {&quot;bubblingMouseEvents&quot;: true, &quot;color&quot;: &quot;black&quot;, &quot;dashArray&quot;: null, &quot;dashOffset&quot;: null, &quot;fill&quot;: false, &quot;fillColor&quot;: &quot;black&quot;, &quot;fillOpacity&quot;: 0.2, &quot;fillRule&quot;: &quot;evenodd&quot;, &quot;lineCap&quot;: &quot;round&quot;, &quot;lineJoin&quot;: &quot;round&quot;, &quot;noClip&quot;: false, &quot;opacity&quot;: 1.0, &quot;smoothFactor&quot;: 1.0, &quot;stroke&quot;: true, &quot;weight&quot;: 4}\n",
       "            ).addTo(feature_group_04e22a6a55289d76af9d821d99f2f50f);\n",
       "        \n",
       "    \n",
       "            var circle_marker_58a49979558dd25826b8c93e0dc81eda = L.circleMarker(\n",
       "                [49.822, 2.958],\n",
       "                {&quot;bubblingMouseEvents&quot;: true, &quot;color&quot;: &quot;rgb(36, 121, 108)&quot;, &quot;dashArray&quot;: null, &quot;dashOffset&quot;: null, &quot;fill&quot;: true, &quot;fillColor&quot;: &quot;rgb(36, 121, 108)&quot;, &quot;fillOpacity&quot;: 0.6, &quot;fillRule&quot;: &quot;evenodd&quot;, &quot;lineCap&quot;: &quot;round&quot;, &quot;lineJoin&quot;: &quot;round&quot;, &quot;opacity&quot;: 1.0, &quot;radius&quot;: 15, &quot;stroke&quot;: true, &quot;weight&quot;: 0}\n",
       "            ).addTo(feature_group_04e22a6a55289d76af9d821d99f2f50f);\n",
       "        \n",
       "    \n",
       "            circle_marker_58a49979558dd25826b8c93e0dc81eda.bindTooltip(\n",
       "                `&lt;div&gt;\n",
       "                     80300 (5)\n",
       "                 &lt;/div&gt;`,\n",
       "                {\n",
       "  &quot;sticky&quot;: true,\n",
       "}\n",
       "            );\n",
       "        \n",
       "    \n",
       "            var poly_line_3838df69d103875f850eee07f669fa0b = L.polyline(\n",
       "                [[49.822, 2.958], [49.662, 2.62]],\n",
       "                {&quot;bubblingMouseEvents&quot;: true, &quot;color&quot;: &quot;black&quot;, &quot;dashArray&quot;: null, &quot;dashOffset&quot;: null, &quot;fill&quot;: false, &quot;fillColor&quot;: &quot;black&quot;, &quot;fillOpacity&quot;: 0.2, &quot;fillRule&quot;: &quot;evenodd&quot;, &quot;lineCap&quot;: &quot;round&quot;, &quot;lineJoin&quot;: &quot;round&quot;, &quot;noClip&quot;: false, &quot;opacity&quot;: 1.0, &quot;smoothFactor&quot;: 1.0, &quot;stroke&quot;: true, &quot;weight&quot;: 4}\n",
       "            ).addTo(feature_group_04e22a6a55289d76af9d821d99f2f50f);\n",
       "        \n",
       "    \n",
       "            var circle_marker_6855706263c2776e9f1b6e3ebe83199a = L.circleMarker(\n",
       "                [49.662, 2.62],\n",
       "                {&quot;bubblingMouseEvents&quot;: true, &quot;color&quot;: &quot;rgb(36, 121, 108)&quot;, &quot;dashArray&quot;: null, &quot;dashOffset&quot;: null, &quot;fill&quot;: true, &quot;fillColor&quot;: &quot;rgb(36, 121, 108)&quot;, &quot;fillOpacity&quot;: 0.6, &quot;fillRule&quot;: &quot;evenodd&quot;, &quot;lineCap&quot;: &quot;round&quot;, &quot;lineJoin&quot;: &quot;round&quot;, &quot;opacity&quot;: 1.0, &quot;radius&quot;: 15, &quot;stroke&quot;: true, &quot;weight&quot;: 0}\n",
       "            ).addTo(feature_group_04e22a6a55289d76af9d821d99f2f50f);\n",
       "        \n",
       "    \n",
       "            circle_marker_6855706263c2776e9f1b6e3ebe83199a.bindTooltip(\n",
       "                `&lt;div&gt;\n",
       "                     80293 (5)\n",
       "                 &lt;/div&gt;`,\n",
       "                {\n",
       "  &quot;sticky&quot;: true,\n",
       "}\n",
       "            );\n",
       "        \n",
       "    \n",
       "            var poly_line_5ae921f93dd8915bf91ca489d9105b34 = L.polyline(\n",
       "                [[49.662, 2.62], [49.099, 2.542]],\n",
       "                {&quot;bubblingMouseEvents&quot;: true, &quot;color&quot;: &quot;black&quot;, &quot;dashArray&quot;: null, &quot;dashOffset&quot;: null, &quot;fill&quot;: false, &quot;fillColor&quot;: &quot;black&quot;, &quot;fillOpacity&quot;: 0.2, &quot;fillRule&quot;: &quot;evenodd&quot;, &quot;lineCap&quot;: &quot;round&quot;, &quot;lineJoin&quot;: &quot;round&quot;, &quot;noClip&quot;: false, &quot;opacity&quot;: 1.0, &quot;smoothFactor&quot;: 1.0, &quot;stroke&quot;: true, &quot;weight&quot;: 4}\n",
       "            ).addTo(feature_group_04e22a6a55289d76af9d821d99f2f50f);\n",
       "        \n",
       "    \n",
       "            var circle_marker_9e25ef6ee1c5acff1543481d88adb8a6 = L.circleMarker(\n",
       "                [49.099, 2.542],\n",
       "                {&quot;bubblingMouseEvents&quot;: true, &quot;color&quot;: &quot;rgb(93, 105, 177)&quot;, &quot;dashArray&quot;: null, &quot;dashOffset&quot;: null, &quot;fill&quot;: true, &quot;fillColor&quot;: &quot;rgb(93, 105, 177)&quot;, &quot;fillOpacity&quot;: 0.6, &quot;fillRule&quot;: &quot;evenodd&quot;, &quot;lineCap&quot;: &quot;round&quot;, &quot;lineJoin&quot;: &quot;round&quot;, &quot;opacity&quot;: 1.0, &quot;radius&quot;: 15, &quot;stroke&quot;: true, &quot;weight&quot;: 0}\n",
       "            ).addTo(feature_group_04e22a6a55289d76af9d821d99f2f50f);\n",
       "        \n",
       "    \n",
       "            circle_marker_9e25ef6ee1c5acff1543481d88adb8a6.bindTooltip(\n",
       "                `&lt;div&gt;\n",
       "                     95604 (1)\n",
       "                 &lt;/div&gt;`,\n",
       "                {\n",
       "  &quot;sticky&quot;: true,\n",
       "}\n",
       "            );\n",
       "        \n",
       "    \n",
       "            var poly_line_c516d224dae134b64d3f6a5e12d30a4b = L.polyline(\n",
       "                [[49.099, 2.542], [49.134, 2.271]],\n",
       "                {&quot;bubblingMouseEvents&quot;: true, &quot;color&quot;: &quot;black&quot;, &quot;dashArray&quot;: null, &quot;dashOffset&quot;: null, &quot;fill&quot;: false, &quot;fillColor&quot;: &quot;black&quot;, &quot;fillOpacity&quot;: 0.2, &quot;fillRule&quot;: &quot;evenodd&quot;, &quot;lineCap&quot;: &quot;round&quot;, &quot;lineJoin&quot;: &quot;round&quot;, &quot;noClip&quot;: false, &quot;opacity&quot;: 1.0, &quot;smoothFactor&quot;: 1.0, &quot;stroke&quot;: true, &quot;weight&quot;: 4}\n",
       "            ).addTo(feature_group_04e22a6a55289d76af9d821d99f2f50f);\n",
       "        \n",
       "    \n",
       "            var circle_marker_64410b45fe4917ca743314a47cdd4503 = L.circleMarker(\n",
       "                [49.134, 2.271],\n",
       "                {&quot;bubblingMouseEvents&quot;: true, &quot;color&quot;: &quot;rgb(93, 105, 177)&quot;, &quot;dashArray&quot;: null, &quot;dashOffset&quot;: null, &quot;fill&quot;: true, &quot;fillColor&quot;: &quot;rgb(93, 105, 177)&quot;, &quot;fillOpacity&quot;: 0.6, &quot;fillRule&quot;: &quot;evenodd&quot;, &quot;lineCap&quot;: &quot;round&quot;, &quot;lineJoin&quot;: &quot;round&quot;, &quot;opacity&quot;: 1.0, &quot;radius&quot;: 15, &quot;stroke&quot;: true, &quot;weight&quot;: 0}\n",
       "            ).addTo(feature_group_04e22a6a55289d76af9d821d99f2f50f);\n",
       "        \n",
       "    \n",
       "            circle_marker_64410b45fe4917ca743314a47cdd4503.bindTooltip(\n",
       "                `&lt;div&gt;\n",
       "                     95436 (1)\n",
       "                 &lt;/div&gt;`,\n",
       "                {\n",
       "  &quot;sticky&quot;: true,\n",
       "}\n",
       "            );\n",
       "        \n",
       "    \n",
       "            var poly_line_e625b5f477b98d20cbbdeb2ea9e17143 = L.polyline(\n",
       "                [[49.134, 2.271], [48.89, 2.158]],\n",
       "                {&quot;bubblingMouseEvents&quot;: true, &quot;color&quot;: &quot;black&quot;, &quot;dashArray&quot;: null, &quot;dashOffset&quot;: null, &quot;fill&quot;: false, &quot;fillColor&quot;: &quot;black&quot;, &quot;fillOpacity&quot;: 0.2, &quot;fillRule&quot;: &quot;evenodd&quot;, &quot;lineCap&quot;: &quot;round&quot;, &quot;lineJoin&quot;: &quot;round&quot;, &quot;noClip&quot;: false, &quot;opacity&quot;: 1.0, &quot;smoothFactor&quot;: 1.0, &quot;stroke&quot;: true, &quot;weight&quot;: 4}\n",
       "            ).addTo(feature_group_04e22a6a55289d76af9d821d99f2f50f);\n",
       "        \n",
       "    \n",
       "            var circle_marker_407156fc35112e9d6671877db6901ab9 = L.circleMarker(\n",
       "                [48.89, 2.158],\n",
       "                {&quot;bubblingMouseEvents&quot;: true, &quot;color&quot;: &quot;rgb(93, 105, 177)&quot;, &quot;dashArray&quot;: null, &quot;dashOffset&quot;: null, &quot;fill&quot;: true, &quot;fillColor&quot;: &quot;rgb(93, 105, 177)&quot;, &quot;fillOpacity&quot;: 0.6, &quot;fillRule&quot;: &quot;evenodd&quot;, &quot;lineCap&quot;: &quot;round&quot;, &quot;lineJoin&quot;: &quot;round&quot;, &quot;opacity&quot;: 1.0, &quot;radius&quot;: 15, &quot;stroke&quot;: true, &quot;weight&quot;: 0}\n",
       "            ).addTo(feature_group_04e22a6a55289d76af9d821d99f2f50f);\n",
       "        \n",
       "    \n",
       "            circle_marker_407156fc35112e9d6671877db6901ab9.bindTooltip(\n",
       "                `&lt;div&gt;\n",
       "                     78146 (1)\n",
       "                 &lt;/div&gt;`,\n",
       "                {\n",
       "  &quot;sticky&quot;: true,\n",
       "}\n",
       "            );\n",
       "        \n",
       "    \n",
       "            var poly_line_d64bc0ec800f74c687cd0e557d929aea = L.polyline(\n",
       "                [[48.89, 2.158], [48.726, 2.57]],\n",
       "                {&quot;bubblingMouseEvents&quot;: true, &quot;color&quot;: &quot;black&quot;, &quot;dashArray&quot;: null, &quot;dashOffset&quot;: null, &quot;fill&quot;: false, &quot;fillColor&quot;: &quot;black&quot;, &quot;fillOpacity&quot;: 0.2, &quot;fillRule&quot;: &quot;evenodd&quot;, &quot;lineCap&quot;: &quot;round&quot;, &quot;lineJoin&quot;: &quot;round&quot;, &quot;noClip&quot;: false, &quot;opacity&quot;: 1.0, &quot;smoothFactor&quot;: 1.0, &quot;stroke&quot;: true, &quot;weight&quot;: 4}\n",
       "            ).addTo(feature_group_04e22a6a55289d76af9d821d99f2f50f);\n",
       "        \n",
       "    \n",
       "            var circle_marker_ff4ff4054f23ec4dc7aea673ef2ea07f = L.circleMarker(\n",
       "                [48.726, 2.57],\n",
       "                {&quot;bubblingMouseEvents&quot;: true, &quot;color&quot;: &quot;rgb(93, 105, 177)&quot;, &quot;dashArray&quot;: null, &quot;dashOffset&quot;: null, &quot;fill&quot;: true, &quot;fillColor&quot;: &quot;rgb(93, 105, 177)&quot;, &quot;fillOpacity&quot;: 0.6, &quot;fillRule&quot;: &quot;evenodd&quot;, &quot;lineCap&quot;: &quot;round&quot;, &quot;lineJoin&quot;: &quot;round&quot;, &quot;opacity&quot;: 1.0, &quot;radius&quot;: 15, &quot;stroke&quot;: true, &quot;weight&quot;: 0}\n",
       "            ).addTo(feature_group_04e22a6a55289d76af9d821d99f2f50f);\n",
       "        \n",
       "    \n",
       "            circle_marker_ff4ff4054f23ec4dc7aea673ef2ea07f.bindTooltip(\n",
       "                `&lt;div&gt;\n",
       "                     94070 (1)\n",
       "                 &lt;/div&gt;`,\n",
       "                {\n",
       "  &quot;sticky&quot;: true,\n",
       "}\n",
       "            );\n",
       "        \n",
       "    \n",
       "            var poly_line_80b0be4d3320259b42da59d14585d0d3 = L.polyline(\n",
       "                [[48.726, 2.57], [47.94, 2.266]],\n",
       "                {&quot;bubblingMouseEvents&quot;: true, &quot;color&quot;: &quot;black&quot;, &quot;dashArray&quot;: null, &quot;dashOffset&quot;: null, &quot;fill&quot;: false, &quot;fillColor&quot;: &quot;black&quot;, &quot;fillOpacity&quot;: 0.2, &quot;fillRule&quot;: &quot;evenodd&quot;, &quot;lineCap&quot;: &quot;round&quot;, &quot;lineJoin&quot;: &quot;round&quot;, &quot;noClip&quot;: false, &quot;opacity&quot;: 1.0, &quot;smoothFactor&quot;: 1.0, &quot;stroke&quot;: true, &quot;weight&quot;: 4}\n",
       "            ).addTo(feature_group_04e22a6a55289d76af9d821d99f2f50f);\n",
       "        \n",
       "    \n",
       "            var circle_marker_114c794c7f9d12230c583a111a42d5ca = L.circleMarker(\n",
       "                [47.94, 2.266],\n",
       "                {&quot;bubblingMouseEvents&quot;: true, &quot;color&quot;: &quot;rgb(93, 105, 177)&quot;, &quot;dashArray&quot;: null, &quot;dashOffset&quot;: null, &quot;fill&quot;: true, &quot;fillColor&quot;: &quot;rgb(93, 105, 177)&quot;, &quot;fillOpacity&quot;: 0.6, &quot;fillRule&quot;: &quot;evenodd&quot;, &quot;lineCap&quot;: &quot;round&quot;, &quot;lineJoin&quot;: &quot;round&quot;, &quot;opacity&quot;: 1.0, &quot;radius&quot;: 15, &quot;stroke&quot;: true, &quot;weight&quot;: 0}\n",
       "            ).addTo(feature_group_04e22a6a55289d76af9d821d99f2f50f);\n",
       "        \n",
       "    \n",
       "            circle_marker_114c794c7f9d12230c583a111a42d5ca.bindTooltip(\n",
       "                `&lt;div&gt;\n",
       "                     45346 (1)\n",
       "                 &lt;/div&gt;`,\n",
       "                {\n",
       "  &quot;sticky&quot;: true,\n",
       "}\n",
       "            );\n",
       "        \n",
       "    \n",
       "            var poly_line_6b22a9b533c192207e7240a34562d902 = L.polyline(\n",
       "                [[47.94, 2.266], [48.702, 2.544]],\n",
       "                {&quot;bubblingMouseEvents&quot;: true, &quot;color&quot;: &quot;black&quot;, &quot;dashArray&quot;: null, &quot;dashOffset&quot;: null, &quot;fill&quot;: false, &quot;fillColor&quot;: &quot;black&quot;, &quot;fillOpacity&quot;: 0.2, &quot;fillRule&quot;: &quot;evenodd&quot;, &quot;lineCap&quot;: &quot;round&quot;, &quot;lineJoin&quot;: &quot;round&quot;, &quot;noClip&quot;: false, &quot;opacity&quot;: 1.0, &quot;smoothFactor&quot;: 1.0, &quot;stroke&quot;: true, &quot;weight&quot;: 4}\n",
       "            ).addTo(feature_group_04e22a6a55289d76af9d821d99f2f50f);\n",
       "        \n",
       "    \n",
       "            var circle_marker_48e6ef061f3f72df2f206751c117dbd5 = L.circleMarker(\n",
       "                [48.702, 2.544],\n",
       "                {&quot;bubblingMouseEvents&quot;: true, &quot;color&quot;: &quot;rgb(93, 105, 177)&quot;, &quot;dashArray&quot;: null, &quot;dashOffset&quot;: null, &quot;fill&quot;: true, &quot;fillColor&quot;: &quot;rgb(93, 105, 177)&quot;, &quot;fillOpacity&quot;: 0.6, &quot;fillRule&quot;: &quot;evenodd&quot;, &quot;lineCap&quot;: &quot;round&quot;, &quot;lineJoin&quot;: &quot;round&quot;, &quot;opacity&quot;: 1.0, &quot;radius&quot;: 15, &quot;stroke&quot;: true, &quot;weight&quot;: 0}\n",
       "            ).addTo(feature_group_04e22a6a55289d76af9d821d99f2f50f);\n",
       "        \n",
       "    \n",
       "            circle_marker_48e6ef061f3f72df2f206751c117dbd5.bindTooltip(\n",
       "                `&lt;div&gt;\n",
       "                     94047 (1)\n",
       "                 &lt;/div&gt;`,\n",
       "                {\n",
       "  &quot;sticky&quot;: true,\n",
       "}\n",
       "            );\n",
       "        \n",
       "    \n",
       "            var poly_line_12e99d956da84e04b59430afe092ef65 = L.polyline(\n",
       "                [[48.702, 2.544], [49.407, 1.052]],\n",
       "                {&quot;bubblingMouseEvents&quot;: true, &quot;color&quot;: &quot;black&quot;, &quot;dashArray&quot;: null, &quot;dashOffset&quot;: null, &quot;fill&quot;: false, &quot;fillColor&quot;: &quot;black&quot;, &quot;fillOpacity&quot;: 0.2, &quot;fillRule&quot;: &quot;evenodd&quot;, &quot;lineCap&quot;: &quot;round&quot;, &quot;lineJoin&quot;: &quot;round&quot;, &quot;noClip&quot;: false, &quot;opacity&quot;: 1.0, &quot;smoothFactor&quot;: 1.0, &quot;stroke&quot;: true, &quot;weight&quot;: 4}\n",
       "            ).addTo(feature_group_04e22a6a55289d76af9d821d99f2f50f);\n",
       "        \n",
       "    \n",
       "            var circle_marker_5eae3f55d95f25e3d787d7b68e19421e = L.circleMarker(\n",
       "                [49.407, 1.052],\n",
       "                {&quot;bubblingMouseEvents&quot;: true, &quot;color&quot;: &quot;rgb(93, 105, 177)&quot;, &quot;dashArray&quot;: null, &quot;dashOffset&quot;: null, &quot;fill&quot;: true, &quot;fillColor&quot;: &quot;rgb(93, 105, 177)&quot;, &quot;fillOpacity&quot;: 0.6, &quot;fillRule&quot;: &quot;evenodd&quot;, &quot;lineCap&quot;: &quot;round&quot;, &quot;lineJoin&quot;: &quot;round&quot;, &quot;opacity&quot;: 1.0, &quot;radius&quot;: 15, &quot;stroke&quot;: true, &quot;weight&quot;: 0}\n",
       "            ).addTo(feature_group_04e22a6a55289d76af9d821d99f2f50f);\n",
       "        \n",
       "    \n",
       "            circle_marker_5eae3f55d95f25e3d787d7b68e19421e.bindTooltip(\n",
       "                `&lt;div&gt;\n",
       "                     76322 (1)\n",
       "                 &lt;/div&gt;`,\n",
       "                {\n",
       "  &quot;sticky&quot;: true,\n",
       "}\n",
       "            );\n",
       "        \n",
       "    \n",
       "            var poly_line_6cefc617dc2601457c8eb59c07fa90fb = L.polyline(\n",
       "                [[49.407, 1.052], [49.714, 0.401]],\n",
       "                {&quot;bubblingMouseEvents&quot;: true, &quot;color&quot;: &quot;black&quot;, &quot;dashArray&quot;: null, &quot;dashOffset&quot;: null, &quot;fill&quot;: false, &quot;fillColor&quot;: &quot;black&quot;, &quot;fillOpacity&quot;: 0.2, &quot;fillRule&quot;: &quot;evenodd&quot;, &quot;lineCap&quot;: &quot;round&quot;, &quot;lineJoin&quot;: &quot;round&quot;, &quot;noClip&quot;: false, &quot;opacity&quot;: 1.0, &quot;smoothFactor&quot;: 1.0, &quot;stroke&quot;: true, &quot;weight&quot;: 4}\n",
       "            ).addTo(feature_group_04e22a6a55289d76af9d821d99f2f50f);\n",
       "        \n",
       "    \n",
       "            var circle_marker_0272683923f3165f8ed19fb68a3b6700 = L.circleMarker(\n",
       "                [49.714, 0.401],\n",
       "                {&quot;bubblingMouseEvents&quot;: true, &quot;color&quot;: &quot;rgb(93, 105, 177)&quot;, &quot;dashArray&quot;: null, &quot;dashOffset&quot;: null, &quot;fill&quot;: true, &quot;fillColor&quot;: &quot;rgb(93, 105, 177)&quot;, &quot;fillOpacity&quot;: 0.6, &quot;fillRule&quot;: &quot;evenodd&quot;, &quot;lineCap&quot;: &quot;round&quot;, &quot;lineJoin&quot;: &quot;round&quot;, &quot;opacity&quot;: 1.0, &quot;radius&quot;: 15, &quot;stroke&quot;: true, &quot;weight&quot;: 0}\n",
       "            ).addTo(feature_group_04e22a6a55289d76af9d821d99f2f50f);\n",
       "        \n",
       "    \n",
       "            circle_marker_0272683923f3165f8ed19fb68a3b6700.bindTooltip(\n",
       "                `&lt;div&gt;\n",
       "                     76706 (1)\n",
       "                 &lt;/div&gt;`,\n",
       "                {\n",
       "  &quot;sticky&quot;: true,\n",
       "}\n",
       "            );\n",
       "        \n",
       "    \n",
       "            var poly_line_63f760e13a1f9d7a0e8a7b8485400289 = L.polyline(\n",
       "                [[49.714, 0.401], [48.342, -0.86]],\n",
       "                {&quot;bubblingMouseEvents&quot;: true, &quot;color&quot;: &quot;black&quot;, &quot;dashArray&quot;: null, &quot;dashOffset&quot;: null, &quot;fill&quot;: false, &quot;fillColor&quot;: &quot;black&quot;, &quot;fillOpacity&quot;: 0.2, &quot;fillRule&quot;: &quot;evenodd&quot;, &quot;lineCap&quot;: &quot;round&quot;, &quot;lineJoin&quot;: &quot;round&quot;, &quot;noClip&quot;: false, &quot;opacity&quot;: 1.0, &quot;smoothFactor&quot;: 1.0, &quot;stroke&quot;: true, &quot;weight&quot;: 4}\n",
       "            ).addTo(feature_group_04e22a6a55289d76af9d821d99f2f50f);\n",
       "        \n",
       "    \n",
       "            var circle_marker_74ca10fc7a16518ca3b667c0fdb46fab = L.circleMarker(\n",
       "                [48.342, -0.86],\n",
       "                {&quot;bubblingMouseEvents&quot;: true, &quot;color&quot;: &quot;rgb(218, 165, 27)&quot;, &quot;dashArray&quot;: null, &quot;dashOffset&quot;: null, &quot;fill&quot;: true, &quot;fillColor&quot;: &quot;rgb(218, 165, 27)&quot;, &quot;fillOpacity&quot;: 0.6, &quot;fillRule&quot;: &quot;evenodd&quot;, &quot;lineCap&quot;: &quot;round&quot;, &quot;lineJoin&quot;: &quot;round&quot;, &quot;opacity&quot;: 1.0, &quot;radius&quot;: 15, &quot;stroke&quot;: true, &quot;weight&quot;: 0}\n",
       "            ).addTo(feature_group_04e22a6a55289d76af9d821d99f2f50f);\n",
       "        \n",
       "    \n",
       "            circle_marker_74ca10fc7a16518ca3b667c0fdb46fab.bindTooltip(\n",
       "                `&lt;div&gt;\n",
       "                     53211 (6)\n",
       "                 &lt;/div&gt;`,\n",
       "                {\n",
       "  &quot;sticky&quot;: true,\n",
       "}\n",
       "            );\n",
       "        \n",
       "    \n",
       "            var poly_line_5ec452ff32cff8b53217b65c60e1de3a = L.polyline(\n",
       "                [[48.342, -0.86], [48.007, -0.817]],\n",
       "                {&quot;bubblingMouseEvents&quot;: true, &quot;color&quot;: &quot;black&quot;, &quot;dashArray&quot;: null, &quot;dashOffset&quot;: null, &quot;fill&quot;: false, &quot;fillColor&quot;: &quot;black&quot;, &quot;fillOpacity&quot;: 0.2, &quot;fillRule&quot;: &quot;evenodd&quot;, &quot;lineCap&quot;: &quot;round&quot;, &quot;lineJoin&quot;: &quot;round&quot;, &quot;noClip&quot;: false, &quot;opacity&quot;: 1.0, &quot;smoothFactor&quot;: 1.0, &quot;stroke&quot;: true, &quot;weight&quot;: 4}\n",
       "            ).addTo(feature_group_04e22a6a55289d76af9d821d99f2f50f);\n",
       "        \n",
       "    \n",
       "            var circle_marker_b6e088dcf9faed12d0a10cef5b5afd57 = L.circleMarker(\n",
       "                [48.007, -0.817],\n",
       "                {&quot;bubblingMouseEvents&quot;: true, &quot;color&quot;: &quot;rgb(218, 165, 27)&quot;, &quot;dashArray&quot;: null, &quot;dashOffset&quot;: null, &quot;fill&quot;: true, &quot;fillColor&quot;: &quot;rgb(218, 165, 27)&quot;, &quot;fillOpacity&quot;: 0.6, &quot;fillRule&quot;: &quot;evenodd&quot;, &quot;lineCap&quot;: &quot;round&quot;, &quot;lineJoin&quot;: &quot;round&quot;, &quot;opacity&quot;: 1.0, &quot;radius&quot;: 15, &quot;stroke&quot;: true, &quot;weight&quot;: 0}\n",
       "            ).addTo(feature_group_04e22a6a55289d76af9d821d99f2f50f);\n",
       "        \n",
       "    \n",
       "            circle_marker_b6e088dcf9faed12d0a10cef5b5afd57.bindTooltip(\n",
       "                `&lt;div&gt;\n",
       "                     53157 (6)\n",
       "                 &lt;/div&gt;`,\n",
       "                {\n",
       "  &quot;sticky&quot;: true,\n",
       "}\n",
       "            );\n",
       "        \n",
       "    \n",
       "            var poly_line_0bbe75dc28a26ecb89a63ff94011802f = L.polyline(\n",
       "                [[48.007, -0.817], [48.11, -1.405]],\n",
       "                {&quot;bubblingMouseEvents&quot;: true, &quot;color&quot;: &quot;black&quot;, &quot;dashArray&quot;: null, &quot;dashOffset&quot;: null, &quot;fill&quot;: false, &quot;fillColor&quot;: &quot;black&quot;, &quot;fillOpacity&quot;: 0.2, &quot;fillRule&quot;: &quot;evenodd&quot;, &quot;lineCap&quot;: &quot;round&quot;, &quot;lineJoin&quot;: &quot;round&quot;, &quot;noClip&quot;: false, &quot;opacity&quot;: 1.0, &quot;smoothFactor&quot;: 1.0, &quot;stroke&quot;: true, &quot;weight&quot;: 4}\n",
       "            ).addTo(feature_group_04e22a6a55289d76af9d821d99f2f50f);\n",
       "        \n",
       "    \n",
       "            var circle_marker_4c43cca81c7ab93e6959121904a30028 = L.circleMarker(\n",
       "                [48.11, -1.405],\n",
       "                {&quot;bubblingMouseEvents&quot;: true, &quot;color&quot;: &quot;rgb(218, 165, 27)&quot;, &quot;dashArray&quot;: null, &quot;dashOffset&quot;: null, &quot;fill&quot;: true, &quot;fillColor&quot;: &quot;rgb(218, 165, 27)&quot;, &quot;fillOpacity&quot;: 0.6, &quot;fillRule&quot;: &quot;evenodd&quot;, &quot;lineCap&quot;: &quot;round&quot;, &quot;lineJoin&quot;: &quot;round&quot;, &quot;opacity&quot;: 1.0, &quot;radius&quot;: 15, &quot;stroke&quot;: true, &quot;weight&quot;: 0}\n",
       "            ).addTo(feature_group_04e22a6a55289d76af9d821d99f2f50f);\n",
       "        \n",
       "    \n",
       "            circle_marker_4c43cca81c7ab93e6959121904a30028.bindTooltip(\n",
       "                `&lt;div&gt;\n",
       "                     35068 (6)\n",
       "                 &lt;/div&gt;`,\n",
       "                {\n",
       "  &quot;sticky&quot;: true,\n",
       "}\n",
       "            );\n",
       "        \n",
       "    \n",
       "            var poly_line_57c5003eebb82e57e0ae62d68335b8c3 = L.polyline(\n",
       "                [[48.11, -1.405], [48.59, -1.592]],\n",
       "                {&quot;bubblingMouseEvents&quot;: true, &quot;color&quot;: &quot;black&quot;, &quot;dashArray&quot;: null, &quot;dashOffset&quot;: null, &quot;fill&quot;: false, &quot;fillColor&quot;: &quot;black&quot;, &quot;fillOpacity&quot;: 0.2, &quot;fillRule&quot;: &quot;evenodd&quot;, &quot;lineCap&quot;: &quot;round&quot;, &quot;lineJoin&quot;: &quot;round&quot;, &quot;noClip&quot;: false, &quot;opacity&quot;: 1.0, &quot;smoothFactor&quot;: 1.0, &quot;stroke&quot;: true, &quot;weight&quot;: 4}\n",
       "            ).addTo(feature_group_04e22a6a55289d76af9d821d99f2f50f);\n",
       "        \n",
       "    \n",
       "            var circle_marker_38c540f705d5763eb4ac3ce83ebea601 = L.circleMarker(\n",
       "                [48.59, -1.592],\n",
       "                {&quot;bubblingMouseEvents&quot;: true, &quot;color&quot;: &quot;rgb(218, 165, 27)&quot;, &quot;dashArray&quot;: null, &quot;dashOffset&quot;: null, &quot;fill&quot;: true, &quot;fillColor&quot;: &quot;rgb(218, 165, 27)&quot;, &quot;fillOpacity&quot;: 0.6, &quot;fillRule&quot;: &quot;evenodd&quot;, &quot;lineCap&quot;: &quot;round&quot;, &quot;lineJoin&quot;: &quot;round&quot;, &quot;opacity&quot;: 1.0, &quot;radius&quot;: 15, &quot;stroke&quot;: true, &quot;weight&quot;: 0}\n",
       "            ).addTo(feature_group_04e22a6a55289d76af9d821d99f2f50f);\n",
       "        \n",
       "    \n",
       "            circle_marker_38c540f705d5763eb4ac3ce83ebea601.bindTooltip(\n",
       "                `&lt;div&gt;\n",
       "                     35247 (6)\n",
       "                 &lt;/div&gt;`,\n",
       "                {\n",
       "  &quot;sticky&quot;: true,\n",
       "}\n",
       "            );\n",
       "        \n",
       "    \n",
       "            var poly_line_fbe2f056cb0ac2e3e2ee2e98c8009415 = L.polyline(\n",
       "                [[48.59, -1.592], [48.134, -1.534]],\n",
       "                {&quot;bubblingMouseEvents&quot;: true, &quot;color&quot;: &quot;black&quot;, &quot;dashArray&quot;: null, &quot;dashOffset&quot;: null, &quot;fill&quot;: false, &quot;fillColor&quot;: &quot;black&quot;, &quot;fillOpacity&quot;: 0.2, &quot;fillRule&quot;: &quot;evenodd&quot;, &quot;lineCap&quot;: &quot;round&quot;, &quot;lineJoin&quot;: &quot;round&quot;, &quot;noClip&quot;: false, &quot;opacity&quot;: 1.0, &quot;smoothFactor&quot;: 1.0, &quot;stroke&quot;: true, &quot;weight&quot;: 4}\n",
       "            ).addTo(feature_group_04e22a6a55289d76af9d821d99f2f50f);\n",
       "        \n",
       "    \n",
       "            var circle_marker_b1c45e840978f4c359f74b5066a7cf2c = L.circleMarker(\n",
       "                [48.134, -1.534],\n",
       "                {&quot;bubblingMouseEvents&quot;: true, &quot;color&quot;: &quot;rgb(218, 165, 27)&quot;, &quot;dashArray&quot;: null, &quot;dashOffset&quot;: null, &quot;fill&quot;: true, &quot;fillColor&quot;: &quot;rgb(218, 165, 27)&quot;, &quot;fillOpacity&quot;: 0.6, &quot;fillRule&quot;: &quot;evenodd&quot;, &quot;lineCap&quot;: &quot;round&quot;, &quot;lineJoin&quot;: &quot;round&quot;, &quot;opacity&quot;: 1.0, &quot;radius&quot;: 15, &quot;stroke&quot;: true, &quot;weight&quot;: 0}\n",
       "            ).addTo(feature_group_04e22a6a55289d76af9d821d99f2f50f);\n",
       "        \n",
       "    \n",
       "            circle_marker_b1c45e840978f4c359f74b5066a7cf2c.bindTooltip(\n",
       "                `&lt;div&gt;\n",
       "                     35001 (6)\n",
       "                 &lt;/div&gt;`,\n",
       "                {\n",
       "  &quot;sticky&quot;: true,\n",
       "}\n",
       "            );\n",
       "        \n",
       "    \n",
       "            var poly_line_1396c96e524dbc3c523f3555e277b55c = L.polyline(\n",
       "                [[48.134, -1.534], [47.686, -0.874]],\n",
       "                {&quot;bubblingMouseEvents&quot;: true, &quot;color&quot;: &quot;black&quot;, &quot;dashArray&quot;: null, &quot;dashOffset&quot;: null, &quot;fill&quot;: false, &quot;fillColor&quot;: &quot;black&quot;, &quot;fillOpacity&quot;: 0.2, &quot;fillRule&quot;: &quot;evenodd&quot;, &quot;lineCap&quot;: &quot;round&quot;, &quot;lineJoin&quot;: &quot;round&quot;, &quot;noClip&quot;: false, &quot;opacity&quot;: 1.0, &quot;smoothFactor&quot;: 1.0, &quot;stroke&quot;: true, &quot;weight&quot;: 4}\n",
       "            ).addTo(feature_group_04e22a6a55289d76af9d821d99f2f50f);\n",
       "        \n",
       "    \n",
       "            var circle_marker_0079211fd9574db0d86f6e2f2ed1011a = L.circleMarker(\n",
       "                [47.686, -0.874],\n",
       "                {&quot;bubblingMouseEvents&quot;: true, &quot;color&quot;: &quot;rgb(218, 165, 27)&quot;, &quot;dashArray&quot;: null, &quot;dashOffset&quot;: null, &quot;fill&quot;: true, &quot;fillColor&quot;: &quot;rgb(218, 165, 27)&quot;, &quot;fillOpacity&quot;: 0.6, &quot;fillRule&quot;: &quot;evenodd&quot;, &quot;lineCap&quot;: &quot;round&quot;, &quot;lineJoin&quot;: &quot;round&quot;, &quot;opacity&quot;: 1.0, &quot;radius&quot;: 15, &quot;stroke&quot;: true, &quot;weight&quot;: 0}\n",
       "            ).addTo(feature_group_04e22a6a55289d76af9d821d99f2f50f);\n",
       "        \n",
       "    \n",
       "            circle_marker_0079211fd9574db0d86f6e2f2ed1011a.bindTooltip(\n",
       "                `&lt;div&gt;\n",
       "                     49331 (6)\n",
       "                 &lt;/div&gt;`,\n",
       "                {\n",
       "  &quot;sticky&quot;: true,\n",
       "}\n",
       "            );\n",
       "        \n",
       "    \n",
       "            var poly_line_bac43f15ec705c2b941da429425b3ab9 = L.polyline(\n",
       "                [[47.686, -0.874], [47.69, -0.683]],\n",
       "                {&quot;bubblingMouseEvents&quot;: true, &quot;color&quot;: &quot;black&quot;, &quot;dashArray&quot;: null, &quot;dashOffset&quot;: null, &quot;fill&quot;: false, &quot;fillColor&quot;: &quot;black&quot;, &quot;fillOpacity&quot;: 0.2, &quot;fillRule&quot;: &quot;evenodd&quot;, &quot;lineCap&quot;: &quot;round&quot;, &quot;lineJoin&quot;: &quot;round&quot;, &quot;noClip&quot;: false, &quot;opacity&quot;: 1.0, &quot;smoothFactor&quot;: 1.0, &quot;stroke&quot;: true, &quot;weight&quot;: 4}\n",
       "            ).addTo(feature_group_04e22a6a55289d76af9d821d99f2f50f);\n",
       "        \n",
       "    \n",
       "            var circle_marker_a6b7c05bdc918d076d3a4f7e1e214371 = L.circleMarker(\n",
       "                [47.69, -0.683],\n",
       "                {&quot;bubblingMouseEvents&quot;: true, &quot;color&quot;: &quot;rgb(218, 165, 27)&quot;, &quot;dashArray&quot;: null, &quot;dashOffset&quot;: null, &quot;fill&quot;: true, &quot;fillColor&quot;: &quot;rgb(218, 165, 27)&quot;, &quot;fillOpacity&quot;: 0.6, &quot;fillRule&quot;: &quot;evenodd&quot;, &quot;lineCap&quot;: &quot;round&quot;, &quot;lineJoin&quot;: &quot;round&quot;, &quot;opacity&quot;: 1.0, &quot;radius&quot;: 15, &quot;stroke&quot;: true, &quot;weight&quot;: 0}\n",
       "            ).addTo(feature_group_04e22a6a55289d76af9d821d99f2f50f);\n",
       "        \n",
       "    \n",
       "            circle_marker_a6b7c05bdc918d076d3a4f7e1e214371.bindTooltip(\n",
       "                `&lt;div&gt;\n",
       "                     49064 (6)\n",
       "                 &lt;/div&gt;`,\n",
       "                {\n",
       "  &quot;sticky&quot;: true,\n",
       "}\n",
       "            );\n",
       "        \n",
       "    \n",
       "            var poly_line_f87e2b692a21117f62487a5d10b75aa0 = L.polyline(\n",
       "                [[47.69, -0.683], [46.829, -0.248]],\n",
       "                {&quot;bubblingMouseEvents&quot;: true, &quot;color&quot;: &quot;black&quot;, &quot;dashArray&quot;: null, &quot;dashOffset&quot;: null, &quot;fill&quot;: false, &quot;fillColor&quot;: &quot;black&quot;, &quot;fillOpacity&quot;: 0.2, &quot;fillRule&quot;: &quot;evenodd&quot;, &quot;lineCap&quot;: &quot;round&quot;, &quot;lineJoin&quot;: &quot;round&quot;, &quot;noClip&quot;: false, &quot;opacity&quot;: 1.0, &quot;smoothFactor&quot;: 1.0, &quot;stroke&quot;: true, &quot;weight&quot;: 4}\n",
       "            ).addTo(feature_group_04e22a6a55289d76af9d821d99f2f50f);\n",
       "        \n",
       "    \n",
       "            var circle_marker_d173825c7c16a37e722c286b19e76466 = L.circleMarker(\n",
       "                [46.829, -0.248],\n",
       "                {&quot;bubblingMouseEvents&quot;: true, &quot;color&quot;: &quot;rgb(153, 201, 69)&quot;, &quot;dashArray&quot;: null, &quot;dashOffset&quot;: null, &quot;fill&quot;: true, &quot;fillColor&quot;: &quot;rgb(153, 201, 69)&quot;, &quot;fillOpacity&quot;: 0.6, &quot;fillRule&quot;: &quot;evenodd&quot;, &quot;lineCap&quot;: &quot;round&quot;, &quot;lineJoin&quot;: &quot;round&quot;, &quot;opacity&quot;: 1.0, &quot;radius&quot;: 15, &quot;stroke&quot;: true, &quot;weight&quot;: 0}\n",
       "            ).addTo(feature_group_04e22a6a55289d76af9d821d99f2f50f);\n",
       "        \n",
       "    \n",
       "            circle_marker_d173825c7c16a37e722c286b19e76466.bindTooltip(\n",
       "                `&lt;div&gt;\n",
       "                     79047 (3)\n",
       "                 &lt;/div&gt;`,\n",
       "                {\n",
       "  &quot;sticky&quot;: true,\n",
       "}\n",
       "            );\n",
       "        \n",
       "    \n",
       "            var poly_line_6e8b23e96a6340db6e32fd3ebe37a454 = L.polyline(\n",
       "                [[46.829, -0.248], [46.869, -1.759]],\n",
       "                {&quot;bubblingMouseEvents&quot;: true, &quot;color&quot;: &quot;black&quot;, &quot;dashArray&quot;: null, &quot;dashOffset&quot;: null, &quot;fill&quot;: false, &quot;fillColor&quot;: &quot;black&quot;, &quot;fillOpacity&quot;: 0.2, &quot;fillRule&quot;: &quot;evenodd&quot;, &quot;lineCap&quot;: &quot;round&quot;, &quot;lineJoin&quot;: &quot;round&quot;, &quot;noClip&quot;: false, &quot;opacity&quot;: 1.0, &quot;smoothFactor&quot;: 1.0, &quot;stroke&quot;: true, &quot;weight&quot;: 4}\n",
       "            ).addTo(feature_group_04e22a6a55289d76af9d821d99f2f50f);\n",
       "        \n",
       "    \n",
       "            var circle_marker_32040f6bea1c251228caa584de93ac19 = L.circleMarker(\n",
       "                [46.869, -1.759],\n",
       "                {&quot;bubblingMouseEvents&quot;: true, &quot;color&quot;: &quot;rgb(153, 201, 69)&quot;, &quot;dashArray&quot;: null, &quot;dashOffset&quot;: null, &quot;fill&quot;: true, &quot;fillColor&quot;: &quot;rgb(153, 201, 69)&quot;, &quot;fillOpacity&quot;: 0.6, &quot;fillRule&quot;: &quot;evenodd&quot;, &quot;lineCap&quot;: &quot;round&quot;, &quot;lineJoin&quot;: &quot;round&quot;, &quot;opacity&quot;: 1.0, &quot;radius&quot;: 15, &quot;stroke&quot;: true, &quot;weight&quot;: 0}\n",
       "            ).addTo(feature_group_04e22a6a55289d76af9d821d99f2f50f);\n",
       "        \n",
       "    \n",
       "            circle_marker_32040f6bea1c251228caa584de93ac19.bindTooltip(\n",
       "                `&lt;div&gt;\n",
       "                     85095 (3)\n",
       "                 &lt;/div&gt;`,\n",
       "                {\n",
       "  &quot;sticky&quot;: true,\n",
       "}\n",
       "            );\n",
       "        \n",
       "    \n",
       "            var poly_line_f6e5bd82cc579f67d8885a5597833ffc = L.polyline(\n",
       "                [[46.869, -1.759], [46.124, -0.608]],\n",
       "                {&quot;bubblingMouseEvents&quot;: true, &quot;color&quot;: &quot;black&quot;, &quot;dashArray&quot;: null, &quot;dashOffset&quot;: null, &quot;fill&quot;: false, &quot;fillColor&quot;: &quot;black&quot;, &quot;fillOpacity&quot;: 0.2, &quot;fillRule&quot;: &quot;evenodd&quot;, &quot;lineCap&quot;: &quot;round&quot;, &quot;lineJoin&quot;: &quot;round&quot;, &quot;noClip&quot;: false, &quot;opacity&quot;: 1.0, &quot;smoothFactor&quot;: 1.0, &quot;stroke&quot;: true, &quot;weight&quot;: 4}\n",
       "            ).addTo(feature_group_04e22a6a55289d76af9d821d99f2f50f);\n",
       "        \n",
       "    \n",
       "            var circle_marker_be9b8120243601b77bf308fef3647c56 = L.circleMarker(\n",
       "                [46.124, -0.608],\n",
       "                {&quot;bubblingMouseEvents&quot;: true, &quot;color&quot;: &quot;rgb(153, 201, 69)&quot;, &quot;dashArray&quot;: null, &quot;dashOffset&quot;: null, &quot;fill&quot;: true, &quot;fillColor&quot;: &quot;rgb(153, 201, 69)&quot;, &quot;fillOpacity&quot;: 0.6, &quot;fillRule&quot;: &quot;evenodd&quot;, &quot;lineCap&quot;: &quot;round&quot;, &quot;lineJoin&quot;: &quot;round&quot;, &quot;opacity&quot;: 1.0, &quot;radius&quot;: 15, &quot;stroke&quot;: true, &quot;weight&quot;: 0}\n",
       "            ).addTo(feature_group_04e22a6a55289d76af9d821d99f2f50f);\n",
       "        \n",
       "    \n",
       "            circle_marker_be9b8120243601b77bf308fef3647c56.bindTooltip(\n",
       "                `&lt;div&gt;\n",
       "                     17221 (3)\n",
       "                 &lt;/div&gt;`,\n",
       "                {\n",
       "  &quot;sticky&quot;: true,\n",
       "}\n",
       "            );\n",
       "        \n",
       "    \n",
       "            var poly_line_522f2076a933c078062ce1e2c15dfa9b = L.polyline(\n",
       "                [[46.124, -0.608], [45.263, 0.363]],\n",
       "                {&quot;bubblingMouseEvents&quot;: true, &quot;color&quot;: &quot;black&quot;, &quot;dashArray&quot;: null, &quot;dashOffset&quot;: null, &quot;fill&quot;: false, &quot;fillColor&quot;: &quot;black&quot;, &quot;fillOpacity&quot;: 0.2, &quot;fillRule&quot;: &quot;evenodd&quot;, &quot;lineCap&quot;: &quot;round&quot;, &quot;lineJoin&quot;: &quot;round&quot;, &quot;noClip&quot;: false, &quot;opacity&quot;: 1.0, &quot;smoothFactor&quot;: 1.0, &quot;stroke&quot;: true, &quot;weight&quot;: 4}\n",
       "            ).addTo(feature_group_04e22a6a55289d76af9d821d99f2f50f);\n",
       "        \n",
       "    \n",
       "            var circle_marker_39fadbf5f9cf82d59a953df8b411a5b3 = L.circleMarker(\n",
       "                [45.263, 0.363],\n",
       "                {&quot;bubblingMouseEvents&quot;: true, &quot;color&quot;: &quot;rgb(204, 97, 176)&quot;, &quot;dashArray&quot;: null, &quot;dashOffset&quot;: null, &quot;fill&quot;: true, &quot;fillColor&quot;: &quot;rgb(204, 97, 176)&quot;, &quot;fillOpacity&quot;: 0.6, &quot;fillRule&quot;: &quot;evenodd&quot;, &quot;lineCap&quot;: &quot;round&quot;, &quot;lineJoin&quot;: &quot;round&quot;, &quot;opacity&quot;: 1.0, &quot;radius&quot;: 15, &quot;stroke&quot;: true, &quot;weight&quot;: 0}\n",
       "            ).addTo(feature_group_04e22a6a55289d76af9d821d99f2f50f);\n",
       "        \n",
       "    \n",
       "            circle_marker_39fadbf5f9cf82d59a953df8b411a5b3.bindTooltip(\n",
       "                `&lt;div&gt;\n",
       "                     24586 (4)\n",
       "                 &lt;/div&gt;`,\n",
       "                {\n",
       "  &quot;sticky&quot;: true,\n",
       "}\n",
       "            );\n",
       "        \n",
       "    \n",
       "            var poly_line_6774ce481eebc2a594bd581aac17f550 = L.polyline(\n",
       "                [[45.263, 0.363], [44.735, 0.484]],\n",
       "                {&quot;bubblingMouseEvents&quot;: true, &quot;color&quot;: &quot;black&quot;, &quot;dashArray&quot;: null, &quot;dashOffset&quot;: null, &quot;fill&quot;: false, &quot;fillColor&quot;: &quot;black&quot;, &quot;fillOpacity&quot;: 0.2, &quot;fillRule&quot;: &quot;evenodd&quot;, &quot;lineCap&quot;: &quot;round&quot;, &quot;lineJoin&quot;: &quot;round&quot;, &quot;noClip&quot;: false, &quot;opacity&quot;: 1.0, &quot;smoothFactor&quot;: 1.0, &quot;stroke&quot;: true, &quot;weight&quot;: 4}\n",
       "            ).addTo(feature_group_04e22a6a55289d76af9d821d99f2f50f);\n",
       "        \n",
       "    \n",
       "            var circle_marker_06c3e0cb550fb88cb4e681b5957c5776 = L.circleMarker(\n",
       "                [44.735, 0.484],\n",
       "                {&quot;bubblingMouseEvents&quot;: true, &quot;color&quot;: &quot;rgb(204, 97, 176)&quot;, &quot;dashArray&quot;: null, &quot;dashOffset&quot;: null, &quot;fill&quot;: true, &quot;fillColor&quot;: &quot;rgb(204, 97, 176)&quot;, &quot;fillOpacity&quot;: 0.6, &quot;fillRule&quot;: &quot;evenodd&quot;, &quot;lineCap&quot;: &quot;round&quot;, &quot;lineJoin&quot;: &quot;round&quot;, &quot;opacity&quot;: 1.0, &quot;radius&quot;: 15, &quot;stroke&quot;: true, &quot;weight&quot;: 0}\n",
       "            ).addTo(feature_group_04e22a6a55289d76af9d821d99f2f50f);\n",
       "        \n",
       "    \n",
       "            circle_marker_06c3e0cb550fb88cb4e681b5957c5776.bindTooltip(\n",
       "                `&lt;div&gt;\n",
       "                     24359 (4)\n",
       "                 &lt;/div&gt;`,\n",
       "                {\n",
       "  &quot;sticky&quot;: true,\n",
       "}\n",
       "            );\n",
       "        \n",
       "    \n",
       "            var poly_line_7a9cc025aa5776460bc1efc78d798313 = L.polyline(\n",
       "                [[44.735, 0.484], [44.812, -0.193]],\n",
       "                {&quot;bubblingMouseEvents&quot;: true, &quot;color&quot;: &quot;black&quot;, &quot;dashArray&quot;: null, &quot;dashOffset&quot;: null, &quot;fill&quot;: false, &quot;fillColor&quot;: &quot;black&quot;, &quot;fillOpacity&quot;: 0.2, &quot;fillRule&quot;: &quot;evenodd&quot;, &quot;lineCap&quot;: &quot;round&quot;, &quot;lineJoin&quot;: &quot;round&quot;, &quot;noClip&quot;: false, &quot;opacity&quot;: 1.0, &quot;smoothFactor&quot;: 1.0, &quot;stroke&quot;: true, &quot;weight&quot;: 4}\n",
       "            ).addTo(feature_group_04e22a6a55289d76af9d821d99f2f50f);\n",
       "        \n",
       "    \n",
       "            var circle_marker_fcad638a6e9bb6ee5f0ec0c6872621f2 = L.circleMarker(\n",
       "                [44.812, -0.193],\n",
       "                {&quot;bubblingMouseEvents&quot;: true, &quot;color&quot;: &quot;rgb(204, 97, 176)&quot;, &quot;dashArray&quot;: null, &quot;dashOffset&quot;: null, &quot;fill&quot;: true, &quot;fillColor&quot;: &quot;rgb(204, 97, 176)&quot;, &quot;fillOpacity&quot;: 0.6, &quot;fillRule&quot;: &quot;evenodd&quot;, &quot;lineCap&quot;: &quot;round&quot;, &quot;lineJoin&quot;: &quot;round&quot;, &quot;opacity&quot;: 1.0, &quot;radius&quot;: 15, &quot;stroke&quot;: true, &quot;weight&quot;: 0}\n",
       "            ).addTo(feature_group_04e22a6a55289d76af9d821d99f2f50f);\n",
       "        \n",
       "    \n",
       "            circle_marker_fcad638a6e9bb6ee5f0ec0c6872621f2.bindTooltip(\n",
       "                `&lt;div&gt;\n",
       "                     33257 (4)\n",
       "                 &lt;/div&gt;`,\n",
       "                {\n",
       "  &quot;sticky&quot;: true,\n",
       "}\n",
       "            );\n",
       "        \n",
       "    \n",
       "            var poly_line_7e56741e91765dc3562f5bf8c0560a8b = L.polyline(\n",
       "                [[44.812, -0.193], [44.174, 0.561]],\n",
       "                {&quot;bubblingMouseEvents&quot;: true, &quot;color&quot;: &quot;black&quot;, &quot;dashArray&quot;: null, &quot;dashOffset&quot;: null, &quot;fill&quot;: false, &quot;fillColor&quot;: &quot;black&quot;, &quot;fillOpacity&quot;: 0.2, &quot;fillRule&quot;: &quot;evenodd&quot;, &quot;lineCap&quot;: &quot;round&quot;, &quot;lineJoin&quot;: &quot;round&quot;, &quot;noClip&quot;: false, &quot;opacity&quot;: 1.0, &quot;smoothFactor&quot;: 1.0, &quot;stroke&quot;: true, &quot;weight&quot;: 4}\n",
       "            ).addTo(feature_group_04e22a6a55289d76af9d821d99f2f50f);\n",
       "        \n",
       "    \n",
       "            var circle_marker_bcc767884985f34f8e0db8374772cc7c = L.circleMarker(\n",
       "                [44.174, 0.561],\n",
       "                {&quot;bubblingMouseEvents&quot;: true, &quot;color&quot;: &quot;rgb(204, 97, 176)&quot;, &quot;dashArray&quot;: null, &quot;dashOffset&quot;: null, &quot;fill&quot;: true, &quot;fillColor&quot;: &quot;rgb(204, 97, 176)&quot;, &quot;fillOpacity&quot;: 0.6, &quot;fillRule&quot;: &quot;evenodd&quot;, &quot;lineCap&quot;: &quot;round&quot;, &quot;lineJoin&quot;: &quot;round&quot;, &quot;opacity&quot;: 1.0, &quot;radius&quot;: 15, &quot;stroke&quot;: true, &quot;weight&quot;: 0}\n",
       "            ).addTo(feature_group_04e22a6a55289d76af9d821d99f2f50f);\n",
       "        \n",
       "    \n",
       "            circle_marker_bcc767884985f34f8e0db8374772cc7c.bindTooltip(\n",
       "                `&lt;div&gt;\n",
       "                     47225 (4)\n",
       "                 &lt;/div&gt;`,\n",
       "                {\n",
       "  &quot;sticky&quot;: true,\n",
       "}\n",
       "            );\n",
       "        \n",
       "    \n",
       "            var poly_line_f1298f73fcdd7608cf4227c350d83c2d = L.polyline(\n",
       "                [[44.174, 0.561], [43.625, 0.063]],\n",
       "                {&quot;bubblingMouseEvents&quot;: true, &quot;color&quot;: &quot;black&quot;, &quot;dashArray&quot;: null, &quot;dashOffset&quot;: null, &quot;fill&quot;: false, &quot;fillColor&quot;: &quot;black&quot;, &quot;fillOpacity&quot;: 0.2, &quot;fillRule&quot;: &quot;evenodd&quot;, &quot;lineCap&quot;: &quot;round&quot;, &quot;lineJoin&quot;: &quot;round&quot;, &quot;noClip&quot;: false, &quot;opacity&quot;: 1.0, &quot;smoothFactor&quot;: 1.0, &quot;stroke&quot;: true, &quot;weight&quot;: 4}\n",
       "            ).addTo(feature_group_04e22a6a55289d76af9d821d99f2f50f);\n",
       "        \n",
       "    \n",
       "            var circle_marker_197d2b041fa7654644eea8aeb29efb2a = L.circleMarker(\n",
       "                [43.625, 0.063],\n",
       "                {&quot;bubblingMouseEvents&quot;: true, &quot;color&quot;: &quot;rgb(204, 97, 176)&quot;, &quot;dashArray&quot;: null, &quot;dashOffset&quot;: null, &quot;fill&quot;: true, &quot;fillColor&quot;: &quot;rgb(204, 97, 176)&quot;, &quot;fillOpacity&quot;: 0.6, &quot;fillRule&quot;: &quot;evenodd&quot;, &quot;lineCap&quot;: &quot;round&quot;, &quot;lineJoin&quot;: &quot;round&quot;, &quot;opacity&quot;: 1.0, &quot;radius&quot;: 15, &quot;stroke&quot;: true, &quot;weight&quot;: 0}\n",
       "            ).addTo(feature_group_04e22a6a55289d76af9d821d99f2f50f);\n",
       "        \n",
       "    \n",
       "            circle_marker_197d2b041fa7654644eea8aeb29efb2a.bindTooltip(\n",
       "                `&lt;div&gt;\n",
       "                     32199 (4)\n",
       "                 &lt;/div&gt;`,\n",
       "                {\n",
       "  &quot;sticky&quot;: true,\n",
       "}\n",
       "            );\n",
       "        \n",
       "    \n",
       "            var poly_line_0f713ee546325b5486da49b6cd3a254b = L.polyline(\n",
       "                [[43.625, 0.063], [43.168, 1.084]],\n",
       "                {&quot;bubblingMouseEvents&quot;: true, &quot;color&quot;: &quot;black&quot;, &quot;dashArray&quot;: null, &quot;dashOffset&quot;: null, &quot;fill&quot;: false, &quot;fillColor&quot;: &quot;black&quot;, &quot;fillOpacity&quot;: 0.2, &quot;fillRule&quot;: &quot;evenodd&quot;, &quot;lineCap&quot;: &quot;round&quot;, &quot;lineJoin&quot;: &quot;round&quot;, &quot;noClip&quot;: false, &quot;opacity&quot;: 1.0, &quot;smoothFactor&quot;: 1.0, &quot;stroke&quot;: true, &quot;weight&quot;: 4}\n",
       "            ).addTo(feature_group_04e22a6a55289d76af9d821d99f2f50f);\n",
       "        \n",
       "    \n",
       "            var circle_marker_f21cf7e4c3c0a14e17cbdd85b189f826 = L.circleMarker(\n",
       "                [43.168, 1.084],\n",
       "                {&quot;bubblingMouseEvents&quot;: true, &quot;color&quot;: &quot;rgb(204, 97, 176)&quot;, &quot;dashArray&quot;: null, &quot;dashOffset&quot;: null, &quot;fill&quot;: true, &quot;fillColor&quot;: &quot;rgb(204, 97, 176)&quot;, &quot;fillOpacity&quot;: 0.6, &quot;fillRule&quot;: &quot;evenodd&quot;, &quot;lineCap&quot;: &quot;round&quot;, &quot;lineJoin&quot;: &quot;round&quot;, &quot;opacity&quot;: 1.0, &quot;radius&quot;: 15, &quot;stroke&quot;: true, &quot;weight&quot;: 0}\n",
       "            ).addTo(feature_group_04e22a6a55289d76af9d821d99f2f50f);\n",
       "        \n",
       "    \n",
       "            circle_marker_f21cf7e4c3c0a14e17cbdd85b189f826.bindTooltip(\n",
       "                `&lt;div&gt;\n",
       "                     31505 (4)\n",
       "                 &lt;/div&gt;`,\n",
       "                {\n",
       "  &quot;sticky&quot;: true,\n",
       "}\n",
       "            );\n",
       "        \n",
       "    \n",
       "            var poly_line_7402e9caaf708b04793bae6954e70f8f = L.polyline(\n",
       "                [[43.168, 1.084], [43.35, 0.978]],\n",
       "                {&quot;bubblingMouseEvents&quot;: true, &quot;color&quot;: &quot;black&quot;, &quot;dashArray&quot;: null, &quot;dashOffset&quot;: null, &quot;fill&quot;: false, &quot;fillColor&quot;: &quot;black&quot;, &quot;fillOpacity&quot;: 0.2, &quot;fillRule&quot;: &quot;evenodd&quot;, &quot;lineCap&quot;: &quot;round&quot;, &quot;lineJoin&quot;: &quot;round&quot;, &quot;noClip&quot;: false, &quot;opacity&quot;: 1.0, &quot;smoothFactor&quot;: 1.0, &quot;stroke&quot;: true, &quot;weight&quot;: 4}\n",
       "            ).addTo(feature_group_04e22a6a55289d76af9d821d99f2f50f);\n",
       "        \n",
       "    \n",
       "            var circle_marker_8a3a6a158d25edffcb4daf48761d1d33 = L.circleMarker(\n",
       "                [43.35, 0.978],\n",
       "                {&quot;bubblingMouseEvents&quot;: true, &quot;color&quot;: &quot;rgb(204, 97, 176)&quot;, &quot;dashArray&quot;: null, &quot;dashOffset&quot;: null, &quot;fill&quot;: true, &quot;fillColor&quot;: &quot;rgb(204, 97, 176)&quot;, &quot;fillOpacity&quot;: 0.6, &quot;fillRule&quot;: &quot;evenodd&quot;, &quot;lineCap&quot;: &quot;round&quot;, &quot;lineJoin&quot;: &quot;round&quot;, &quot;opacity&quot;: 1.0, &quot;radius&quot;: 15, &quot;stroke&quot;: true, &quot;weight&quot;: 0}\n",
       "            ).addTo(feature_group_04e22a6a55289d76af9d821d99f2f50f);\n",
       "        \n",
       "    \n",
       "            circle_marker_8a3a6a158d25edffcb4daf48761d1d33.bindTooltip(\n",
       "                `&lt;div&gt;\n",
       "                     31543 (4)\n",
       "                 &lt;/div&gt;`,\n",
       "                {\n",
       "  &quot;sticky&quot;: true,\n",
       "}\n",
       "            );\n",
       "        \n",
       "    \n",
       "            var poly_line_3c37953c7dc2fb700781a9db19522e93 = L.polyline(\n",
       "                [[43.35, 0.978], [43.911, 1.593]],\n",
       "                {&quot;bubblingMouseEvents&quot;: true, &quot;color&quot;: &quot;black&quot;, &quot;dashArray&quot;: null, &quot;dashOffset&quot;: null, &quot;fill&quot;: false, &quot;fillColor&quot;: &quot;black&quot;, &quot;fillOpacity&quot;: 0.2, &quot;fillRule&quot;: &quot;evenodd&quot;, &quot;lineCap&quot;: &quot;round&quot;, &quot;lineJoin&quot;: &quot;round&quot;, &quot;noClip&quot;: false, &quot;opacity&quot;: 1.0, &quot;smoothFactor&quot;: 1.0, &quot;stroke&quot;: true, &quot;weight&quot;: 4}\n",
       "            ).addTo(feature_group_04e22a6a55289d76af9d821d99f2f50f);\n",
       "        \n",
       "    \n",
       "            var circle_marker_fd1be09766ed5f565dea374e6e6b09f9 = L.circleMarker(\n",
       "                [43.911, 1.593],\n",
       "                {&quot;bubblingMouseEvents&quot;: true, &quot;color&quot;: &quot;rgb(204, 97, 176)&quot;, &quot;dashArray&quot;: null, &quot;dashOffset&quot;: null, &quot;fill&quot;: true, &quot;fillColor&quot;: &quot;rgb(204, 97, 176)&quot;, &quot;fillOpacity&quot;: 0.6, &quot;fillRule&quot;: &quot;evenodd&quot;, &quot;lineCap&quot;: &quot;round&quot;, &quot;lineJoin&quot;: &quot;round&quot;, &quot;opacity&quot;: 1.0, &quot;radius&quot;: 15, &quot;stroke&quot;: true, &quot;weight&quot;: 0}\n",
       "            ).addTo(feature_group_04e22a6a55289d76af9d821d99f2f50f);\n",
       "        \n",
       "    \n",
       "            circle_marker_fd1be09766ed5f565dea374e6e6b09f9.bindTooltip(\n",
       "                `&lt;div&gt;\n",
       "                     81178 (4)\n",
       "                 &lt;/div&gt;`,\n",
       "                {\n",
       "  &quot;sticky&quot;: true,\n",
       "}\n",
       "            );\n",
       "        \n",
       "    \n",
       "            var poly_line_1dcee7f4e9c8954e3a7eb19215ec3b7f = L.polyline(\n",
       "                [[43.911, 1.593], [43.307, 2.127]],\n",
       "                {&quot;bubblingMouseEvents&quot;: true, &quot;color&quot;: &quot;black&quot;, &quot;dashArray&quot;: null, &quot;dashOffset&quot;: null, &quot;fill&quot;: false, &quot;fillColor&quot;: &quot;black&quot;, &quot;fillOpacity&quot;: 0.2, &quot;fillRule&quot;: &quot;evenodd&quot;, &quot;lineCap&quot;: &quot;round&quot;, &quot;lineJoin&quot;: &quot;round&quot;, &quot;noClip&quot;: false, &quot;opacity&quot;: 1.0, &quot;smoothFactor&quot;: 1.0, &quot;stroke&quot;: true, &quot;weight&quot;: 4}\n",
       "            ).addTo(feature_group_04e22a6a55289d76af9d821d99f2f50f);\n",
       "        \n",
       "    \n",
       "            var circle_marker_f67139cb1406f5fb42efb10d9b492b48 = L.circleMarker(\n",
       "                [43.307, 2.127],\n",
       "                {&quot;bubblingMouseEvents&quot;: true, &quot;color&quot;: &quot;rgb(204, 97, 176)&quot;, &quot;dashArray&quot;: null, &quot;dashOffset&quot;: null, &quot;fill&quot;: true, &quot;fillColor&quot;: &quot;rgb(204, 97, 176)&quot;, &quot;fillOpacity&quot;: 0.6, &quot;fillRule&quot;: &quot;evenodd&quot;, &quot;lineCap&quot;: &quot;round&quot;, &quot;lineJoin&quot;: &quot;round&quot;, &quot;opacity&quot;: 1.0, &quot;radius&quot;: 15, &quot;stroke&quot;: true, &quot;weight&quot;: 0}\n",
       "            ).addTo(feature_group_04e22a6a55289d76af9d821d99f2f50f);\n",
       "        \n",
       "    \n",
       "            circle_marker_f67139cb1406f5fb42efb10d9b492b48.bindTooltip(\n",
       "                `&lt;div&gt;\n",
       "                     11070 (4)\n",
       "                 &lt;/div&gt;`,\n",
       "                {\n",
       "  &quot;sticky&quot;: true,\n",
       "}\n",
       "            );\n",
       "        \n",
       "    \n",
       "            var poly_line_3f87f33fdc27b0ab344ab7cba9311109 = L.polyline(\n",
       "                [[43.307, 2.127], [43.696, 2.565]],\n",
       "                {&quot;bubblingMouseEvents&quot;: true, &quot;color&quot;: &quot;black&quot;, &quot;dashArray&quot;: null, &quot;dashOffset&quot;: null, &quot;fill&quot;: false, &quot;fillColor&quot;: &quot;black&quot;, &quot;fillOpacity&quot;: 0.2, &quot;fillRule&quot;: &quot;evenodd&quot;, &quot;lineCap&quot;: &quot;round&quot;, &quot;lineJoin&quot;: &quot;round&quot;, &quot;noClip&quot;: false, &quot;opacity&quot;: 1.0, &quot;smoothFactor&quot;: 1.0, &quot;stroke&quot;: true, &quot;weight&quot;: 4}\n",
       "            ).addTo(feature_group_04e22a6a55289d76af9d821d99f2f50f);\n",
       "        \n",
       "    \n",
       "            var circle_marker_574fb6c18133ff190272473629605ede = L.circleMarker(\n",
       "                [43.696, 2.565],\n",
       "                {&quot;bubblingMouseEvents&quot;: true, &quot;color&quot;: &quot;rgb(204, 97, 176)&quot;, &quot;dashArray&quot;: null, &quot;dashOffset&quot;: null, &quot;fill&quot;: true, &quot;fillColor&quot;: &quot;rgb(204, 97, 176)&quot;, &quot;fillOpacity&quot;: 0.6, &quot;fillRule&quot;: &quot;evenodd&quot;, &quot;lineCap&quot;: &quot;round&quot;, &quot;lineJoin&quot;: &quot;round&quot;, &quot;opacity&quot;: 1.0, &quot;radius&quot;: 15, &quot;stroke&quot;: true, &quot;weight&quot;: 0}\n",
       "            ).addTo(feature_group_04e22a6a55289d76af9d821d99f2f50f);\n",
       "        \n",
       "    \n",
       "            circle_marker_574fb6c18133ff190272473629605ede.bindTooltip(\n",
       "                `&lt;div&gt;\n",
       "                     81028 (4)\n",
       "                 &lt;/div&gt;`,\n",
       "                {\n",
       "  &quot;sticky&quot;: true,\n",
       "}\n",
       "            );\n",
       "        \n",
       "    \n",
       "            var poly_line_f4cc316150b871f4cc24f49af1321db6 = L.polyline(\n",
       "                [[43.696, 2.565], [45.12, 3.528]],\n",
       "                {&quot;bubblingMouseEvents&quot;: true, &quot;color&quot;: &quot;black&quot;, &quot;dashArray&quot;: null, &quot;dashOffset&quot;: null, &quot;fill&quot;: false, &quot;fillColor&quot;: &quot;black&quot;, &quot;fillOpacity&quot;: 0.2, &quot;fillRule&quot;: &quot;evenodd&quot;, &quot;lineCap&quot;: &quot;round&quot;, &quot;lineJoin&quot;: &quot;round&quot;, &quot;noClip&quot;: false, &quot;opacity&quot;: 1.0, &quot;smoothFactor&quot;: 1.0, &quot;stroke&quot;: true, &quot;weight&quot;: 4}\n",
       "            ).addTo(feature_group_04e22a6a55289d76af9d821d99f2f50f);\n",
       "        \n",
       "    \n",
       "            var circle_marker_edbeb194a95fb2e2bbf6608b9a5974a3 = L.circleMarker(\n",
       "                [45.80216666666667, 4.558722222222222],\n",
       "                {&quot;bubblingMouseEvents&quot;: true, &quot;color&quot;: &quot;rgb(82, 188, 163)&quot;, &quot;dashArray&quot;: null, &quot;dashOffset&quot;: null, &quot;fill&quot;: false, &quot;fillColor&quot;: &quot;rgb(82, 188, 163)&quot;, &quot;fillOpacity&quot;: 0.2, &quot;fillRule&quot;: &quot;evenodd&quot;, &quot;lineCap&quot;: &quot;round&quot;, &quot;lineJoin&quot;: &quot;round&quot;, &quot;opacity&quot;: 1.0, &quot;radius&quot;: 11, &quot;stroke&quot;: true, &quot;weight&quot;: 5}\n",
       "            ).addTo(feature_group_04e22a6a55289d76af9d821d99f2f50f);\n",
       "        \n",
       "    \n",
       "            circle_marker_edbeb194a95fb2e2bbf6608b9a5974a3.bindTooltip(\n",
       "                `&lt;div&gt;\n",
       "                     2\n",
       "                 &lt;/div&gt;`,\n",
       "                {\n",
       "  &quot;sticky&quot;: true,\n",
       "}\n",
       "            );\n",
       "        \n",
       "    \n",
       "            var circle_marker_c119591592fafe33ebdd18dcddca6597 = L.circleMarker(\n",
       "                [47.34166666666667, 6.485500000000001],\n",
       "                {&quot;bubblingMouseEvents&quot;: true, &quot;color&quot;: &quot;rgb(229, 134, 6)&quot;, &quot;dashArray&quot;: null, &quot;dashOffset&quot;: null, &quot;fill&quot;: false, &quot;fillColor&quot;: &quot;rgb(229, 134, 6)&quot;, &quot;fillOpacity&quot;: 0.2, &quot;fillRule&quot;: &quot;evenodd&quot;, &quot;lineCap&quot;: &quot;round&quot;, &quot;lineJoin&quot;: &quot;round&quot;, &quot;opacity&quot;: 1.0, &quot;radius&quot;: 11, &quot;stroke&quot;: true, &quot;weight&quot;: 5}\n",
       "            ).addTo(feature_group_04e22a6a55289d76af9d821d99f2f50f);\n",
       "        \n",
       "    \n",
       "            circle_marker_c119591592fafe33ebdd18dcddca6597.bindTooltip(\n",
       "                `&lt;div&gt;\n",
       "                     0\n",
       "                 &lt;/div&gt;`,\n",
       "                {\n",
       "  &quot;sticky&quot;: true,\n",
       "}\n",
       "            );\n",
       "        \n",
       "    \n",
       "            var circle_marker_030ca44df110ff2648aedac4ead2e97b = L.circleMarker(\n",
       "                [48.641000000000005, 6.553000000000001],\n",
       "                {&quot;bubblingMouseEvents&quot;: true, &quot;color&quot;: &quot;rgb(47, 138, 196)&quot;, &quot;dashArray&quot;: null, &quot;dashOffset&quot;: null, &quot;fill&quot;: false, &quot;fillColor&quot;: &quot;rgb(47, 138, 196)&quot;, &quot;fillOpacity&quot;: 0.2, &quot;fillRule&quot;: &quot;evenodd&quot;, &quot;lineCap&quot;: &quot;round&quot;, &quot;lineJoin&quot;: &quot;round&quot;, &quot;opacity&quot;: 1.0, &quot;radius&quot;: 11, &quot;stroke&quot;: true, &quot;weight&quot;: 5}\n",
       "            ).addTo(feature_group_04e22a6a55289d76af9d821d99f2f50f);\n",
       "        \n",
       "    \n",
       "            circle_marker_030ca44df110ff2648aedac4ead2e97b.bindTooltip(\n",
       "                `&lt;div&gt;\n",
       "                     7\n",
       "                 &lt;/div&gt;`,\n",
       "                {\n",
       "  &quot;sticky&quot;: true,\n",
       "}\n",
       "            );\n",
       "        \n",
       "    \n",
       "            var circle_marker_ef25e84499637ba581a785a191116ed1 = L.circleMarker(\n",
       "                [50.01692857142857, 3.0584999999999996],\n",
       "                {&quot;bubblingMouseEvents&quot;: true, &quot;color&quot;: &quot;rgb(36, 121, 108)&quot;, &quot;dashArray&quot;: null, &quot;dashOffset&quot;: null, &quot;fill&quot;: false, &quot;fillColor&quot;: &quot;rgb(36, 121, 108)&quot;, &quot;fillOpacity&quot;: 0.2, &quot;fillRule&quot;: &quot;evenodd&quot;, &quot;lineCap&quot;: &quot;round&quot;, &quot;lineJoin&quot;: &quot;round&quot;, &quot;opacity&quot;: 1.0, &quot;radius&quot;: 11, &quot;stroke&quot;: true, &quot;weight&quot;: 5}\n",
       "            ).addTo(feature_group_04e22a6a55289d76af9d821d99f2f50f);\n",
       "        \n",
       "    \n",
       "            circle_marker_ef25e84499637ba581a785a191116ed1.bindTooltip(\n",
       "                `&lt;div&gt;\n",
       "                     5\n",
       "                 &lt;/div&gt;`,\n",
       "                {\n",
       "  &quot;sticky&quot;: true,\n",
       "}\n",
       "            );\n",
       "        \n",
       "    \n",
       "            var circle_marker_56229dd5719a279bd09ab2417d1878c4 = L.circleMarker(\n",
       "                [48.951499999999996, 1.9755],\n",
       "                {&quot;bubblingMouseEvents&quot;: true, &quot;color&quot;: &quot;rgb(93, 105, 177)&quot;, &quot;dashArray&quot;: null, &quot;dashOffset&quot;: null, &quot;fill&quot;: false, &quot;fillColor&quot;: &quot;rgb(93, 105, 177)&quot;, &quot;fillOpacity&quot;: 0.2, &quot;fillRule&quot;: &quot;evenodd&quot;, &quot;lineCap&quot;: &quot;round&quot;, &quot;lineJoin&quot;: &quot;round&quot;, &quot;opacity&quot;: 1.0, &quot;radius&quot;: 11, &quot;stroke&quot;: true, &quot;weight&quot;: 5}\n",
       "            ).addTo(feature_group_04e22a6a55289d76af9d821d99f2f50f);\n",
       "        \n",
       "    \n",
       "            circle_marker_56229dd5719a279bd09ab2417d1878c4.bindTooltip(\n",
       "                `&lt;div&gt;\n",
       "                     1\n",
       "                 &lt;/div&gt;`,\n",
       "                {\n",
       "  &quot;sticky&quot;: true,\n",
       "}\n",
       "            );\n",
       "        \n",
       "    \n",
       "            var circle_marker_02f9eb1f4153b2d747d3ff1e64900276 = L.circleMarker(\n",
       "                [48.079857142857136, -1.1092857142857144],\n",
       "                {&quot;bubblingMouseEvents&quot;: true, &quot;color&quot;: &quot;rgb(218, 165, 27)&quot;, &quot;dashArray&quot;: null, &quot;dashOffset&quot;: null, &quot;fill&quot;: false, &quot;fillColor&quot;: &quot;rgb(218, 165, 27)&quot;, &quot;fillOpacity&quot;: 0.2, &quot;fillRule&quot;: &quot;evenodd&quot;, &quot;lineCap&quot;: &quot;round&quot;, &quot;lineJoin&quot;: &quot;round&quot;, &quot;opacity&quot;: 1.0, &quot;radius&quot;: 11, &quot;stroke&quot;: true, &quot;weight&quot;: 5}\n",
       "            ).addTo(feature_group_04e22a6a55289d76af9d821d99f2f50f);\n",
       "        \n",
       "    \n",
       "            circle_marker_02f9eb1f4153b2d747d3ff1e64900276.bindTooltip(\n",
       "                `&lt;div&gt;\n",
       "                     6\n",
       "                 &lt;/div&gt;`,\n",
       "                {\n",
       "  &quot;sticky&quot;: true,\n",
       "}\n",
       "            );\n",
       "        \n",
       "    \n",
       "            var circle_marker_149f779fbde9acb9dc7113083d4b1665 = L.circleMarker(\n",
       "                [46.60733333333334, -0.8716666666666666],\n",
       "                {&quot;bubblingMouseEvents&quot;: true, &quot;color&quot;: &quot;rgb(153, 201, 69)&quot;, &quot;dashArray&quot;: null, &quot;dashOffset&quot;: null, &quot;fill&quot;: false, &quot;fillColor&quot;: &quot;rgb(153, 201, 69)&quot;, &quot;fillOpacity&quot;: 0.2, &quot;fillRule&quot;: &quot;evenodd&quot;, &quot;lineCap&quot;: &quot;round&quot;, &quot;lineJoin&quot;: &quot;round&quot;, &quot;opacity&quot;: 1.0, &quot;radius&quot;: 11, &quot;stroke&quot;: true, &quot;weight&quot;: 5}\n",
       "            ).addTo(feature_group_04e22a6a55289d76af9d821d99f2f50f);\n",
       "        \n",
       "    \n",
       "            circle_marker_149f779fbde9acb9dc7113083d4b1665.bindTooltip(\n",
       "                `&lt;div&gt;\n",
       "                     3\n",
       "                 &lt;/div&gt;`,\n",
       "                {\n",
       "  &quot;sticky&quot;: true,\n",
       "}\n",
       "            );\n",
       "        \n",
       "    \n",
       "            var circle_marker_6a6eb5940b329c07917614ea0997a9de = L.circleMarker(\n",
       "                [44.0041, 0.9625],\n",
       "                {&quot;bubblingMouseEvents&quot;: true, &quot;color&quot;: &quot;rgb(204, 97, 176)&quot;, &quot;dashArray&quot;: null, &quot;dashOffset&quot;: null, &quot;fill&quot;: false, &quot;fillColor&quot;: &quot;rgb(204, 97, 176)&quot;, &quot;fillOpacity&quot;: 0.2, &quot;fillRule&quot;: &quot;evenodd&quot;, &quot;lineCap&quot;: &quot;round&quot;, &quot;lineJoin&quot;: &quot;round&quot;, &quot;opacity&quot;: 1.0, &quot;radius&quot;: 11, &quot;stroke&quot;: true, &quot;weight&quot;: 5}\n",
       "            ).addTo(feature_group_04e22a6a55289d76af9d821d99f2f50f);\n",
       "        \n",
       "    \n",
       "            circle_marker_6a6eb5940b329c07917614ea0997a9de.bindTooltip(\n",
       "                `&lt;div&gt;\n",
       "                     4\n",
       "                 &lt;/div&gt;`,\n",
       "                {\n",
       "  &quot;sticky&quot;: true,\n",
       "}\n",
       "            );\n",
       "        \n",
       "    \n",
       "            feature_group_04e22a6a55289d76af9d821d99f2f50f.addTo(map_3277f365b484512a242b3b4c81d1da50);\n",
       "        \n",
       "    \n",
       "            tile_layer_ff32e32a74e7b5e1585d37416c61bc2b.addTo(map_3277f365b484512a242b3b4c81d1da50);\n",
       "        \n",
       "    \n",
       "            feature_group_04e22a6a55289d76af9d821d99f2f50f.addTo(map_3277f365b484512a242b3b4c81d1da50);\n",
       "        \n",
       "&lt;/script&gt;\n",
       "&lt;/html&gt;\" style=\"position:absolute;width:100%;height:100%;left:0;top:0;border:none !important;\" allowfullscreen webkitallowfullscreen mozallowfullscreen></iframe></div></div>"
      ]
     },
     "execution_count": 296,
     "metadata": {},
     "output_type": "execute_result"
    }
   ],
   "execution_count": 296
  },
  {
   "metadata": {},
   "cell_type": "code",
   "outputs": [],
   "execution_count": null,
   "source": "",
   "id": "1211f895324f622d"
  }
 ],
 "metadata": {
  "kernelspec": {
   "display_name": "Python 3",
   "language": "python",
   "name": "python3"
  },
  "language_info": {
   "codemirror_mode": {
    "name": "ipython",
    "version": 2
   },
   "file_extension": ".py",
   "mimetype": "text/x-python",
   "name": "python",
   "nbconvert_exporter": "python",
   "pygments_lexer": "ipython2",
   "version": "2.7.6"
  }
 },
 "nbformat": 4,
 "nbformat_minor": 5
}

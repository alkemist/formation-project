{
 "cells": [
  {
   "cell_type": "code",
   "id": "initial_id",
   "metadata": {
    "collapsed": true,
    "ExecuteTime": {
     "end_time": "2025-10-16T21:41:00.874833Z",
     "start_time": "2025-10-16T21:40:42.009233Z"
    }
   },
   "source": [
    "\n",
    "\n",
    "import pandas as pd\n",
    "\n",
    "import plotly.io as pio\n",
    "\n",
    "pio.get_chrome()"
   ],
   "outputs": [
    {
     "name": "stderr",
     "output_type": "stream",
     "text": [
      "2025-10-16 23:40:49.561 Thread 'MainThread': missing ScriptRunContext! This warning can be ignored when running in bare mode.\n"
     ]
    },
    {
     "data": {
      "text/plain": [
       "PosixPath('/home/jaden/Sources/followchon_back/.venv/lib/python3.12/site-packages/choreographer/cli/browser_exe/chrome-linux64/chrome')"
      ]
     },
     "execution_count": 1,
     "metadata": {},
     "output_type": "execute_result"
    }
   ],
   "execution_count": 1
  },
  {
   "metadata": {
    "ExecuteTime": {
     "end_time": "2025-10-16T21:41:00.948558Z",
     "start_time": "2025-10-16T21:41:00.942950Z"
    }
   },
   "cell_type": "code",
   "source": "",
   "id": "eb25e3b09066dd5f",
   "outputs": [],
   "execution_count": 2
  },
  {
   "metadata": {
    "ExecuteTime": {
     "end_time": "2025-10-16T21:41:00.997920Z",
     "start_time": "2025-10-16T21:41:00.983760Z"
    }
   },
   "cell_type": "code",
   "source": "",
   "id": "68dfd383fc9df40c",
   "outputs": [],
   "execution_count": 3
  },
  {
   "metadata": {
    "ExecuteTime": {
     "end_time": "2025-10-16T21:41:01.066325Z",
     "start_time": "2025-10-16T21:41:01.044121Z"
    }
   },
   "cell_type": "code",
   "source": "",
   "id": "e41356cd8b1f2633",
   "outputs": [],
   "execution_count": 4
  },
  {
   "metadata": {
    "ExecuteTime": {
     "end_time": "2025-10-16T21:41:01.105660Z",
     "start_time": "2025-10-16T21:41:01.097776Z"
    }
   },
   "cell_type": "code",
   "source": "",
   "id": "c2123716186088ab",
   "outputs": [],
   "execution_count": 5
  },
  {
   "metadata": {
    "ExecuteTime": {
     "end_time": "2025-10-16T21:41:01.261094Z",
     "start_time": "2025-10-16T21:41:01.158995Z"
    }
   },
   "cell_type": "code",
   "source": [
    "df_cities = pd.read_csv(\n",
    "    '../data/formated/cities-france.csv',\n",
    "    dtype={'code_insee': str, 'dep_code': str, 'nom_standard': str, 'latitude_mairie': float, 'longitude_mairie': float},\n",
    ").rename(columns={'code_insee': 'index', 'nom_standard': 'name', 'latitude_mairie': 'lat', 'longitude_mairie': 'lng'}) \\\n",
    "    .set_index('index') \\\n",
    "    .loc[:, ['lat', 'lng']]"
   ],
   "id": "7f7bcfe28a171997",
   "outputs": [],
   "execution_count": 6
  },
  {
   "metadata": {
    "ExecuteTime": {
     "end_time": "2025-10-16T21:41:32.348379Z",
     "start_time": "2025-10-16T21:41:01.288189Z"
    }
   },
   "cell_type": "code",
   "source": "",
   "id": "e326bcd16445604c",
   "outputs": [
    {
     "name": "stderr",
     "output_type": "stream",
     "text": [
      "/home/jaden/Sources/followchon_back/.venv/lib/python3.12/site-packages/sklearn/manifold/_mds.py:677: FutureWarning:\n",
      "\n",
      "The default value of `n_init` will change from 4 to 1 in 1.9.\n",
      "\n"
     ]
    },
    {
     "name": "stdout",
     "output_type": "stream",
     "text": [
      "Step 1 with 70 points\n",
      "- with 23 clusters with 9 max size\n",
      "- with 24 clusters with 6 max size\n",
      "- with 25 clusters with 7 max size\n",
      "- with 26 clusters with 6 max size\n",
      "- with 27 clusters with 7 max size\n",
      "- with 28 clusters with 6 max size\n",
      "- with 29 clusters with 6 max size\n",
      "- with 30 clusters with 5 max size\n",
      "- with 31 clusters with 6 max size\n",
      "- with 32 clusters with 6 max size\n",
      "- with 33 clusters with 6 max size\n",
      "- with 34 clusters with 5 max size\n",
      "- with 35 clusters with 7 max size\n",
      "- with 36 clusters with 6 max size\n",
      "- with 37 clusters with 5 max size\n",
      "- with 38 clusters with 6 max size\n",
      "- with 39 clusters with 6 max size\n",
      "- with 40 clusters with 5 max size\n",
      "- with 41 clusters with 4 max size\n",
      "- with 42 clusters with 4 max size\n",
      "- with 43 clusters with 6 max size\n",
      "- with 44 clusters with 5 max size\n",
      "- with 45 clusters with 4 max size\n",
      "- with 46 clusters with 4 max size\n",
      "- with 47 clusters with 4 max size\n",
      "- with 48 clusters with 5 max size\n",
      "- with 49 clusters with 4 max size\n",
      "- with 50 clusters with 4 max size\n",
      "- with 51 clusters with 4 max size\n",
      "- with 52 clusters with 5 max size\n",
      "- with 53 clusters with 3 max size\n"
     ]
    },
    {
     "name": "stderr",
     "output_type": "stream",
     "text": [
      "/home/jaden/Sources/followchon_back/.venv/lib/python3.12/site-packages/sklearn/manifold/_mds.py:677: FutureWarning:\n",
      "\n",
      "The default value of `n_init` will change from 4 to 1 in 1.9.\n",
      "\n"
     ]
    },
    {
     "name": "stdout",
     "output_type": "stream",
     "text": [
      "Step 2 with 53 points\n",
      "- with 17 clusters with 6 max size\n",
      "- with 18 clusters with 7 max size\n",
      "- with 19 clusters with 6 max size\n",
      "- with 20 clusters with 5 max size\n",
      "- with 21 clusters with 4 max size\n",
      "- with 22 clusters with 5 max size\n",
      "- with 23 clusters with 4 max size\n",
      "- with 24 clusters with 4 max size\n",
      "- with 25 clusters with 4 max size\n",
      "- with 26 clusters with 4 max size\n",
      "- with 27 clusters with 4 max size\n",
      "- with 28 clusters with 5 max size\n",
      "- with 29 clusters with 5 max size\n",
      "- with 30 clusters with 4 max size\n",
      "- with 31 clusters with 4 max size\n",
      "- with 32 clusters with 4 max size\n",
      "- with 33 clusters with 4 max size\n",
      "- with 34 clusters with 4 max size\n",
      "- with 35 clusters with 3 max size\n"
     ]
    },
    {
     "name": "stderr",
     "output_type": "stream",
     "text": [
      "/home/jaden/Sources/followchon_back/.venv/lib/python3.12/site-packages/sklearn/manifold/_mds.py:677: FutureWarning:\n",
      "\n",
      "The default value of `n_init` will change from 4 to 1 in 1.9.\n",
      "\n"
     ]
    },
    {
     "name": "stdout",
     "output_type": "stream",
     "text": [
      "Step 3 with 35 points\n",
      "- with 11 clusters with 6 max size\n",
      "- with 12 clusters with 5 max size\n",
      "- with 13 clusters with 6 max size\n",
      "- with 14 clusters with 6 max size\n",
      "- with 15 clusters with 4 max size\n",
      "- with 16 clusters with 5 max size\n",
      "- with 17 clusters with 4 max size\n",
      "- with 18 clusters with 3 max size\n"
     ]
    },
    {
     "name": "stderr",
     "output_type": "stream",
     "text": [
      "/home/jaden/Sources/followchon_back/.venv/lib/python3.12/site-packages/sklearn/manifold/_mds.py:677: FutureWarning:\n",
      "\n",
      "The default value of `n_init` will change from 4 to 1 in 1.9.\n",
      "\n"
     ]
    },
    {
     "name": "stdout",
     "output_type": "stream",
     "text": [
      "Step 4 with 18 points\n",
      "- with 6 clusters with 5 max size\n",
      "- with 7 clusters with 3 max size\n"
     ]
    },
    {
     "name": "stderr",
     "output_type": "stream",
     "text": [
      "/home/jaden/Sources/followchon_back/.venv/lib/python3.12/site-packages/sklearn/manifold/_mds.py:677: FutureWarning:\n",
      "\n",
      "The default value of `n_init` will change from 4 to 1 in 1.9.\n",
      "\n"
     ]
    },
    {
     "name": "stdout",
     "output_type": "stream",
     "text": [
      "Step 5 with 7 points\n",
      "- with 3 clusters with 3 max size\n"
     ]
    },
    {
     "name": "stderr",
     "output_type": "stream",
     "text": [
      "/home/jaden/Sources/followchon_back/.venv/lib/python3.12/site-packages/sklearn/manifold/_mds.py:677: FutureWarning:\n",
      "\n",
      "The default value of `n_init` will change from 4 to 1 in 1.9.\n",
      "\n"
     ]
    },
    {
     "name": "stdout",
     "output_type": "stream",
     "text": [
      "Step 6 with 3 points\n",
      "- with 1 clusters with 3 max size\n"
     ]
    }
   ],
   "execution_count": 7
  },
  {
   "metadata": {
    "ExecuteTime": {
     "end_time": "2025-10-16T21:41:37.918953Z",
     "start_time": "2025-10-16T21:41:32.371897Z"
    }
   },
   "cell_type": "code",
   "source": [
    "steps_list = range(2, steps_count + 1)[::-1]\n",
    "print(\"steps :\", list(steps_list))\n",
    "df_tour = pd.DataFrame()\n",
    "\n",
    "n = steps_list[0]\n",
    "df_centroids = pd.read_csv('data/step_' + str(n) + '_points.csv', dtype={'index': str, 'cluster': str})\n",
    "\n",
    "for n in steps_list:\n",
    "    df_cluster = None\n",
    "\n",
    "    df_centroids_distances = pd.read_csv('data/step_' + str(n) + '_distances.csv', dtype={'index': str})\n",
    "    df_centroids_distances = df_centroids_distances.set_index('index')\n",
    "\n",
    "    print(f'Begin layer {n - 1} with {df_centroids.shape[0]} points')\n",
    "\n",
    "    df_points = pd.read_csv('data/step_' + str(n - 1) + '_points.csv', dtype={'index': str, 'cluster': str})\n",
    "\n",
    "    df_points_distances = pd.read_csv('data/step_' + str(n - 1) + '_distances.csv', dtype={'index': str})\n",
    "    df_points_distances = df_points_distances.set_index('index')\n",
    "\n",
    "    if df_centroids.shape[0] < calcul_max_clusters:\n",
    "        df_cluster = best_path(df_centroids, df_points, df_points_distances)\n",
    "\n",
    "    if df_cluster is None:\n",
    "        df_cluster = simple_path(df_centroids, df_points, df_points_distances)\n",
    "\n",
    "    draw_map(df_cluster, True).save(f'export/step_{n - 1}_map.html')\n",
    "    df_centroids = df_cluster[['index', 'lat', 'lng', 'x', 'y', 'cluster']]\n",
    "\n",
    "    print(f'End layer {n - 1} with {df_centroids.shape[0]} points')"
   ],
   "id": "9d2837ed05621c8e",
   "outputs": [
    {
     "name": "stdout",
     "output_type": "stream",
     "text": [
      "steps : [6, 5, 4, 3, 2]\n",
      "Begin layer 5 with 3 points\n",
      "- [Step 1] with 3 clusters\n",
      "- [Step 2] with 24 combinaisons\n",
      "- [Step 3]\n",
      "End layer 5 with 7 points\n",
      "Begin layer 4 with 7 points\n",
      "- [Step 1] with 7 clusters\n",
      "- [Step 2] with 15552 combinaisons\n",
      "- [Step 3]\n",
      "End layer 4 with 18 points\n",
      "Begin layer 3 with 18 points\n",
      "- [Step 1] with 18 clusters\n",
      "- [Step 2] with 1492992 combinaisons\n",
      "- [Step 3] with 35 points and distance min 5464.0\n",
      "End layer 3 with 35 points\n",
      "Begin layer 2 with 35 points\n",
      "- [Step 1] with 35 clusters\n",
      "- [Step 2] with 1990656 combinaisons\n",
      "- [Step 3] with 53 points and distance min 5564.0\n",
      "End layer 2 with 53 points\n",
      "Begin layer 1 with 53 points\n",
      "- [Step 3] with 70 points and distance min 5757.0\n",
      "End layer 1 with 70 points\n"
     ]
    }
   ],
   "execution_count": 8
  },
  {
   "metadata": {
    "ExecuteTime": {
     "end_time": "2025-10-16T21:41:37.932538Z",
     "start_time": "2025-10-16T21:41:37.929816Z"
    }
   },
   "cell_type": "code",
   "source": "",
   "id": "af089a1cc2231305",
   "outputs": [],
   "execution_count": null
  }
 ],
 "metadata": {
  "kernelspec": {
   "display_name": "Python 3",
   "language": "python",
   "name": "python3"
  },
  "language_info": {
   "codemirror_mode": {
    "name": "ipython",
    "version": 2
   },
   "file_extension": ".py",
   "mimetype": "text/x-python",
   "name": "python",
   "nbconvert_exporter": "python",
   "pygments_lexer": "ipython2",
   "version": "2.7.6"
  }
 },
 "nbformat": 4,
 "nbformat_minor": 5
}

{
 "cells": [
  {
   "cell_type": "code",
   "id": "initial_id",
   "metadata": {
    "collapsed": true,
    "ExecuteTime": {
     "end_time": "2025-10-16T21:41:00.874833Z",
     "start_time": "2025-10-16T21:40:42.009233Z"
    }
   },
   "source": [
    "import os\n",
    "\n",
    "from typing import List\n",
    "\n",
    "import pandas as pd\n",
    "import numpy as np\n",
    "import plotly.express as px\n",
    "from sklearn.cluster import KMeans\n",
    "from folium import Map, CircleMarker, PolyLine, FeatureGroup\n",
    "from shapely import MultiPoint, centroid\n",
    "from itertools import permutations, product, combinations, chain\n",
    "\n",
    "from formation.helpers.map import calcul_distances, calcul_distance\n",
    "\n",
    "import plotly.io as pio\n",
    "\n",
    "pio.get_chrome()"
   ],
   "outputs": [
    {
     "name": "stderr",
     "output_type": "stream",
     "text": [
      "2025-10-16 23:40:49.561 Thread 'MainThread': missing ScriptRunContext! This warning can be ignored when running in bare mode.\n"
     ]
    },
    {
     "data": {
      "text/plain": [
       "PosixPath('/home/jaden/Sources/followchon_back/.venv/lib/python3.12/site-packages/choreographer/cli/browser_exe/chrome-linux64/chrome')"
      ]
     },
     "execution_count": 1,
     "metadata": {},
     "output_type": "execute_result"
    }
   ],
   "execution_count": 1
  },
  {
   "metadata": {
    "ExecuteTime": {
     "end_time": "2025-10-16T21:41:00.948558Z",
     "start_time": "2025-10-16T21:41:00.942950Z"
    }
   },
   "cell_type": "code",
   "source": "COLORS = px.colors.qualitative.Vivid + px.colors.qualitative.Alphabet",
   "id": "eb25e3b09066dd5f",
   "outputs": [],
   "execution_count": 2
  },
  {
   "metadata": {
    "ExecuteTime": {
     "end_time": "2025-10-16T21:41:00.997920Z",
     "start_time": "2025-10-16T21:41:00.983760Z"
    }
   },
   "cell_type": "code",
   "source": [
    "def calcul_centroids(df_cluster_points: pd.DataFrame):\n",
    "    clusters = df_cluster_points['cluster'].unique()\n",
    "\n",
    "    df_centroids = pd.DataFrame()\n",
    "\n",
    "    for i in clusters:\n",
    "        cluster_points = df_cluster_points[df_cluster_points['cluster'] == str(i)].loc[:, ['lat', 'lng']].to_numpy()\n",
    "        c = centroid(MultiPoint(cluster_points))\n",
    "\n",
    "        df_centroids = pd.concat([\n",
    "            df_centroids,\n",
    "            pd.DataFrame({\n",
    "                'index': [i],\n",
    "                'lat': [c.x],\n",
    "                'lng': [c.y]\n",
    "            })\n",
    "        ], ignore_index=True)\n",
    "\n",
    "    df_centroids['index'] = df_centroids['index'].astype(str)\n",
    "    df_centroids['lat'] = df_centroids['lat'].astype(float)\n",
    "    df_centroids['lng'] = df_centroids['lng'].astype(float)\n",
    "\n",
    "    return calcul_distances(df_centroids.set_index('index'))\n",
    "\n",
    "def draw_map(df_points, end=False):\n",
    "    m = Map(\n",
    "        location=(46.227638, 2.213749),\n",
    "        zoom_start=6,\n",
    "    )\n",
    "\n",
    "    fg = FeatureGroup(name=\"Markers\")\n",
    "\n",
    "    for i, point in df_points.iterrows():\n",
    "        if 'lat' in point and 'lng' in point:\n",
    "            fg.add_child(\n",
    "                CircleMarker(\n",
    "                    location=[\n",
    "                        point['lat'],\n",
    "                        point['lng'],\n",
    "                    ],\n",
    "                    tooltip=f\"{point['index']} ({point['cluster']})\",\n",
    "                    fill=True,\n",
    "                    #color=COLORS[int(point['cluster'])],\n",
    "                    weight=0,\n",
    "                    fill_opacity=0.6,\n",
    "                    radius=15,\n",
    "                )\n",
    "            )\n",
    "\n",
    "        if 'center_lat' in point and 'center_lng' in point:\n",
    "            fg.add_child(\n",
    "                CircleMarker(\n",
    "                    location=[\n",
    "                        point['center_lat'],\n",
    "                        point['center_lng'],\n",
    "                    ],\n",
    "                    #tooltip=f\"{point['index']} ({point['cluster_current']})\",\n",
    "                    fill=True,\n",
    "                    #color=COLORS[int(point['cluster_current'])],\n",
    "                    weight=0,\n",
    "                    fill_opacity=0.6,\n",
    "                    radius=15,\n",
    "                )\n",
    "            )\n",
    "\n",
    "        if 'lat_next' in point and 'lng_next' in point:\n",
    "            fg.add_child(\n",
    "                PolyLine(\n",
    "                    locations=[\n",
    "                        [point['lat'], point['lng']],\n",
    "                        [point['lat_next'], point['lng_next']],\n",
    "                    ],\n",
    "                    color=\"black\",\n",
    "                    weight=4,\n",
    "                )\n",
    "            )\n",
    "\n",
    "    m.add_child(fg)\n",
    "\n",
    "    return m"
   ],
   "id": "68dfd383fc9df40c",
   "outputs": [],
   "execution_count": 3
  },
  {
   "metadata": {
    "ExecuteTime": {
     "end_time": "2025-10-16T21:41:01.066325Z",
     "start_time": "2025-10-16T21:41:01.044121Z"
    }
   },
   "cell_type": "code",
   "source": [
    "def best_path(df_centroids: pd.DataFrame, df_points: pd.DataFrame, df_points_distances: pd.DataFrame) -> pd.DataFrame | None:\n",
    "    cluster_indexes = list(df_centroids['index'].unique())\n",
    "    cluster_count = len(cluster_indexes)\n",
    "\n",
    "    print(f\"- [Step 1] with {cluster_count} clusters\")\n",
    "    tours_indexes = [\n",
    "        (\n",
    "            cluster_indexes[i],\n",
    "            cluster_indexes[(i + 1) % cluster_count],\n",
    "            cluster_indexes[(i + 2) % cluster_count]\n",
    "        )\n",
    "        for i in range(cluster_count)\n",
    "    ]\n",
    "\n",
    "    tours_dict = {}\n",
    "\n",
    "    for (cluster_prev, cluster_current, cluster_next) in tours_indexes:\n",
    "        # print(\"-- Step :\", (cluster_prev, cluster_current, cluster_next))\n",
    "\n",
    "        bridge = (cluster_prev, cluster_current, cluster_next)\n",
    "\n",
    "        tours_dict[bridge] = []\n",
    "\n",
    "        df_cluster_current = df_points[df_points['cluster'] == cluster_current]\n",
    "        df_cluster_prev = df_points[df_points['cluster'] == cluster_prev]\n",
    "        df_cluster_next = df_points[df_points['cluster'] == cluster_next]\n",
    "\n",
    "        bridges_prev = list(\n",
    "            product(\n",
    "                df_cluster_prev['index'].unique(),\n",
    "                df_cluster_current['index'].unique(),\n",
    "            )\n",
    "        )\n",
    "\n",
    "        bridges_next = list(\n",
    "            product(\n",
    "                df_cluster_current['index'].unique(),\n",
    "                df_cluster_next['index'].unique(),\n",
    "            )\n",
    "        )\n",
    "\n",
    "        bridge_paths = list(\n",
    "            product(bridges_prev, bridges_next)\n",
    "        )\n",
    "\n",
    "        for ((cluster_prev_in, cluster_current_in), (cluster_current_out, cluster_next_out)) in bridge_paths:\n",
    "            if cluster_current_in != cluster_current_out or df_cluster_current.shape[0] == 1:\n",
    "                if df_cluster_current.shape[0] == 1 and cluster_current_in == cluster_current_out:\n",
    "                    cluster_path = [cluster_current_in]\n",
    "                    if cluster_path not in tours_dict[bridge]:\n",
    "                        # print(\"--- Path :\", cluster_path)\n",
    "                        tours_dict[bridge].append(cluster_path)\n",
    "                else:\n",
    "                    cluster_between = df_cluster_current[\n",
    "                        (df_cluster_current['index'] != cluster_current_in) &\n",
    "                        (df_cluster_current['index'] != cluster_current_out)\n",
    "                        ]['index'].values\n",
    "\n",
    "                    for between in list(permutations(cluster_between)):\n",
    "                        cluster_path = [cluster_current_in] + list(between) + [cluster_current_out]\n",
    "\n",
    "                        if cluster_path not in tours_dict[bridge]:\n",
    "                            # print(\"--- Path :\", cluster_path)\n",
    "                            tours_dict[bridge].append(cluster_path)\n",
    "\n",
    "    values = list(tours_dict.values())\n",
    "    paths_pairs = []\n",
    "    paths = []\n",
    "\n",
    "    combinations_list = list(product(*values))\n",
    "\n",
    "    print(f\"- [Step 2] with {len(combinations_list)} combinaisons\")\n",
    "\n",
    "    if len(combinations_list) > calcul_max_combinations:\n",
    "        return None\n",
    "\n",
    "    for combination in combinations_list:\n",
    "        path = []\n",
    "        for step in combination:\n",
    "            path = path + step\n",
    "\n",
    "        pairs = list(zip(path[:-1], path[1:]))\n",
    "        pairs.append((path[-1], path[0]))\n",
    "\n",
    "        paths.append(path)\n",
    "        paths_pairs.append(pairs)\n",
    "\n",
    "    print(f\"- [Step 3]\")\n",
    "\n",
    "    distances = dict()\n",
    "    for i, path in enumerate(paths_pairs):\n",
    "        distance = 0\n",
    "        for point_a, point_b in path:\n",
    "            distance += df_points_distances[point_a][point_b]\n",
    "\n",
    "        distances[tuple(path)] = distance\n",
    "\n",
    "    tours_best_distance = min(distances.values())\n",
    "    tours_best_pairs = min(distances, key=distances.get)\n",
    "\n",
    "    points_prev, points_next = zip(*tours_best_pairs)\n",
    "\n",
    "    return pd.DataFrame({\n",
    "        'point_prev': list(points_prev),\n",
    "        'point_next': list(points_next),\n",
    "    }).merge(\n",
    "        df_points,\n",
    "        left_on='point_prev',\n",
    "        right_on='index',\n",
    "        how='left',\n",
    "    ).merge(\n",
    "        df_points,\n",
    "        left_on='point_next',\n",
    "        right_on='index',\n",
    "        how='left',\n",
    "        suffixes=('', '_next'),\n",
    "    ).drop(columns=['point_prev', 'point_next'])\n",
    "\n",
    "def calc_next(df_points: pd.DataFrame, df_points_distances: pd.DataFrame) -> pd.DataFrame:\n",
    "    df_points['index_next'] = df_points['index'].shift(periods=-1, fill_value='')\n",
    "    df_points['index_next'] = df_points['index_next'].astype(str)\n",
    "    df_points.loc[df_points.index[-1], 'index_next'] = df_points.iloc[0]['index']\n",
    "\n",
    "    df_points['cluster_next'] = df_points['cluster'].shift(periods=-1, fill_value='')\n",
    "    df_points.loc[df_points.index[-1], 'cluster_next'] = df_points.iloc[0]['cluster']\n",
    "\n",
    "    df_points['lat_next'] = df_points['lat'].shift(periods=-1, fill_value='')\n",
    "    df_points.loc[df_points.index[-1], 'lat_next'] = df_points.iloc[0]['lat']\n",
    "\n",
    "    df_points['lng_next'] = df_points['lng'].shift(periods=-1, fill_value='')\n",
    "    df_points.loc[df_points.index[-1], 'lng_next'] = df_points.iloc[0]['lng']\n",
    "\n",
    "    df_points['x_next'] = df_points['x'].shift(periods=-1, fill_value='')\n",
    "    df_points.loc[df_points.index[-1], 'x_next'] = df_points.iloc[0]['x']\n",
    "\n",
    "    df_points['y_neyt'] = df_points['y'].shift(periods=-1, fill_value='')\n",
    "    df_points.loc[df_points.index[-1], 'y_neyt'] = df_points.iloc[0]['y']\n",
    "\n",
    "    df_points['distance'] = df_points.apply(lambda x: df_points_distances[x['index']][x['index_next']], axis=1)\n",
    "\n",
    "    return df_points"
   ],
   "id": "e41356cd8b1f2633",
   "outputs": [],
   "execution_count": 4
  },
  {
   "metadata": {
    "ExecuteTime": {
     "end_time": "2025-10-16T21:41:01.105660Z",
     "start_time": "2025-10-16T21:41:01.097776Z"
    }
   },
   "cell_type": "code",
   "source": [
    "def simple_path(df_centroids: pd.DataFrame, df_points: pd.DataFrame, df_points_distances: pd.DataFrame) -> pd.DataFrame:\n",
    "    centroids_order = df_centroids['index'].to_dict()\n",
    "    centroids_order = {v: k for k, v in centroids_order.items()}\n",
    "\n",
    "    df_points['order'] = df_points['cluster'].apply(lambda x: centroids_order[x])\n",
    "    df_points = df_points.sort_values('order').reset_index(drop=True).drop(columns=['order'])\n",
    "\n",
    "    df_points = calc_next(df_points, df_points_distances)\n",
    "\n",
    "    distance_total = df_points['distance'].sum()\n",
    "    cluster_prev = None\n",
    "    index_prev = None\n",
    "\n",
    "    print(f'- [Step 3] with {df_points.shape[0]} points and distance min {distance_total}')\n",
    "\n",
    "    for index_current, point in df_points.iterrows():\n",
    "        # if cluster_prev is not None and index_prev is not None and point['cluster'] == cluster_prev:\n",
    "        if index_prev is not None and index_current > index_prev:\n",
    "            # print(f'-- Cluster {cluster_prev} with distance min {distance_total}')\n",
    "\n",
    "            df_points_copy = df_points.copy()\n",
    "            df_points_copy.iloc[[index_current, index_prev]] = df_points_copy.iloc[[index_prev, index_current]].values\n",
    "\n",
    "            df_points_copy = calc_next(df_points_copy, df_points_distances)\n",
    "\n",
    "            distance_total_new = df_points_copy['distance'].sum()\n",
    "            if distance_total_new < distance_total:\n",
    "                distance_total = distance_total_new\n",
    "                df_points = df_points_copy\n",
    "        # else:\n",
    "        # cluster_prev = str(point['cluster'])\n",
    "        # index_prev = index_current\n",
    "\n",
    "        index_prev = index_current\n",
    "\n",
    "    return df_points"
   ],
   "id": "c2123716186088ab",
   "outputs": [],
   "execution_count": 5
  },
  {
   "metadata": {
    "ExecuteTime": {
     "end_time": "2025-10-16T21:41:01.261094Z",
     "start_time": "2025-10-16T21:41:01.158995Z"
    }
   },
   "cell_type": "code",
   "source": [
    "df_cities = pd.read_csv(\n",
    "    '../data/formated/cities-france.csv',\n",
    "    dtype={'code_insee': str, 'dep_code': str, 'nom_standard': str, 'latitude_mairie': float, 'longitude_mairie': float},\n",
    ").rename(columns={'code_insee': 'index', 'nom_standard': 'name', 'latitude_mairie': 'lat', 'longitude_mairie': 'lng'}) \\\n",
    "    .set_index('index') \\\n",
    "    .loc[:, ['lat', 'lng']]"
   ],
   "id": "7f7bcfe28a171997",
   "outputs": [],
   "execution_count": 6
  },
  {
   "metadata": {
    "ExecuteTime": {
     "end_time": "2025-10-16T21:41:32.348379Z",
     "start_time": "2025-10-16T21:41:01.288189Z"
    }
   },
   "cell_type": "code",
   "source": [
    "city_count = 70\n",
    "cluster_max_length = 3\n",
    "cluster_min_length = 3\n",
    "calcul_max_combinations = 40000 #30000 #20000\n",
    "calcul_max_clusters = 40 #30 #20\n",
    "\n",
    "df_points_coords, df_points_distances = calcul_distances(df_cities.sample(city_count))\n",
    "\n",
    "if not os.path.exists('data'):\n",
    "    os.makedirs('data')\n",
    "\n",
    "if not os.path.exists('export'):\n",
    "    os.makedirs('export')\n",
    "\n",
    "steps_count = 1\n",
    "\n",
    "while True:\n",
    "    print(f'Step {steps_count} with {df_points_coords.shape[0]} points')\n",
    "\n",
    "    points = df_points_coords.loc[:,['x', 'y']].to_numpy()\n",
    "\n",
    "    k_kmeans = 1\n",
    "    points_by_cluster = None\n",
    "\n",
    "    if df_points_coords.shape[0] > cluster_min_length:\n",
    "        if cluster_max_length ** 2 > df_points_coords.shape[0]:\n",
    "            k_kmeans = cluster_min_length\n",
    "        else:\n",
    "            k_kmeans = df_points_coords.shape[0] // cluster_max_length\n",
    "\n",
    "    while points_by_cluster is None or points_by_cluster > cluster_max_length:\n",
    "        model_kmeans = KMeans(n_clusters=k_kmeans)\n",
    "        model_kmeans.fit(points)\n",
    "        df_points_coords['cluster'] = model_kmeans.predict(points)\n",
    "        df_points_coords['cluster'] = df_points_coords['cluster'].astype(str)\n",
    "\n",
    "        points_by_cluster = df_points_coords[['cluster', 'index']].groupby('cluster').count().max().values[0]\n",
    "\n",
    "        print(f'- with {k_kmeans} clusters with {points_by_cluster} max size')\n",
    "\n",
    "        if points_by_cluster > cluster_max_length:\n",
    "            k_kmeans += 1\n",
    "\n",
    "    draw_map(df_points_coords.reset_index()).save(f'export/step_{steps_count}_map.html')\n",
    "\n",
    "    df_points_coords.to_csv(f'data/step_{steps_count}_points.csv', index=False)\n",
    "    df_points_distances.to_csv(f'data/step_{steps_count}_distances.csv')\n",
    "\n",
    "    fig = px.scatter(\n",
    "        df_points_coords.reset_index(),\n",
    "        x='x',\n",
    "        y='y',\n",
    "        color='cluster',\n",
    "        hover_name='index',\n",
    "        height=700,\n",
    "        size=[1] * df_points_coords.shape[0],\n",
    "    )\n",
    "    fig.write_image(f\"export/step_{steps_count}_points.jpg\")\n",
    "\n",
    "    if df_points_coords.shape[0] > cluster_min_length:\n",
    "        df_centroids_coords, df_centroids_distances = calcul_centroids(df_points_coords)\n",
    "\n",
    "        df_points_coords, df_points_distances = df_centroids_coords, df_centroids_distances\n",
    "\n",
    "        steps_count += 1\n",
    "    else:\n",
    "        break"
   ],
   "id": "e326bcd16445604c",
   "outputs": [
    {
     "name": "stderr",
     "output_type": "stream",
     "text": [
      "/home/jaden/Sources/followchon_back/.venv/lib/python3.12/site-packages/sklearn/manifold/_mds.py:677: FutureWarning:\n",
      "\n",
      "The default value of `n_init` will change from 4 to 1 in 1.9.\n",
      "\n"
     ]
    },
    {
     "name": "stdout",
     "output_type": "stream",
     "text": [
      "Step 1 with 70 points\n",
      "- with 23 clusters with 9 max size\n",
      "- with 24 clusters with 6 max size\n",
      "- with 25 clusters with 7 max size\n",
      "- with 26 clusters with 6 max size\n",
      "- with 27 clusters with 7 max size\n",
      "- with 28 clusters with 6 max size\n",
      "- with 29 clusters with 6 max size\n",
      "- with 30 clusters with 5 max size\n",
      "- with 31 clusters with 6 max size\n",
      "- with 32 clusters with 6 max size\n",
      "- with 33 clusters with 6 max size\n",
      "- with 34 clusters with 5 max size\n",
      "- with 35 clusters with 7 max size\n",
      "- with 36 clusters with 6 max size\n",
      "- with 37 clusters with 5 max size\n",
      "- with 38 clusters with 6 max size\n",
      "- with 39 clusters with 6 max size\n",
      "- with 40 clusters with 5 max size\n",
      "- with 41 clusters with 4 max size\n",
      "- with 42 clusters with 4 max size\n",
      "- with 43 clusters with 6 max size\n",
      "- with 44 clusters with 5 max size\n",
      "- with 45 clusters with 4 max size\n",
      "- with 46 clusters with 4 max size\n",
      "- with 47 clusters with 4 max size\n",
      "- with 48 clusters with 5 max size\n",
      "- with 49 clusters with 4 max size\n",
      "- with 50 clusters with 4 max size\n",
      "- with 51 clusters with 4 max size\n",
      "- with 52 clusters with 5 max size\n",
      "- with 53 clusters with 3 max size\n"
     ]
    },
    {
     "name": "stderr",
     "output_type": "stream",
     "text": [
      "/home/jaden/Sources/followchon_back/.venv/lib/python3.12/site-packages/sklearn/manifold/_mds.py:677: FutureWarning:\n",
      "\n",
      "The default value of `n_init` will change from 4 to 1 in 1.9.\n",
      "\n"
     ]
    },
    {
     "name": "stdout",
     "output_type": "stream",
     "text": [
      "Step 2 with 53 points\n",
      "- with 17 clusters with 6 max size\n",
      "- with 18 clusters with 7 max size\n",
      "- with 19 clusters with 6 max size\n",
      "- with 20 clusters with 5 max size\n",
      "- with 21 clusters with 4 max size\n",
      "- with 22 clusters with 5 max size\n",
      "- with 23 clusters with 4 max size\n",
      "- with 24 clusters with 4 max size\n",
      "- with 25 clusters with 4 max size\n",
      "- with 26 clusters with 4 max size\n",
      "- with 27 clusters with 4 max size\n",
      "- with 28 clusters with 5 max size\n",
      "- with 29 clusters with 5 max size\n",
      "- with 30 clusters with 4 max size\n",
      "- with 31 clusters with 4 max size\n",
      "- with 32 clusters with 4 max size\n",
      "- with 33 clusters with 4 max size\n",
      "- with 34 clusters with 4 max size\n",
      "- with 35 clusters with 3 max size\n"
     ]
    },
    {
     "name": "stderr",
     "output_type": "stream",
     "text": [
      "/home/jaden/Sources/followchon_back/.venv/lib/python3.12/site-packages/sklearn/manifold/_mds.py:677: FutureWarning:\n",
      "\n",
      "The default value of `n_init` will change from 4 to 1 in 1.9.\n",
      "\n"
     ]
    },
    {
     "name": "stdout",
     "output_type": "stream",
     "text": [
      "Step 3 with 35 points\n",
      "- with 11 clusters with 6 max size\n",
      "- with 12 clusters with 5 max size\n",
      "- with 13 clusters with 6 max size\n",
      "- with 14 clusters with 6 max size\n",
      "- with 15 clusters with 4 max size\n",
      "- with 16 clusters with 5 max size\n",
      "- with 17 clusters with 4 max size\n",
      "- with 18 clusters with 3 max size\n"
     ]
    },
    {
     "name": "stderr",
     "output_type": "stream",
     "text": [
      "/home/jaden/Sources/followchon_back/.venv/lib/python3.12/site-packages/sklearn/manifold/_mds.py:677: FutureWarning:\n",
      "\n",
      "The default value of `n_init` will change from 4 to 1 in 1.9.\n",
      "\n"
     ]
    },
    {
     "name": "stdout",
     "output_type": "stream",
     "text": [
      "Step 4 with 18 points\n",
      "- with 6 clusters with 5 max size\n",
      "- with 7 clusters with 3 max size\n"
     ]
    },
    {
     "name": "stderr",
     "output_type": "stream",
     "text": [
      "/home/jaden/Sources/followchon_back/.venv/lib/python3.12/site-packages/sklearn/manifold/_mds.py:677: FutureWarning:\n",
      "\n",
      "The default value of `n_init` will change from 4 to 1 in 1.9.\n",
      "\n"
     ]
    },
    {
     "name": "stdout",
     "output_type": "stream",
     "text": [
      "Step 5 with 7 points\n",
      "- with 3 clusters with 3 max size\n"
     ]
    },
    {
     "name": "stderr",
     "output_type": "stream",
     "text": [
      "/home/jaden/Sources/followchon_back/.venv/lib/python3.12/site-packages/sklearn/manifold/_mds.py:677: FutureWarning:\n",
      "\n",
      "The default value of `n_init` will change from 4 to 1 in 1.9.\n",
      "\n"
     ]
    },
    {
     "name": "stdout",
     "output_type": "stream",
     "text": [
      "Step 6 with 3 points\n",
      "- with 1 clusters with 3 max size\n"
     ]
    }
   ],
   "execution_count": 7
  },
  {
   "metadata": {
    "ExecuteTime": {
     "end_time": "2025-10-16T21:41:37.918953Z",
     "start_time": "2025-10-16T21:41:32.371897Z"
    }
   },
   "cell_type": "code",
   "source": [
    "steps_list = range(2, steps_count + 1)[::-1]\n",
    "print(\"steps :\", list(steps_list))\n",
    "df_tour = pd.DataFrame()\n",
    "\n",
    "n = steps_list[0]\n",
    "df_centroids = pd.read_csv('data/step_' + str(n) + '_points.csv', dtype={'index': str, 'cluster': str})\n",
    "\n",
    "for n in steps_list:\n",
    "    df_cluster = None\n",
    "\n",
    "    df_centroids_distances = pd.read_csv('data/step_' + str(n) + '_distances.csv', dtype={'index': str})\n",
    "    df_centroids_distances = df_centroids_distances.set_index('index')\n",
    "\n",
    "    print(f'Begin layer {n - 1} with {df_centroids.shape[0]} points')\n",
    "\n",
    "    df_points = pd.read_csv('data/step_' + str(n - 1) + '_points.csv', dtype={'index': str, 'cluster': str})\n",
    "\n",
    "    df_points_distances = pd.read_csv('data/step_' + str(n - 1) + '_distances.csv', dtype={'index': str})\n",
    "    df_points_distances = df_points_distances.set_index('index')\n",
    "\n",
    "    if df_centroids.shape[0] < calcul_max_clusters:\n",
    "        df_cluster = best_path(df_centroids, df_points, df_points_distances)\n",
    "\n",
    "    if df_cluster is None:\n",
    "        df_cluster = simple_path(df_centroids, df_points, df_points_distances)\n",
    "\n",
    "    draw_map(df_cluster, True).save(f'export/step_{n - 1}_map.html')\n",
    "    df_centroids = df_cluster[['index', 'lat', 'lng', 'x', 'y', 'cluster']]\n",
    "\n",
    "    print(f'End layer {n - 1} with {df_centroids.shape[0]} points')"
   ],
   "id": "9d2837ed05621c8e",
   "outputs": [
    {
     "name": "stdout",
     "output_type": "stream",
     "text": [
      "steps : [6, 5, 4, 3, 2]\n",
      "Begin layer 5 with 3 points\n",
      "- [Step 1] with 3 clusters\n",
      "- [Step 2] with 24 combinaisons\n",
      "- [Step 3]\n",
      "End layer 5 with 7 points\n",
      "Begin layer 4 with 7 points\n",
      "- [Step 1] with 7 clusters\n",
      "- [Step 2] with 15552 combinaisons\n",
      "- [Step 3]\n",
      "End layer 4 with 18 points\n",
      "Begin layer 3 with 18 points\n",
      "- [Step 1] with 18 clusters\n",
      "- [Step 2] with 1492992 combinaisons\n",
      "- [Step 3] with 35 points and distance min 5464.0\n",
      "End layer 3 with 35 points\n",
      "Begin layer 2 with 35 points\n",
      "- [Step 1] with 35 clusters\n",
      "- [Step 2] with 1990656 combinaisons\n",
      "- [Step 3] with 53 points and distance min 5564.0\n",
      "End layer 2 with 53 points\n",
      "Begin layer 1 with 53 points\n",
      "- [Step 3] with 70 points and distance min 5757.0\n",
      "End layer 1 with 70 points\n"
     ]
    }
   ],
   "execution_count": 8
  },
  {
   "metadata": {
    "ExecuteTime": {
     "end_time": "2025-10-16T21:41:37.932538Z",
     "start_time": "2025-10-16T21:41:37.929816Z"
    }
   },
   "cell_type": "code",
   "source": "",
   "id": "af089a1cc2231305",
   "outputs": [],
   "execution_count": null
  }
 ],
 "metadata": {
  "kernelspec": {
   "display_name": "Python 3",
   "language": "python",
   "name": "python3"
  },
  "language_info": {
   "codemirror_mode": {
    "name": "ipython",
    "version": 2
   },
   "file_extension": ".py",
   "mimetype": "text/x-python",
   "name": "python",
   "nbconvert_exporter": "python",
   "pygments_lexer": "ipython2",
   "version": "2.7.6"
  }
 },
 "nbformat": 4,
 "nbformat_minor": 5
}
